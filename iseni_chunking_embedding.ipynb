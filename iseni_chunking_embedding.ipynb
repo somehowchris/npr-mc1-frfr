{
 "cells": [
  {
   "cell_type": "code",
   "id": "initial_id",
   "metadata": {
    "collapsed": true,
    "ExecuteTime": {
     "end_time": "2024-11-05T18:37:02.476050Z",
     "start_time": "2024-11-05T18:37:01.331111Z"
    }
   },
   "source": [
    "import pandas as pd\n",
    "from tqdm import tqdm\n",
    "from pandarallel import pandarallel\n",
    "from langchain_huggingface import HuggingFaceEndpointEmbeddings\n",
    "from langchain.document_loaders import DirectoryLoader\n",
    "from langchain_experimental.text_splitter import SemanticChunker\n",
    "from langchain.schema import Document\n",
    "pandarallel.initialize(progress_bar=True, verbose=0)\n",
    "tqdm.pandas()\n",
    "import os\n",
    "from openai import OpenAI\n",
    "import numpy as np\n",
    "import chromadb\n",
    "from chromadb.config import Settings\n",
    "\n",
    "with open('secrets.txt', 'r') as f:\n",
    "    lines = f.readlines()\n",
    "    for line in lines:\n",
    "        if line.startswith('openai'):\n",
    "            secret = line.split('=')[1].strip()\n",
    "\n",
    "os.environ[\"OPENAI_API_KEY\"] = secret\n",
    "\n",
    "storage_path = './data/chromadb'"
   ],
   "outputs": [],
   "execution_count": 2
  },
  {
   "metadata": {
    "ExecuteTime": {
     "end_time": "2024-11-05T18:37:02.876755Z",
     "start_time": "2024-11-05T18:37:02.477002Z"
    }
   },
   "cell_type": "code",
   "source": "df = pd.read_parquet(\"data/clean_cleantech.parquet\")",
   "id": "6ce92c13f18b5cdb",
   "outputs": [],
   "execution_count": 3
  },
  {
   "metadata": {
    "ExecuteTime": {
     "end_time": "2024-11-05T18:37:02.881851Z",
     "start_time": "2024-11-05T18:37:02.877966Z"
    }
   },
   "cell_type": "code",
   "source": "df.content[0][:100]",
   "id": "8b67a6467d825df1",
   "outputs": [
    {
     "data": {
      "text/plain": [
       "'New US President Joe Biden took office this week with the US China relationship at its worst in deca'"
      ]
     },
     "execution_count": 4,
     "metadata": {},
     "output_type": "execute_result"
    }
   ],
   "execution_count": 4
  },
  {
   "metadata": {
    "ExecuteTime": {
     "end_time": "2024-11-05T18:37:03.151036Z",
     "start_time": "2024-11-05T18:37:03.046088Z"
    }
   },
   "cell_type": "code",
   "source": [
    "with open('secrets.txt', 'r') as f:\n",
    "    lines = f.readlines()\n",
    "    for line in lines:\n",
    "        if line.startswith('api_token'):\n",
    "            token = line.split('=')[1].strip()\n",
    "\n",
    "embeddings = HuggingFaceEndpointEmbeddings(\n",
    "    model='http://100.67.185.22:8080',\n",
    "    huggingfacehub_api_token=token\n",
    ")\n",
    "\n",
    "text_splitter = SemanticChunker(\n",
    "    embeddings,\n",
    "    breakpoint_threshold_type='standard_deviation'\n",
    ")"
   ],
   "id": "177fed536c391d76",
   "outputs": [],
   "execution_count": 5
  },
  {
   "metadata": {
    "ExecuteTime": {
     "end_time": "2024-11-05T18:37:03.471306Z",
     "start_time": "2024-11-05T18:37:03.469175Z"
    }
   },
   "cell_type": "code",
   "source": [
    " # split the text into chunks\n",
    "def split_text(documents: list[Document]):\n",
    "    chunks = text_splitter.split_documents(documents)\n",
    "\n",
    "    return chunks"
   ],
   "id": "ba7198a0cb5ed3a4",
   "outputs": [],
   "execution_count": 6
  },
  {
   "metadata": {
    "ExecuteTime": {
     "end_time": "2024-11-05T18:37:04.084908Z",
     "start_time": "2024-11-05T18:37:04.033016Z"
    }
   },
   "cell_type": "code",
   "source": [
    "query_result = embeddings.embed_query(\"Hello, world!\")\n",
    "query_result[:3]"
   ],
   "id": "840feb7d2339660a",
   "outputs": [
    {
     "data": {
      "text/plain": [
       "[-0.015927615, 0.026893413, -0.042682685]"
      ]
     },
     "execution_count": 7,
     "metadata": {},
     "output_type": "execute_result"
    }
   ],
   "execution_count": 7
  },
  {
   "metadata": {},
   "cell_type": "markdown",
   "source": [
    "# Chunking with Semantic Chunker from langchain\n",
    "### Breakpoint: Standard Deviation"
   ],
   "id": "df839abd6bf257ea"
  },
  {
   "metadata": {},
   "cell_type": "code",
   "source": "df['chunks'] = df['content'].parallel_apply(lambda content: split_text([Document(content)]))",
   "id": "af64f849d8c0de1f",
   "outputs": [],
   "execution_count": null
  },
  {
   "metadata": {},
   "cell_type": "code",
   "source": "df.head(3)",
   "id": "ef263715a1b4fe3a",
   "outputs": [],
   "execution_count": null
  },
  {
   "metadata": {},
   "cell_type": "code",
   "source": "df['chunk_size'] = df['chunks'].progress_apply(len)",
   "id": "426feab65131fd1f",
   "outputs": [],
   "execution_count": null
  },
  {
   "metadata": {},
   "cell_type": "code",
   "source": "df.head(3)",
   "id": "d50a821060768953",
   "outputs": [],
   "execution_count": null
  },
  {
   "metadata": {},
   "cell_type": "code",
   "source": "df['chunks'] = df['chunks'].progress_apply(lambda x: [t.page_content for t in x])",
   "id": "ce7585d47e357191",
   "outputs": [],
   "execution_count": null
  },
  {
   "metadata": {},
   "cell_type": "code",
   "source": "df.sample(5)",
   "id": "a9a5eefad6b8d205",
   "outputs": [],
   "execution_count": null
  },
  {
   "metadata": {},
   "cell_type": "code",
   "source": "df.to_parquet('data/processed/chunked_sd.parquet')",
   "id": "b21eb273c2794fc1",
   "outputs": [],
   "execution_count": null
  },
  {
   "metadata": {},
   "cell_type": "code",
   "source": "df_chunked = pd.read_parquet('data/processed/chunked_sd.parquet')",
   "id": "78e471fd626eca82",
   "outputs": [],
   "execution_count": null
  },
  {
   "metadata": {},
   "cell_type": "code",
   "source": [
    "# remove empty chunks\n",
    "df_chunked['chunks'] = df_chunked['chunks'].progress_apply(lambda x: [y for y in x if len(y) > 0])"
   ],
   "id": "44c03b2a5ed27b55",
   "outputs": [],
   "execution_count": null
  },
  {
   "metadata": {},
   "cell_type": "markdown",
   "source": [
    "# Embed the Chunks\n",
    "### model: BAAI/bge-m3"
   ],
   "id": "1fb9b55946e5343c"
  },
  {
   "metadata": {},
   "cell_type": "code",
   "source": [
    "# embed the chunks\n",
    "df_chunked['embeddings'] = df_chunked['chunks'].parallel_apply(embeddings.embed_documents)"
   ],
   "id": "c6853c4bf5f52da3",
   "outputs": [],
   "execution_count": null
  },
  {
   "metadata": {},
   "cell_type": "code",
   "source": "df_chunked.head(3)",
   "id": "f02eb8d52267756b",
   "outputs": [],
   "execution_count": null
  },
  {
   "metadata": {},
   "cell_type": "code",
   "source": [
    "# save the chunked and embedded data\n",
    "df_chunked.to_parquet('data/processed/chunked_sd_embedded.parquet')"
   ],
   "id": "3b33a97b2e70db89",
   "outputs": [],
   "execution_count": null
  },
  {
   "metadata": {},
   "cell_type": "markdown",
   "source": [
    "# Setting up the ChromaDB\n",
    "preparing the embedded parquet fiel for ChromaDB"
   ],
   "id": "e3fd17512b7c5e02"
  },
  {
   "metadata": {
    "ExecuteTime": {
     "end_time": "2024-11-05T18:34:03.449085Z",
     "start_time": "2024-11-05T18:34:02.600444Z"
    }
   },
   "cell_type": "code",
   "source": "df = pd.read_parquet('data/processed/chunked_sd_embedded.parquet')",
   "id": "b2d739d77d91a762",
   "outputs": [],
   "execution_count": 7
  },
  {
   "metadata": {
    "ExecuteTime": {
     "end_time": "2024-11-05T18:34:03.504177Z",
     "start_time": "2024-11-05T18:34:03.450128Z"
    }
   },
   "cell_type": "code",
   "source": "df.head(3)",
   "id": "13035ac396307334",
   "outputs": [
    {
     "data": {
      "text/plain": [
       "   doc_id                                              title       date  \\\n",
       "0    1283              New Chapter for US-China Energy Trade 2021-01-20   \n",
       "1    1284  Japan: Slow Restarts Cast Doubt on 2030 Energy... 2021-01-22   \n",
       "2    1287     Biden Appointees Signal Progressive Engagement 2021-01-28   \n",
       "\n",
       "                                             content       domain  \\\n",
       "0  New US President Joe Biden took office this we...  energyintel   \n",
       "1  The slow pace of Japanese reactor restarts con...  energyintel   \n",
       "2  Oil and natural gas industry officials have be...  energyintel   \n",
       "\n",
       "                                                 url language  \\\n",
       "0  https://www.energyintel.com/0000017b-a7dc-de4c...       en   \n",
       "1  https://www.energyintel.com/0000017b-a7dc-de4c...       en   \n",
       "2  https://www.energyintel.com/0000017b-a7dc-de4c...       en   \n",
       "\n",
       "                           classification_prediction  \\\n",
       "0  {'labels': ['Text Blog', 'Text Report', 'Text ...   \n",
       "1  {'labels': ['Text Report', 'Text Blog', 'Text ...   \n",
       "2  {'labels': ['Text Report', 'Text Blog', 'Text ...   \n",
       "\n",
       "                                              labels  \\\n",
       "0  [Text Blog, Text Report, Text Paragraph, Topic...   \n",
       "1  [Text Report, Text Blog, Text Paragraph, Topic...   \n",
       "2  [Text Report, Text Blog, Text Paragraph, Topic...   \n",
       "\n",
       "                                              scores  pos_score  \\\n",
       "0  [0.2568563222885132, 0.19991767406463623, 0.19...   0.655545   \n",
       "1  [0.2845178246498108, 0.21136364340782166, 0.17...   0.667931   \n",
       "2  [0.2419334203004837, 0.24028132855892181, 0.18...   0.669386   \n",
       "\n",
       "                                                 ner  \\\n",
       "0  [{'end_pos': 6, 'labels': [{'confidence': 0.99...   \n",
       "1  [{'end_pos': 25, 'labels': [{'confidence': 0.9...   \n",
       "2  [{'end_pos': 108, 'labels': [{'confidence': 0....   \n",
       "\n",
       "                                              chunks  chunk_size  \\\n",
       "0  [New US President Joe Biden took office this w...           1   \n",
       "1  [The slow pace of Japanese reactor restarts co...           1   \n",
       "2  [Oil and natural gas industry officials have b...           2   \n",
       "\n",
       "                                          embeddings  \n",
       "0  [[-0.050721478, 0.015130312, -0.07786225, -0.0...  \n",
       "1  [[-0.008017545, 0.010898267, 0.019652307, -0.0...  \n",
       "2  [[-0.054703966, 0.016294397, -0.052405797, -0....  "
      ],
      "text/html": [
       "<div>\n",
       "<style scoped>\n",
       "    .dataframe tbody tr th:only-of-type {\n",
       "        vertical-align: middle;\n",
       "    }\n",
       "\n",
       "    .dataframe tbody tr th {\n",
       "        vertical-align: top;\n",
       "    }\n",
       "\n",
       "    .dataframe thead th {\n",
       "        text-align: right;\n",
       "    }\n",
       "</style>\n",
       "<table border=\"1\" class=\"dataframe\">\n",
       "  <thead>\n",
       "    <tr style=\"text-align: right;\">\n",
       "      <th></th>\n",
       "      <th>doc_id</th>\n",
       "      <th>title</th>\n",
       "      <th>date</th>\n",
       "      <th>content</th>\n",
       "      <th>domain</th>\n",
       "      <th>url</th>\n",
       "      <th>language</th>\n",
       "      <th>classification_prediction</th>\n",
       "      <th>labels</th>\n",
       "      <th>scores</th>\n",
       "      <th>pos_score</th>\n",
       "      <th>ner</th>\n",
       "      <th>chunks</th>\n",
       "      <th>chunk_size</th>\n",
       "      <th>embeddings</th>\n",
       "    </tr>\n",
       "  </thead>\n",
       "  <tbody>\n",
       "    <tr>\n",
       "      <th>0</th>\n",
       "      <td>1283</td>\n",
       "      <td>New Chapter for US-China Energy Trade</td>\n",
       "      <td>2021-01-20</td>\n",
       "      <td>New US President Joe Biden took office this we...</td>\n",
       "      <td>energyintel</td>\n",
       "      <td>https://www.energyintel.com/0000017b-a7dc-de4c...</td>\n",
       "      <td>en</td>\n",
       "      <td>{'labels': ['Text Blog', 'Text Report', 'Text ...</td>\n",
       "      <td>[Text Blog, Text Report, Text Paragraph, Topic...</td>\n",
       "      <td>[0.2568563222885132, 0.19991767406463623, 0.19...</td>\n",
       "      <td>0.655545</td>\n",
       "      <td>[{'end_pos': 6, 'labels': [{'confidence': 0.99...</td>\n",
       "      <td>[New US President Joe Biden took office this w...</td>\n",
       "      <td>1</td>\n",
       "      <td>[[-0.050721478, 0.015130312, -0.07786225, -0.0...</td>\n",
       "    </tr>\n",
       "    <tr>\n",
       "      <th>1</th>\n",
       "      <td>1284</td>\n",
       "      <td>Japan: Slow Restarts Cast Doubt on 2030 Energy...</td>\n",
       "      <td>2021-01-22</td>\n",
       "      <td>The slow pace of Japanese reactor restarts con...</td>\n",
       "      <td>energyintel</td>\n",
       "      <td>https://www.energyintel.com/0000017b-a7dc-de4c...</td>\n",
       "      <td>en</td>\n",
       "      <td>{'labels': ['Text Report', 'Text Blog', 'Text ...</td>\n",
       "      <td>[Text Report, Text Blog, Text Paragraph, Topic...</td>\n",
       "      <td>[0.2845178246498108, 0.21136364340782166, 0.17...</td>\n",
       "      <td>0.667931</td>\n",
       "      <td>[{'end_pos': 25, 'labels': [{'confidence': 0.9...</td>\n",
       "      <td>[The slow pace of Japanese reactor restarts co...</td>\n",
       "      <td>1</td>\n",
       "      <td>[[-0.008017545, 0.010898267, 0.019652307, -0.0...</td>\n",
       "    </tr>\n",
       "    <tr>\n",
       "      <th>2</th>\n",
       "      <td>1287</td>\n",
       "      <td>Biden Appointees Signal Progressive Engagement</td>\n",
       "      <td>2021-01-28</td>\n",
       "      <td>Oil and natural gas industry officials have be...</td>\n",
       "      <td>energyintel</td>\n",
       "      <td>https://www.energyintel.com/0000017b-a7dc-de4c...</td>\n",
       "      <td>en</td>\n",
       "      <td>{'labels': ['Text Report', 'Text Blog', 'Text ...</td>\n",
       "      <td>[Text Report, Text Blog, Text Paragraph, Topic...</td>\n",
       "      <td>[0.2419334203004837, 0.24028132855892181, 0.18...</td>\n",
       "      <td>0.669386</td>\n",
       "      <td>[{'end_pos': 108, 'labels': [{'confidence': 0....</td>\n",
       "      <td>[Oil and natural gas industry officials have b...</td>\n",
       "      <td>2</td>\n",
       "      <td>[[-0.054703966, 0.016294397, -0.052405797, -0....</td>\n",
       "    </tr>\n",
       "  </tbody>\n",
       "</table>\n",
       "</div>"
      ]
     },
     "execution_count": 8,
     "metadata": {},
     "output_type": "execute_result"
    }
   ],
   "execution_count": 8
  },
  {
   "metadata": {
    "ExecuteTime": {
     "end_time": "2024-11-05T18:34:03.507874Z",
     "start_time": "2024-11-05T18:34:03.505067Z"
    }
   },
   "cell_type": "code",
   "source": "df.embeddings[0]",
   "id": "4a0b53a5da26f654",
   "outputs": [
    {
     "data": {
      "text/plain": [
       "array([array([-0.05072148,  0.01513031, -0.07786225, ..., -0.00130273,\n",
       "              -0.01237413, -0.03548589])                              ],\n",
       "      dtype=object)"
      ]
     },
     "execution_count": 9,
     "metadata": {},
     "output_type": "execute_result"
    }
   ],
   "execution_count": 9
  },
  {
   "metadata": {
    "ExecuteTime": {
     "end_time": "2024-11-05T18:34:03.512568Z",
     "start_time": "2024-11-05T18:34:03.509522Z"
    }
   },
   "cell_type": "code",
   "source": "type(df.embeddings[0]), type(df.embeddings[0][0])",
   "id": "a27b7102af3d3f4",
   "outputs": [
    {
     "data": {
      "text/plain": [
       "(numpy.ndarray, numpy.ndarray)"
      ]
     },
     "execution_count": 10,
     "metadata": {},
     "output_type": "execute_result"
    }
   ],
   "execution_count": 10
  },
  {
   "metadata": {},
   "cell_type": "markdown",
   "source": "### preparing the data for ChromaDB",
   "id": "ce53f73160ac02d3"
  },
  {
   "metadata": {
    "ExecuteTime": {
     "end_time": "2024-11-05T18:37:07.124258Z",
     "start_time": "2024-11-05T18:37:07.120568Z"
    }
   },
   "cell_type": "code",
   "source": [
    "# Flatten, pad/truncate, and convert each embedding to a consistent 1D np.float32 array\n",
    "def prepare_embedding_for_chromadb(embedding):\n",
    "    # Flatten the embedding if it's nested\n",
    "    flat_embedding = [float(val) for sublist in embedding for val in sublist] if isinstance(embedding[0], (list, np.ndarray)) else embedding\n",
    "    \n",
    "    # Ensure the embedding is exactly 2048 dimensions\n",
    "    if len(flat_embedding) < 2048:\n",
    "        flat_embedding.extend([0.0] * (2048 - len(flat_embedding)))  # Pad with zeros if too short\n",
    "    elif len(flat_embedding) > 2048:\n",
    "        flat_embedding = flat_embedding[:2048]  # Truncate if too long\n",
    "    \n",
    "    # Convert to np.float32\n",
    "    return np.array(flat_embedding, dtype=np.float32)"
   ],
   "id": "70cd4512118618d1",
   "outputs": [],
   "execution_count": 8
  },
  {
   "metadata": {
    "ExecuteTime": {
     "end_time": "2024-11-05T18:34:13.042050Z",
     "start_time": "2024-11-05T18:34:06.613444Z"
    }
   },
   "cell_type": "code",
   "source": [
    "# Apply the function to prepare embeddings\n",
    "tqdm.pandas()\n",
    "df['embeddings'] = df['embeddings'].progress_apply(prepare_embedding_for_chromadb)\n",
    "\n",
    "# Check the result\n",
    "print(\"Sample embedding type and shape:\", type(df['embeddings'][0]), df['embeddings'][0].shape, df['embeddings'][0].dtype)"
   ],
   "id": "4029e2b051038cbd",
   "outputs": [
    {
     "name": "stderr",
     "output_type": "stream",
     "text": [
      "100%|██████████| 63708/63708 [00:06<00:00, 9956.21it/s] "
     ]
    },
    {
     "name": "stdout",
     "output_type": "stream",
     "text": [
      "Sample embedding type and shape: <class 'numpy.ndarray'> (2048,) float32\n"
     ]
    },
    {
     "name": "stderr",
     "output_type": "stream",
     "text": [
      "\n"
     ]
    }
   ],
   "execution_count": 12
  },
  {
   "metadata": {
    "ExecuteTime": {
     "end_time": "2024-11-05T18:34:13.610202Z",
     "start_time": "2024-11-05T18:34:13.606946Z"
    }
   },
   "cell_type": "code",
   "source": "df.embeddings[0]",
   "id": "46faaa412d97e602",
   "outputs": [
    {
     "data": {
      "text/plain": [
       "array([-0.05072148,  0.01513031, -0.07786225, ...,  0.        ,\n",
       "        0.        ,  0.        ], dtype=float32)"
      ]
     },
     "execution_count": 13,
     "metadata": {},
     "output_type": "execute_result"
    }
   ],
   "execution_count": 13
  },
  {
   "metadata": {
    "ExecuteTime": {
     "end_time": "2024-11-05T18:34:13.914734Z",
     "start_time": "2024-11-05T18:34:13.892262Z"
    }
   },
   "cell_type": "code",
   "source": [
    "# Convert 'date' column to string format\n",
    "df['date'] = df['date'].astype(str)"
   ],
   "id": "2353667ac76e2695",
   "outputs": [],
   "execution_count": 14
  },
  {
   "metadata": {
    "ExecuteTime": {
     "end_time": "2024-11-05T18:34:14.164596Z",
     "start_time": "2024-11-05T18:34:14.132159Z"
    }
   },
   "cell_type": "code",
   "source": [
    "# Ensure all doc_ids are unique by adding a suffix to duplicates\n",
    "df['doc_id'] = df['doc_id'].astype(str)  # Ensure IDs are strings\n",
    "df['doc_id'] = df.groupby('doc_id').cumcount().astype(str) + '_' + df['doc_id']"
   ],
   "id": "11c34e1f2ebbeb9a",
   "outputs": [],
   "execution_count": 15
  },
  {
   "metadata": {},
   "cell_type": "markdown",
   "source": "#### saving",
   "id": "c551a858551dec10"
  },
  {
   "metadata": {
    "ExecuteTime": {
     "end_time": "2024-11-05T18:36:01.106471Z",
     "start_time": "2024-11-05T18:34:14.951095Z"
    }
   },
   "cell_type": "code",
   "source": [
    "# Specify the storage path\n",
    "settings = Settings()\n",
    "\n",
    "# Initialize ChromaDB client with persistent settings\n",
    "client = chromadb.PersistentClient(path=storage_path, settings=settings)\n",
    "collection_name = \"energy_articles\"\n",
    "\n",
    "# Delete and recreate collection\n",
    "if collection_name in [col.name for col in client.list_collections()]:\n",
    "    client.delete_collection(collection_name)\n",
    "collection = client.get_or_create_collection(name=collection_name)\n",
    "\n",
    "df['embeddings'] = df['embeddings'].progress_apply(lambda x: x.tolist() if isinstance(x, np.ndarray) else x)\n",
    "\n",
    "# Insert data in batches\n",
    "batch_size = 10000\n",
    "for start in tqdm(range(0, len(df), batch_size)):\n",
    "    batch = df.iloc[start:start + batch_size]\n",
    "    \n",
    "    ids = batch['doc_id'].astype(str).tolist()\n",
    "    documents = batch['content'].tolist()\n",
    "    embeds = [embed.tolist() if isinstance(embed, np.ndarray) else embed for embed in batch['embeddings']]\n",
    "    metadatas = batch[['title', 'date', 'domain', 'url', 'language']].to_dict(orient='records')\n",
    "    \n",
    "    # Insert into ChromaDB collection\n",
    "    collection.add(\n",
    "        ids=ids,\n",
    "        documents=documents,\n",
    "        embeddings=embeds,\n",
    "        metadatas=metadatas\n",
    "    )\n",
    "\n",
    "print(\"Data successfully added to ChromaDB.\")"
   ],
   "id": "fa6e0104e17860ef",
   "outputs": [
    {
     "name": "stderr",
     "output_type": "stream",
     "text": [
      "100%|██████████| 63708/63708 [00:02<00:00, 23812.65it/s]\n",
      "100%|██████████| 7/7 [01:43<00:00, 14.77s/it]"
     ]
    },
    {
     "name": "stdout",
     "output_type": "stream",
     "text": [
      "Data successfully added to ChromaDB.\n"
     ]
    },
    {
     "name": "stderr",
     "output_type": "stream",
     "text": [
      "\n"
     ]
    }
   ],
   "execution_count": 16
  },
  {
   "metadata": {
    "ExecuteTime": {
     "end_time": "2024-11-05T18:36:13.025616Z",
     "start_time": "2024-11-05T18:36:12.962742Z"
    }
   },
   "cell_type": "code",
   "source": [
    "test_db = collection.get(include=['embeddings', 'documents', 'metadatas'], limit=1)\n",
    "print(test_db)"
   ],
   "id": "5673230f24901f0f",
   "outputs": [
    {
     "name": "stdout",
     "output_type": "stream",
     "text": [
      "{'ids': ['0_1283'], 'embeddings': array([[-0.05072148,  0.01513031, -0.07786225, ...,  0.        ,\n",
      "         0.        ,  0.        ]]), 'documents': ['New US President Joe Biden took office this week with the US China relationship at its worst in decades. Energy has come to play a bigger role in that relationship than ever before, and rising Chinese imports of US oil and LNG could serve as the foundation for fresh discussions on trade one of the few areas where US China communications have not completely broken down. But tackling climate change, a priority for Biden unlike predecessor Donald Trump, may offer the easiest and biggest opportunity for cooperation between the two powers now. Due to a bipartisan perception that China\\' s economic, geopolitical and technological rise poses an existential threat to the US, a Biden administration is unlikely to soften the tone on Beijing. Trump demanded bigger purchases of US energy products by China as part of a Phase 1 trade deal before he would lift US tariffs on Chinese products. After Biden won the November US presidential election, Trump moved into high gear to crack down on the perceived Chinese military threat. In the energy sphere, this included sanctions against China National Offshore Oil Corp. ( CNOOC), which was characterized as a Chinese military controlled company and targeted for aggressive encroachments in disputed waters of the South China Sea. After banning US investors from trading CNOOC shares in early December, the administration\\' s parting shot last week was to ban the sale of US technology to CNOOC and its subsidiaries. With many exemptions in place, the measure may seem limited in scope but could hinder CNOOC\\' s ability to develop its domestic offshore resources, unless Biden reverses it. Last year\\' s Phase 1 trade deal entailed China spending an unrealistically high $ 18.5 billion above the 2017 baseline on US energy products, a goal made all the more impossible by China\\' s demand plunge from the coronavirus and sharply lower oil prices. But Beijing has shown goodwill, withdrawing import tariffs on US liquefied petroleum gas ( LPG), crude and LNG and encouraging oil purchases through unofficial subsidies last summer ( PIW Aug.14\\'20). The 2021 energy import targets are even more daunting than the 2020 goals, and Beijing is no more inclined than Washington to come to the negotiating table with a gift in hand. The future trajectory of China\\'s imports of US energy will largely depend on whether they make commercial sense while Beijing assesses how Biden approaches the relationship. China\\' s imports of US crude jumped 211% in 2020 to a record 396,000 barrels per day, a trade worth $ 6.27 billion, according to the Chinese customs administration. Meanwhile, imports of US LNG reached 3.32 million tons, worth $ 1.11 billion, up from a lone shipment in 2019, and 4.2 million tons of US LPG was discharged in China, for $ 1.74 billion, up from zero in 2019. The total value of these energy imports was $ 9.12 billion equal to the 2017 baseline. This leaves China with the daunting task of importing an extra $ 52.4 billion of US energy products this year to meet its Phase 1 target. Shipping data suggest China\\' s US crude imports at 407,000 b/d for January, down from 851,000 b/d in December, according to Kpler. \" They are going to wait and see the policy under the Biden administration, \" said Energy Aspects analyst Yuntao Liu. Shipping data suggest China\\' s US crude imports at 407,000 b/d for January, down from 851,000 b/d in December, according to Kpler. US LNG sales to China have fared better with 1.1 million tons expected in Chinese ports this month, slightly more than in December, but this is more likely the result of freezing temperatures than driven by politics ( related). With the dramatic change in tone in the White House on climate change, symbolized by the US rejoining the Paris climate accord this week, opportunities may widen beyond the oil and gas trade that could help rebuild dialogue between Washington and Beijing. China stole a march on the US in September in announcing plans to be carbon neutral by 2060. Whereas Trump, a staunch supporter for fossil fuels, shrugged off climate change entirely, Biden has an ambitious green agenda that targets carbon neutrality by 2050. But old trade gripes could surface here, too, as competition to gain first mover advantage and develop leading green technologies intensifies ( PIW Jan.15\\'21).'], 'uris': None, 'data': None, 'metadatas': [{'date': '2021-01-20', 'domain': 'energyintel', 'language': 'en', 'title': 'New Chapter for US-China Energy Trade', 'url': 'https://www.energyintel.com/0000017b-a7dc-de4c-a17b-e7de735a0000'}], 'included': [<IncludeEnum.embeddings: 'embeddings'>, <IncludeEnum.documents: 'documents'>, <IncludeEnum.metadatas: 'metadatas'>]}\n"
     ]
    }
   ],
   "execution_count": 17
  },
  {
   "metadata": {
    "ExecuteTime": {
     "end_time": "2024-11-05T18:36:18.244574Z",
     "start_time": "2024-11-05T18:36:18.199891Z"
    }
   },
   "cell_type": "code",
   "source": [
    "# Query similar documents\n",
    "question = 'In 2021, what were the top 3 states in the US in terms of total solar power generating capacity?'\n",
    "query_test = embeddings.embed_query(question)\n",
    "print(query_test[:3])"
   ],
   "id": "34c0174a507e00fb",
   "outputs": [
    {
     "name": "stdout",
     "output_type": "stream",
     "text": [
      "[-0.028192963, 0.024877222, 0.014737648]\n"
     ]
    }
   ],
   "execution_count": 18
  },
  {
   "metadata": {
    "ExecuteTime": {
     "end_time": "2024-11-05T18:36:18.730613Z",
     "start_time": "2024-11-05T18:36:18.722617Z"
    }
   },
   "cell_type": "code",
   "source": [
    "query_embedding = prepare_embedding_for_chromadb(query_test)\n",
    "top_k = 5  # number of similar entries to retrieve\n",
    "\n",
    "results = collection.query(\n",
    "    query_embeddings=[query_embedding.tolist()],\n",
    "    n_results=top_k,\n",
    "    include=['documents', 'metadatas']\n",
    ")\n",
    "\n",
    "print(results)"
   ],
   "id": "cfc075e2ef67caf2",
   "outputs": [
    {
     "name": "stdout",
     "output_type": "stream",
     "text": [
      "{'ids': [['9_80643', '5_81692', '10_17192', '0_45908', '2_77849']], 'embeddings': None, 'documents': [['By far, Florida was the top solar state in Q1 2023 thanks to 1.46 GW of utility scale solar installations. Florida installed over 70% more solar capacity in Q1 than the next highest state, California.', 'By far, Florida was the top solar state in the first quarter of 2023 thanks to 1.46 GW of utility scale solar installations. Florida installed over 70% more solar capacity in the first quarter than the next highest state, California.', '\" By far, Florida was the top solar state in Q1 2023 thanks to 1.46 GW of utility scale solar installations. Florida installed over 70% more solar capacity in Q1 than the next highest state, California. \"', \"Wind and solar power have dominated new power capacity additions in 2021. They' ve also been at the forefront of power capacity growth in the United States in the past three years.\", 'Texas led all states with 1.5GW of new capacity wired in in the quarter, \" more than it added in all of 2019 and three times more than any other state \", Hopper noted, flagging Indiana, Virginia, Michigan, and Iowa as \" among the top ten solar states \" in Q1.']], 'uris': None, 'data': None, 'metadatas': [[{'date': '2023-06-08', 'domain': 'solarpowerworldonline', 'language': 'en', 'title': 'The United States has best first quarter in history for total solar panels installed', 'url': 'https://www.solarpowerworldonline.com/2023/06/u-s-solar-industry-has-best-first-quarter-in-history/'}, {'date': '2023-06-08', 'domain': 'solarindustrymag', 'language': 'en', 'title': 'SEIA: U.S. Solar Market Had Best First Quarter Ever', 'url': 'https://solarindustrymag.com/seia-u-s-solar-market-has-best-first-quarter-ever'}, {'date': '2023-06-09', 'domain': 'cleantechnica', 'language': 'en', 'title': 'Solar Market Sets New Record In 1st Quarter In USA', 'url': 'https://cleantechnica.com/2023/06/09/solar-market-sets-new-record-in-1st-quarter-in-usa/'}, {'date': '2021-12-27', 'domain': 'cleantechnica', 'language': 'en', 'title': 'Wind & Solar = 86% Of New US Power Capacity In January–October', 'url': 'https://cleantechnica.com/2021/12/27/wind-solar-86-of-new-us-power-capacity-in-january-october/'}, {'date': '2021-06-15', 'domain': 'rechargenews', 'language': 'en', 'title': \"Solar century: US passes 100GW milestone as industry 'doubles in size in three years '\", 'url': 'https://www.rechargenews.com/energy-transition/solar-century-us-passes-100gw-milestone-as-industry-doubles-in-size-in-three-years/2-1-1025364'}]], 'distances': None, 'included': [<IncludeEnum.documents: 'documents'>, <IncludeEnum.metadatas: 'metadatas'>]}\n"
     ]
    }
   ],
   "execution_count": 19
  },
  {
   "metadata": {},
   "cell_type": "markdown",
   "source": "# Retrieval",
   "id": "cb8ad6e258a0588f"
  },
  {
   "metadata": {
    "ExecuteTime": {
     "end_time": "2024-11-05T18:41:58.891609Z",
     "start_time": "2024-11-05T18:41:49.811743Z"
    }
   },
   "cell_type": "code",
   "source": [
    "ai_client = OpenAI(\n",
    "    api_key=os.environ.get(\"OPENAI_API_KEY\"),\n",
    ")\n",
    "\n",
    "# load eval dataset\n",
    "df_eval = pd.read_csv('data/eval_dataset/cleantech_rag_evaluation_data_2024-02-23.csv')\n",
    "\n",
    "settings = Settings()\n",
    "\n",
    "client = chromadb.PersistentClient(path=storage_path, settings=settings)\n",
    "\n",
    "collection_name = \"energy_articles\"\n",
    "collection = client.get_collection(collection_name)\n",
    "\n",
    "eval_data_index = df_eval.sample(n=1)\n",
    "eval_question = eval_data_index.iloc[0]['question']\n",
    "article_url = eval_data_index.iloc[0]['article_url']\n",
    "\n",
    "# Query text\n",
    "query_text = eval_question\n",
    "\n",
    "# Generate query embedding using the Hugging Face endpoint\n",
    "query_embedding = embeddings.embed_query(query_text)\n",
    "\n",
    "prepared_embeddings = prepare_embedding_for_chromadb(query_embedding)\n",
    "\n",
    "# Retrieve top 5 most relevant documents\n",
    "results = collection.query(\n",
    "    query_embeddings=[prepared_embeddings.tolist()],  # Query embedding\n",
    "    n_results=5,  # Number of similar documents to retrieve\n",
    "    include=['documents', 'metadatas']  # Include documents and metadata in the results\n",
    ")\n",
    "\n",
    "#print(\"Query Results:\", results)\n",
    "\n",
    "# Prepare context with document references\n",
    "retrieved_text = \"\"\n",
    "if 'documents' in results and results['documents']:\n",
    "    for idx, doc in enumerate(results['documents'][0]):\n",
    "        metadata = results['metadatas'][0][idx]  # Access metadata for each document\n",
    "        doc_id = metadata.get(\"doc_id\", f\"Document {idx + 1}\")  # Retrieve doc_id if available\n",
    "        title = metadata.get(\"title\", \"Untitled Document\")\n",
    "        url = metadata.get(\"url\", \"URL not available\")\n",
    "        content_snippet = doc[:300] + \"...\"  # Take the first 300 characters as a snippet\n",
    "\n",
    "        retrieved_text += (\n",
    "            f\"Document {idx + 1} - ID: {doc_id}\\n\"\n",
    "            f\"Title: {title}\\n\"\n",
    "            f\"URL: {url}\\n\"\n",
    "            f\"Content Snippet: {content_snippet}\\n\\n\"\n",
    "        )\n",
    "else:\n",
    "    print(\"No documents found in query results.\")\n",
    "\n",
    "# Debug: Print the retrieved_text to ensure it’s populated\n",
    "#print(\"Retrieved Text:\", retrieved_text)\n",
    "# Create a system message with instructions for the assistant\n",
    "system_message = \"\"\"\n",
    "You are a knowledgeable assistant. Based on the information from the documents provided by the user, answer the question in a detailed and informative way. In your answer, refer to specific documents by mentioning their titles, URLs, and IDs when relevant.\n",
    "\n",
    "At the end of your answer, please provide a separate \"Sources\" section, listing all document titles, IDs, and URLs you referenced, even if they were only indirectly useful.\n",
    "\"\"\"\n",
    "\n",
    "# Construct the prompt as the user's message\n",
    "prompt = f\"\"\"\n",
    "Question: {query_text}\n",
    "\n",
    "Documents:\n",
    "{retrieved_text}\n",
    "\n",
    "Please structure your answer as follows:\n",
    "Answer:\n",
    "(Your detailed answer here, with references to specific documents as needed)\n",
    "\n",
    "Sources:\n",
    "- Document N: documnet_id document_title, document_url\n",
    "- Document N: documnet_id, document_title, document_url\n",
    "- Document N: documnet_id, document_title, document_url\n",
    "(Include every document you referred to in the answer)\n",
    "\"\"\"\n",
    "\n",
    "# Generate a response with GPT-3.5-turbo\n",
    "response = ai_client.chat.completions.create(\n",
    "    messages=[\n",
    "        {\"role\": \"system\", \"content\": system_message},\n",
    "        {\"role\": \"user\", \"content\": prompt}\n",
    "    ],\n",
    "    model=\"gpt-3.5-turbo\",\n",
    ")\n",
    "\n",
    "generated_response = response.choices[0].message.content\n",
    "\n",
    "# Print the generated response\n",
    "print(f'Used question: {eval_question}, URL: {article_url}')\n",
    "print('-'*40)\n",
    "print(\"Response:\", generated_response)\n",
    "print('-'*40)"
   ],
   "id": "f60c730af332e4cd",
   "outputs": [
    {
     "name": "stdout",
     "output_type": "stream",
     "text": [
      "Used question: What is the EU’s Green Deal Industrial Plan?, URL: https://www.sgvoice.net/policy/25396/eu-seeks-competitive-boost-with-green-deal-industrial-plan/\n",
      "----------------------------------------\n",
      "Response: \n",
      "Answer:\n",
      "The EU's Green Deal Industrial Plan is a significant initiative aimed at promoting sustainable industrial practices, particularly within the renewable energy sector. This plan is part of the broader European Green Deal, which aims to make the EU climate-neutral by 2050. Several documents provide insights into the Green Deal Industrial Plan and its implications:\n",
      "\n",
      "1. The Green Deal Industrial Plan has been of great importance to the European solar sector as highlighted by Dries Acke, the policy director for SolarPower Europe, in \"Von der Leyen announces ‘Inflation Reduction Act’ plan for Europe\" (Document 1). Acke mentioned that the EU was addressing the concerns of European solar manufacturers through this plan.\n",
      "\n",
      "2. The EU proposed a massive package to align itself with the US in terms of green subsidies, with member states discussing the Green Deal Industrial Plan in February, as detailed in \"EU unveils massive package to 'level playing field' with US in green subsidies spat\" (Document 2). The European Commission aimed to present a formal proposal based on inputs from member states at the European Council in late March.\n",
      "\n",
      "3. The European Investment Bank (EIB) planned to provide extensive support for energy security and the green economy, aligning with the objectives of the RePowerEU Plan and the Green Deal Industrial Plan, as mentioned in \"EIB plans record support for energy security and green economy\" (Document 3). This support is expected to contribute to the objectives set forth in the Green Deal Industrial Plan announced by the Commission.\n",
      "\n",
      "4. EU policymakers have strategized to bolster the ESG credentials of EU solar manufacturers and strengthen the EU Solar Industry Alliance to achieve significant production capacity targets, including supporting solar manufacturing under the EU Green Deal, as discussed in \"EU solar manufacturers’ ESG credentials could bolster revival\" (Document 4).\n",
      "\n",
      "5. Building a sustainable manufacturing industry is a key priority within the context of the Green Deal Industrial Plan, particularly emphasizing the importance of the solar value chain, as highlighted in \"The time is now\" (Document 5).\n",
      "\n",
      "Overall, the EU's Green Deal Industrial Plan represents a comprehensive strategy to drive sustainability and innovation within the European industrial sector, with a specific focus on renewable energy and clean technologies.\n",
      "\n",
      "Sources:\n",
      "- Document 1: Von der Leyen announces ‘Inflation Reduction Act’ plan for Europe, https://www.pv-magazine.com/2023/01/18/von-der-leyen-announces-inflation-reduction-act-plan-for-eu/\n",
      "- Document 2: EU unveils massive package to 'level playing field' with US in green subsidies spat, https://www.rechargenews.com/news/2-1-1397036\n",
      "- Document 3: EIB plans record support for energy security and green economy, https://sgvoice.energyvoice.com/investing/25609/eib-plans-record-support-for-energy-security-and-green-economy/\n",
      "- Document 4: EU solar manufacturers’ ESG credentials could bolster revival, https://www.pv-magazine.com/2023/03/10/esg-credentials-of-eu-solar-manufacturers-could-bolster-revival/#comments\n",
      "- Document 5: The time is now, https://www.pv-magazine.com/magazine-archive/the-time-is-now/\n",
      "----------------------------------------\n"
     ]
    }
   ],
   "execution_count": 12
  },
  {
   "metadata": {},
   "cell_type": "code",
   "source": [
    "from ragas import EvaluationDataset\n",
    "\n",
    "# Convert df_eval into a list of dictionaries in the required format\n",
    "data = [\n",
    "    {\n",
    "        \"query\": row[\"question\"],\n",
    "        \"context\": [row[\"relevant_chunk\"]],  # Context as a list of one or more relevant chunks\n",
    "        \"response\": \"Placeholder response for evaluation\"  # Use actual response if available\n",
    "    }\n",
    "    for _, row in df_eval.iterrows()\n",
    "]\n",
    "\n",
    "# Create the EvaluationDataset\n",
    "eval_dataset = EvaluationDataset(data)"
   ],
   "id": "1b18350bcf95ddb5",
   "outputs": [],
   "execution_count": null
  },
  {
   "metadata": {},
   "cell_type": "code",
   "source": "",
   "id": "8e2cddd75c742205",
   "outputs": [],
   "execution_count": null
  }
 ],
 "metadata": {
  "kernelspec": {
   "display_name": "Python 3",
   "language": "python",
   "name": "python3"
  },
  "language_info": {
   "codemirror_mode": {
    "name": "ipython",
    "version": 2
   },
   "file_extension": ".py",
   "mimetype": "text/x-python",
   "name": "python",
   "nbconvert_exporter": "python",
   "pygments_lexer": "ipython2",
   "version": "2.7.6"
  }
 },
 "nbformat": 4,
 "nbformat_minor": 5
}
