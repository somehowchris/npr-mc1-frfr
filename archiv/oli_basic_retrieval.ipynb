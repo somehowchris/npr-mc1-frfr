{
 "cells": [
  {
   "cell_type": "code",
   "execution_count": 28,
   "metadata": {},
   "outputs": [
    {
     "name": "stdout",
     "output_type": "stream",
     "text": [
      "   doc_id                                              title       date  \\\n",
      "0    1283              New Chapter for US-China Energy Trade 2021-01-20   \n",
      "1    1284  Japan: Slow Restarts Cast Doubt on 2030 Energy... 2021-01-22   \n",
      "2    1287     Biden Appointees Signal Progressive Engagement 2021-01-28   \n",
      "3    1294  Europe Targets Synthetic SAF Production for Lo... 2021-03-10   \n",
      "4    1295               Carbon Management at Your 'Service ' 2021-03-11   \n",
      "\n",
      "                                             content       domain  \\\n",
      "0  New US President Joe Biden took office this we...  energyintel   \n",
      "1  The slow pace of Japanese reactor restarts con...  energyintel   \n",
      "2  Oil and natural gas industry officials have be...  energyintel   \n",
      "3  Europe wants to become a world leader in zero ...  energyintel   \n",
      "4  Three major oil and gas producers have set up ...  energyintel   \n",
      "\n",
      "                                                 url language  \\\n",
      "0  https://www.energyintel.com/0000017b-a7dc-de4c...       en   \n",
      "1  https://www.energyintel.com/0000017b-a7dc-de4c...       en   \n",
      "2  https://www.energyintel.com/0000017b-a7dc-de4c...       en   \n",
      "3  https://www.energyintel.com/0000017b-a7dc-de4c...       en   \n",
      "4  https://www.energyintel.com/0000017b-a7dc-de4c...       en   \n",
      "\n",
      "                           classification_prediction  \\\n",
      "0  {'labels': ['Text Blog', 'Text Report', 'Text ...   \n",
      "1  {'labels': ['Text Report', 'Text Blog', 'Text ...   \n",
      "2  {'labels': ['Text Report', 'Text Blog', 'Text ...   \n",
      "3  {'labels': ['Text Blog', 'Text Report', 'Text ...   \n",
      "4  {'labels': ['Text Report', 'Text Blog', 'Text ...   \n",
      "\n",
      "                                              labels  \\\n",
      "0  [Text Blog, Text Report, Text Paragraph, Topic...   \n",
      "1  [Text Report, Text Blog, Text Paragraph, Topic...   \n",
      "2  [Text Report, Text Blog, Text Paragraph, Topic...   \n",
      "3  [Text Blog, Text Report, Text Paragraph, Topic...   \n",
      "4  [Text Report, Text Blog, Text Paragraph, Topic...   \n",
      "\n",
      "                                              scores  pos_score  \\\n",
      "0  [0.2568563222885132, 0.19991767406463623, 0.19...   0.655545   \n",
      "1  [0.2845178246498108, 0.21136364340782166, 0.17...   0.667931   \n",
      "2  [0.2419334203004837, 0.24028132855892181, 0.18...   0.669386   \n",
      "3  [0.2484186291694641, 0.2156369537115097, 0.186...   0.650236   \n",
      "4  [0.2526702880859375, 0.24871733784675598, 0.17...   0.673952   \n",
      "\n",
      "                                                 ner  \n",
      "0  [{'end_pos': 6, 'labels': [{'confidence': 0.99...  \n",
      "1  [{'end_pos': 25, 'labels': [{'confidence': 0.9...  \n",
      "2  [{'end_pos': 108, 'labels': [{'confidence': 0....  \n",
      "3  [{'end_pos': 6, 'labels': [{'confidence': 0.99...  \n",
      "4  [{'end_pos': 5, 'labels': [{'confidence': 0.99...  \n"
     ]
    }
   ],
   "source": [
    "import pandas as pd\n",
    "\n",
    "# Load data from a Parquet file\n",
    "df = pd.read_parquet(\"data/clean_cleantech.parquet\")\n",
    "\n",
    "# Example to see the data\n",
    "print(df.head())"
   ]
  },
  {
   "cell_type": "code",
   "execution_count": 29,
   "metadata": {},
   "outputs": [
    {
     "name": "stdout",
     "output_type": "stream",
     "text": [
      "<class 'pandas.core.frame.DataFrame'>\n",
      "RangeIndex: 63708 entries, 0 to 63707\n",
      "Data columns (total 12 columns):\n",
      " #   Column                     Non-Null Count  Dtype         \n",
      "---  ------                     --------------  -----         \n",
      " 0   doc_id                     63708 non-null  int64         \n",
      " 1   title                      63708 non-null  object        \n",
      " 2   date                       63708 non-null  datetime64[ns]\n",
      " 3   content                    63708 non-null  object        \n",
      " 4   domain                     63708 non-null  object        \n",
      " 5   url                        63708 non-null  object        \n",
      " 6   language                   63708 non-null  object        \n",
      " 7   classification_prediction  63708 non-null  object        \n",
      " 8   labels                     63708 non-null  object        \n",
      " 9   scores                     63708 non-null  object        \n",
      " 10  pos_score                  63708 non-null  float64       \n",
      " 11  ner                        63708 non-null  object        \n",
      "dtypes: datetime64[ns](1), float64(1), int64(1), object(9)\n",
      "memory usage: 5.8+ MB\n"
     ]
    }
   ],
   "source": [
    "df.info()"
   ]
  },
  {
   "cell_type": "code",
   "execution_count": 30,
   "metadata": {},
   "outputs": [
    {
     "name": "stdout",
     "output_type": "stream",
     "text": [
      "New US President Joe Biden took office this week with the US China relationship at its worst in decades. Energy has come to play a bigger role in that relationship than ever before, and rising Chinese imports of US oil and LNG could serve as the foundation for fresh discussions on trade one of the few areas where US China communications have not completely broken down. But tackling climate change, a priority for Biden unlike predecessor Donald Trump, may offer the easiest and biggest opportunity for cooperation between the two powers now. Due to a bipartisan perception that China' s economic, geopolitical and technological rise poses an existential threat to the US, a Biden administration is unlikely to soften the tone on Beijing. Trump demanded bigger purchases of US energy products by China as part of a Phase 1 trade deal before he would lift US tariffs on Chinese products. After Biden won the November US presidential election, Trump moved into high gear to crack down on the perceived Chinese military threat. In the energy sphere, this included sanctions against China National Offshore Oil Corp. ( CNOOC), which was characterized as a Chinese military controlled company and targeted for aggressive encroachments in disputed waters of the South China Sea. After banning US investors from trading CNOOC shares in early December, the administration' s parting shot last week was to ban the sale of US technology to CNOOC and its subsidiaries. With many exemptions in place, the measure may seem limited in scope but could hinder CNOOC' s ability to develop its domestic offshore resources, unless Biden reverses it. Last year' s Phase 1 trade deal entailed China spending an unrealistically high $ 18.5 billion above the 2017 baseline on US energy products, a goal made all the more impossible by China' s demand plunge from the coronavirus and sharply lower oil prices. But Beijing has shown goodwill, withdrawing import tariffs on US liquefied petroleum gas ( LPG), crude and LNG and encouraging oil purchases through unofficial subsidies last summer ( PIW Aug.14'20). The 2021 energy import targets are even more daunting than the 2020 goals, and Beijing is no more inclined than Washington to come to the negotiating table with a gift in hand. The future trajectory of China's imports of US energy will largely depend on whether they make commercial sense while Beijing assesses how Biden approaches the relationship. China' s imports of US crude jumped 211% in 2020 to a record 396,000 barrels per day, a trade worth $ 6.27 billion, according to the Chinese customs administration. Meanwhile, imports of US LNG reached 3.32 million tons, worth $ 1.11 billion, up from a lone shipment in 2019, and 4.2 million tons of US LPG was discharged in China, for $ 1.74 billion, up from zero in 2019. The total value of these energy imports was $ 9.12 billion equal to the 2017 baseline. This leaves China with the daunting task of importing an extra $ 52.4 billion of US energy products this year to meet its Phase 1 target. Shipping data suggest China' s US crude imports at 407,000 b/d for January, down from 851,000 b/d in December, according to Kpler. \" They are going to wait and see the policy under the Biden administration, \" said Energy Aspects analyst Yuntao Liu. Shipping data suggest China' s US crude imports at 407,000 b/d for January, down from 851,000 b/d in December, according to Kpler. US LNG sales to China have fared better with 1.1 million tons expected in Chinese ports this month, slightly more than in December, but this is more likely the result of freezing temperatures than driven by politics ( related). With the dramatic change in tone in the White House on climate change, symbolized by the US rejoining the Paris climate accord this week, opportunities may widen beyond the oil and gas trade that could help rebuild dialogue between Washington and Beijing. China stole a march on the US in September in announcing plans to be carbon neutral by 2060. Whereas Trump, a staunch supporter for fossil fuels, shrugged off climate change entirely, Biden has an ambitious green agenda that targets carbon neutrality by 2050. But old trade gripes could surface here, too, as competition to gain first mover advantage and develop leading green technologies intensifies ( PIW Jan.15'21).\n"
     ]
    }
   ],
   "source": [
    "# Extract text data; ensure that the 'content' column exists\n",
    "documents = df[\"content\"].dropna().astype(str).tolist()\n",
    "\n",
    "# Example to see the data\n",
    "print(documents[0])"
   ]
  },
  {
   "cell_type": "code",
   "execution_count": 31,
   "metadata": {},
   "outputs": [
    {
     "name": "stdout",
     "output_type": "stream",
     "text": [
      "63708\n"
     ]
    }
   ],
   "source": [
    "print(len(documents))"
   ]
  },
  {
   "cell_type": "code",
   "execution_count": 32,
   "metadata": {},
   "outputs": [],
   "source": [
    "documents_100 = documents[:100]"
   ]
  },
  {
   "cell_type": "code",
   "execution_count": 33,
   "metadata": {},
   "outputs": [
    {
     "name": "stdout",
     "output_type": "stream",
     "text": [
      "New US President Joe Biden took office this week with the US China relationship at its worst in decades. Energy has come to play a bigger role in that relationship than ever before, and rising Chinese imports of US oil and LNG could serve as the foundation for fresh discussions on trade one of the few areas where US China communications have not completely broken down. But tackling climate change, a priority for Biden unlike predecessor Donald Trump, may offer the easiest and biggest opportunity for cooperation between the two powers now. Due to a bipartisan perception that China' s economic, geopolitical and technological rise poses an existential threat to the US, a Biden administration is unlikely to soften the tone on Beijing. Trump demanded bigger purchases of US energy products by China as part of a Phase 1 trade deal before he would lift US tariffs on Chinese products. After Biden won the November US presidential election, Trump moved into high gear to crack down on the perceived Chinese military threat. In the energy sphere, this included sanctions against China National Offshore Oil Corp. ( CNOOC), which was characterized as a Chinese military controlled company and targeted for aggressive encroachments in disputed waters of the South China Sea. After banning US investors from trading CNOOC shares in early December, the administration' s parting shot last week was to ban the sale of US technology to CNOOC and its subsidiaries. With many exemptions in place, the measure may seem limited in scope but could hinder CNOOC' s ability to develop its domestic offshore resources, unless Biden reverses it. Last year' s Phase 1 trade deal entailed China spending an unrealistically high $ 18.5 billion above the 2017 baseline on US energy products, a goal made all the more impossible by China' s demand plunge from the coronavirus and sharply lower oil prices. But Beijing has shown goodwill, withdrawing import tariffs on US liquefied petroleum gas ( LPG), crude and LNG and encouraging oil purchases through unofficial subsidies last summer ( PIW Aug.14'20). The 2021 energy import targets are even more daunting than the 2020 goals, and Beijing is no more inclined than Washington to come to the negotiating table with a gift in hand. The future trajectory of China's imports of US energy will largely depend on whether they make commercial sense while Beijing assesses how Biden approaches the relationship. China' s imports of US crude jumped 211% in 2020 to a record 396,000 barrels per day, a trade worth $ 6.27 billion, according to the Chinese customs administration. Meanwhile, imports of US LNG reached 3.32 million tons, worth $ 1.11 billion, up from a lone shipment in 2019, and 4.2 million tons of US LPG was discharged in China, for $ 1.74 billion, up from zero in 2019. The total value of these energy imports was $ 9.12 billion equal to the 2017 baseline. This leaves China with the daunting task of importing an extra $ 52.4 billion of US energy products this year to meet its Phase 1 target. Shipping data suggest China' s US crude imports at 407,000 b/d for January, down from 851,000 b/d in December, according to Kpler. \" They are going to wait and see the policy under the Biden administration, \" said Energy Aspects analyst Yuntao Liu. Shipping data suggest China' s US crude imports at 407,000 b/d for January, down from 851,000 b/d in December, according to Kpler. US LNG sales to China have fared better with 1.1 million tons expected in Chinese ports this month, slightly more than in December, but this is more likely the result of freezing temperatures than driven by politics ( related). With the dramatic change in tone in the White House on climate change, symbolized by the US rejoining the Paris climate accord this week, opportunities may widen beyond the oil and gas trade that could help rebuild dialogue between Washington and Beijing. China stole a march on the US in September in announcing plans to be carbon neutral by 2060. Whereas Trump, a staunch supporter for fossil fuels, shrugged off climate change entirely, Biden has an ambitious green agenda that targets carbon neutrality by 2050. But old trade gripes could surface here, too, as competition to gain first mover advantage and develop leading green technologies intensifies ( PIW Jan.15'21).\n"
     ]
    }
   ],
   "source": [
    "print(documents_100[0])"
   ]
  },
  {
   "cell_type": "code",
   "execution_count": null,
   "metadata": {},
   "outputs": [
    {
     "name": "stdout",
     "output_type": "stream",
     "text": [
      "Original Text Lengths: [4321, 4422, 3255, 5005, 3756, 275, 749, 706, 1709, 3999, 5258, 4557, 270, 541, 285, 810, 1076, 752, 7396, 4073, 5073, 3598, 4831, 1466, 1573, 5029, 2343, 6891, 4672, 3246, 377, 583, 529, 96, 394, 113, 396, 454, 316, 183, 448, 270, 623, 480, 229, 152, 284, 175, 183, 193, 246, 124, 181, 185, 163, 141, 170, 196, 122, 166, 199, 154, 166, 152, 150, 151, 209, 157, 153, 224, 149, 96, 227, 424, 270, 232, 386, 171, 227, 302, 560, 261, 387, 305, 256, 496, 1275, 1454, 337, 610, 640, 699, 333, 190, 144, 145, 70, 245, 223, 273]\n",
      "Chunk Lengths: [500, 494, 495, 497, 488, 499, 494, 495, 498, 498, 497, 487, 490, 443, 497, 495, 497, 494, 496, 497, 496, 498, 495, 492, 495, 495, 497, 495, 203, 495, 493, 499, 493, 499, 494, 497, 494, 495, 497, 250, 495, 496, 499, 493, 498, 497, 497, 494, 496, 497, 496, 498, 493, 495, 496, 492, 214, 499, 496, 495, 499, 498, 493, 490, 498, 496, 496, 499, 447, 275, 499, 443, 494, 407, 498, 499, 496, 488, 499, 212, 498, 498, 491, 488, 499, 492, 496, 499, 498, 496, 499, 492, 402, 499, 497, 498, 495, 491, 498, 495, 493, 496, 499, 499, 493, 493, 494, 498, 499, 451, 496, 496, 492, 494, 496, 494, 496, 499, 494, 496, 497, 494, 494, 493, 366, 270, 498, 240, 285, 496, 498, 205, 500, 498, 467, 497, 448, 500, 497, 498, 497, 491, 499, 497, 496, 496, 498, 496, 494, 496, 499, 492, 499, 496, 493, 499, 493, 488, 487, 493, 498, 217, 497, 497, 499, 493, 496, 498, 497, 491, 495, 496, 498, 499, 456, 486, 491, 497, 496, 496, 497, 496, 496, 496, 497, 497, 491, 499, 499, 493, 488, 299, 498, 492, 497, 493, 495, 497, 499, 498, 499, 497, 496, 304, 495, 494, 485, 497, 493, 495, 496, 495, 498, 498, 499, 498, 499, 491, 495, 333, 495, 497, 493, 496, 272, 499, 496, 492, 499, 373, 500, 496, 496, 488, 495, 498, 492, 499, 496, 497, 497, 493, 498, 499, 498, 496, 212, 497, 496, 496, 493, 499, 496, 492, 243, 495, 492, 499, 499, 498, 495, 496, 493, 496, 499, 497, 499, 498, 497, 490, 495, 497, 495, 494, 497, 498, 495, 271, 499, 497, 497, 496, 492, 497, 497, 499, 498, 497, 496, 497, 493, 499, 471, 497, 497, 496, 499, 499, 497, 495, 498, 499, 497, 230, 377, 500, 275, 499, 224, 96, 394, 113, 396, 454, 316, 183, 448, 270, 497, 320, 480, 229, 152, 284, 175, 183, 193, 246, 124, 181, 185, 163, 141, 170, 196, 122, 166, 199, 154, 166, 152, 150, 151, 209, 157, 153, 224, 149, 96, 227, 424, 270, 232, 386, 171, 227, 302, 497, 259, 261, 387, 305, 256, 496, 499, 493, 497, 372, 498, 498, 497, 496, 253, 337, 497, 307, 496, 343, 499, 397, 333, 190, 144, 145, 70, 245, 223, 273]\n"
     ]
    }
   ],
   "source": [
    "from langchain.text_splitter import RecursiveCharacterTextSplitter\n",
    "\n",
    "# Initialize the text splitter\n",
    "text_splitter = RecursiveCharacterTextSplitter(chunk_size=500, chunk_overlap=200)\n",
    "\n",
    "original_lengths = [len(doc) for doc in documents_100]\n",
    "\n",
    "# Split the documents and get chunks\n",
    "chunks = [text_splitter.split_text(doc) for doc in documents_100]\n",
    "\n",
    "# Flatten the list of chunks if you want all chunks together, or keep nested for per-document chunks\n",
    "flat_chunks = [chunk for sublist in chunks for chunk in sublist]\n",
    "\n",
    "# Calculate the lengths of all chunks\n",
    "chunk_lengths = [len(chunk) for chunk in flat_chunks]\n",
    "\n",
    "# Print original and chunk lengths to compare\n",
    "print(\"Original Text Lengths:\", original_lengths)\n",
    "print(\"Chunk Lengths:\", chunk_lengths)"
   ]
  },
  {
   "cell_type": "code",
   "execution_count": 35,
   "metadata": {},
   "outputs": [
    {
     "name": "stdout",
     "output_type": "stream",
     "text": [
      "New US President Joe Biden took office this week with the US China relationship at its worst in decades. Energy has come to play a bigger role in that relationship than ever before, and rising Chinese imports of US oil and LNG could serve as the foundation for fresh discussions on trade one of the few areas where US China communications have not completely broken down. But tackling climate change, a priority for Biden unlike predecessor Donald Trump, may offer the easiest and biggest opportunity\n"
     ]
    }
   ],
   "source": [
    "print(flat_chunks[0])"
   ]
  },
  {
   "cell_type": "code",
   "execution_count": null,
   "metadata": {},
   "outputs": [
    {
     "name": "stdout",
     "output_type": "stream",
     "text": [
      "100\n"
     ]
    }
   ],
   "source": [
    "print(len(chunks))"
   ]
  },
  {
   "cell_type": "code",
   "execution_count": 37,
   "metadata": {},
   "outputs": [],
   "source": [
    "import os\n",
    "\n",
    "# the openai api key is stored in secret.txt\n",
    "with open(\"secret.txt\") as f:\n",
    "    os.environ[\"OPENAI_API_KEY\"] = f.readline()"
   ]
  },
  {
   "cell_type": "code",
   "execution_count": 38,
   "metadata": {},
   "outputs": [],
   "source": [
    "def generate_metadata_for_chunk(document_index):\n",
    "    return {\n",
    "        \"document_title\": df[\"title\"].iloc[document_index],\n",
    "        \"document_domain\": df[\"domain\"].iloc[document_index],\n",
    "        \"document_url\": df[\"url\"].iloc[document_index],\n",
    "    }\n",
    "\n",
    "\n",
    "# Generate metadata for each chunk\n",
    "metadatas = [generate_metadata_for_chunk(i) for i, doc in enumerate(flat_chunks)]"
   ]
  },
  {
   "cell_type": "code",
   "execution_count": null,
   "metadata": {},
   "outputs": [],
   "source": [
    "from langchain.vectorstores import Chroma\n",
    "from langchain.embeddings import OpenAIEmbeddings\n",
    "from langchain.llms import OpenAI\n",
    "from langchain.chains import RetrievalQA\n",
    "\n",
    "# Initialize the embeddings with the correct endpoint\n",
    "embedding = OpenAIEmbeddings()\n",
    "\n",
    "# Creating a Chroma vectorstore from texts directly\n",
    "persist_directory = \"db\"\n",
    "vectordb = Chroma.from_texts(\n",
    "    documents=chunks,\n",
    "    metadatas=metadatas,\n",
    "    embedding=embedding,\n",
    "    persist_directory=persist_directory,\n",
    ")\n",
    "vectordb.persist()"
   ]
  },
  {
   "cell_type": "markdown",
   "metadata": {
    "id": "siLXR-XT0JoI"
   },
   "source": [
    "## Make a retriever"
   ]
  },
  {
   "cell_type": "code",
   "execution_count": 40,
   "metadata": {
    "id": "6ObunFU30Lxh"
   },
   "outputs": [],
   "source": [
    "retriever = vectordb.as_retriever()"
   ]
  },
  {
   "cell_type": "code",
   "execution_count": 41,
   "metadata": {
    "id": "cYA-H59u0Skn"
   },
   "outputs": [],
   "source": [
    "docs = retriever.get_relevant_documents(\n",
    "    \"What are the key points in the new energy policies under US President Joe Biden’s administration regarding climate change and China relations?\"\n",
    ")"
   ]
  },
  {
   "cell_type": "code",
   "execution_count": 42,
   "metadata": {
    "id": "jVWgPJXs1yRq"
   },
   "outputs": [],
   "source": [
    "retriever = vectordb.as_retriever(search_kwargs={\"k\": 2})"
   ]
  },
  {
   "cell_type": "code",
   "execution_count": 43,
   "metadata": {
    "colab": {
     "base_uri": "https://localhost:8080/",
     "height": 35
    },
    "id": "H4N0IhRM0hHL",
    "outputId": "f8058122-1c8a-4c5b-f046-14a90eed5a3b"
   },
   "outputs": [
    {
     "data": {
      "text/plain": [
       "'similarity'"
      ]
     },
     "execution_count": 43,
     "metadata": {},
     "output_type": "execute_result"
    }
   ],
   "source": [
    "retriever.search_type"
   ]
  },
  {
   "cell_type": "code",
   "execution_count": 44,
   "metadata": {
    "colab": {
     "base_uri": "https://localhost:8080/"
    },
    "id": "4jXL9u-u0prF",
    "outputId": "2e6dd94e-bede-4e05-c841-9c755ecfef2a"
   },
   "outputs": [
    {
     "data": {
      "text/plain": [
       "{'k': 2}"
      ]
     },
     "execution_count": 44,
     "metadata": {},
     "output_type": "execute_result"
    }
   ],
   "source": [
    "retriever.search_kwargs"
   ]
  },
  {
   "cell_type": "markdown",
   "metadata": {
    "id": "4Ia-4OXa5IeP"
   },
   "source": [
    "## Make a chain"
   ]
  },
  {
   "cell_type": "code",
   "execution_count": 45,
   "metadata": {
    "id": "MGx8XblM4shW"
   },
   "outputs": [],
   "source": [
    "# create the chain to answer questions\n",
    "qa_chain = RetrievalQA.from_chain_type(\n",
    "    llm=OpenAI(), chain_type=\"stuff\", retriever=retriever, return_source_documents=True\n",
    ")"
   ]
  },
  {
   "cell_type": "code",
   "execution_count": 46,
   "metadata": {
    "id": "LZEo26mw8e5k"
   },
   "outputs": [],
   "source": [
    "def process_llm_response(llm_response):\n",
    "    print(llm_response[\"result\"])\n",
    "    print(\"\\n\\nSources:\")\n",
    "    for source in llm_response[\"source_documents\"]:\n",
    "        # Safely extract title, domain, and URL from the metadata\n",
    "        metadata = source.metadata  # Assuming 'metadata' is an accessible attribute\n",
    "        title = metadata.get(\"document_title\", \"Title not available\")\n",
    "        domain = metadata.get(\"document_domain\", \"Domain not available\")\n",
    "        url = metadata.get(\"document_url\", \"URL not available\")\n",
    "        print(f\"{title} ({domain}): {url}\")"
   ]
  },
  {
   "cell_type": "code",
   "execution_count": 47,
   "metadata": {
    "colab": {
     "base_uri": "https://localhost:8080/"
    },
    "id": "wKfX4vX-5RFT",
    "outputId": "b3902fd2-86cc-4020-86a9-99883a996d20"
   },
   "outputs": [
    {
     "name": "stdout",
     "output_type": "stream",
     "text": [
      " The Biden administration's prioritization of tackling climate change presents an opportunity for cooperation with China, as both countries have a shared interest in addressing this global issue. This is in contrast to the previous administration under Donald Trump, which did not prioritize climate change and instead focused on demands for China to purchase more US energy products. Additionally, the Biden administration is unlikely to soften its stance on China due to bipartisan concerns about China's economic, geopolitical, and technological rise.\n",
      "\n",
      "\n",
      "Sources:\n",
      "Japan: Slow Restarts Cast Doubt on 2030 Energy Plan (energyintel): https://www.energyintel.com/0000017b-a7dc-de4c-a17b-e7de79160000\n",
      "Japan: Slow Restarts Cast Doubt on 2030 Energy Plan (energyintel): https://www.energyintel.com/0000017b-a7dc-de4c-a17b-e7de79160000\n"
     ]
    },
    {
     "data": {
      "text/plain": [
       "{'query': 'How does the Biden administration’s approach to climate change represent an opportunity for cooperation with China, and how does this contrast with the previous administration’s policies?',\n",
       " 'result': \" The Biden administration's prioritization of tackling climate change presents an opportunity for cooperation with China, as both countries have a shared interest in addressing this global issue. This is in contrast to the previous administration under Donald Trump, which did not prioritize climate change and instead focused on demands for China to purchase more US energy products. Additionally, the Biden administration is unlikely to soften its stance on China due to bipartisan concerns about China's economic, geopolitical, and technological rise.\",\n",
       " 'source_documents': [Document(metadata={'document_domain': 'energyintel', 'document_title': 'Japan: Slow Restarts Cast Doubt on 2030 Energy Plan', 'document_url': 'https://www.energyintel.com/0000017b-a7dc-de4c-a17b-e7de79160000'}, page_content=\"areas where US China communications have not completely broken down. But tackling climate change, a priority for Biden unlike predecessor Donald Trump, may offer the easiest and biggest opportunity for cooperation between the two powers now. Due to a bipartisan perception that China' s economic, geopolitical and technological rise poses an existential threat to the US, a Biden administration is unlikely to soften the tone on Beijing. Trump demanded bigger purchases of US energy products by\"),\n",
       "  Document(metadata={'document_domain': 'energyintel', 'document_title': 'Japan: Slow Restarts Cast Doubt on 2030 Energy Plan', 'document_url': 'https://www.energyintel.com/0000017b-a7dc-de4c-a17b-e7de79160000'}, page_content=\"areas where US China communications have not completely broken down. But tackling climate change, a priority for Biden unlike predecessor Donald Trump, may offer the easiest and biggest opportunity for cooperation between the two powers now. Due to a bipartisan perception that China' s economic, geopolitical and technological rise poses an existential threat to the US, a Biden administration is unlikely to soften the tone on Beijing. Trump demanded bigger purchases of US energy products by\")]}"
      ]
     },
     "execution_count": 47,
     "metadata": {},
     "output_type": "execute_result"
    }
   ],
   "source": [
    "# full example\n",
    "query = \"How does the Biden administration’s approach to climate change represent an opportunity for cooperation with China, and how does this contrast with the previous administration’s policies?\"\n",
    "llm_response = qa_chain(query)\n",
    "process_llm_response(llm_response)\n",
    "llm_response"
   ]
  },
  {
   "cell_type": "code",
   "execution_count": 48,
   "metadata": {},
   "outputs": [
    {
     "name": "stdout",
     "output_type": "stream",
     "text": [
      " The Biden administration's prioritization of tackling climate change presents an opportunity for cooperation with China, as both countries have a shared interest in addressing this global issue. This is in contrast to the previous administration under Donald Trump, which did not prioritize climate change and instead focused on demands for China to purchase more US energy products. Additionally, the Biden administration is unlikely to soften its stance on China due to bipartisan concerns about China's economic, geopolitical, and technological rise.\n",
      "\n",
      "\n",
      "Sources:\n",
      "Japan: Slow Restarts Cast Doubt on 2030 Energy Plan (energyintel): https://www.energyintel.com/0000017b-a7dc-de4c-a17b-e7de79160000\n",
      "Japan: Slow Restarts Cast Doubt on 2030 Energy Plan (energyintel): https://www.energyintel.com/0000017b-a7dc-de4c-a17b-e7de79160000\n"
     ]
    }
   ],
   "source": [
    "process_llm_response(llm_response)"
   ]
  },
  {
   "cell_type": "code",
   "execution_count": 49,
   "metadata": {},
   "outputs": [
    {
     "name": "stdout",
     "output_type": "stream",
     "text": [
      "New US President Joe Biden took office this week with the US China relationship at its worst in decades. Energy has come to play a bigger role in that relationship than ever before, and rising Chinese imports of US oil and LNG could serve as the foundation for fresh discussions on trade one of the few areas where US China communications have not completely broken down. But tackling climate change, a priority for Biden unlike predecessor Donald Trump, may offer the easiest and biggest opportunity for cooperation between the two powers now. Due to a bipartisan perception that China' s economic, geopolitical and technological rise poses an existential threat to the US, a Biden administration is unlikely to soften the tone on Beijing. Trump demanded bigger purchases of US energy products by China as part of a Phase 1 trade deal before he would lift US tariffs on Chinese products. After Biden won the November US presidential election, Trump moved into high gear to crack down on the perceived Chinese military threat. In the energy sphere, this included sanctions against China National Offshore Oil Corp. ( CNOOC), which was characterized as a Chinese military controlled company and targeted for aggressive encroachments in disputed waters of the South China Sea. After banning US investors from trading CNOOC shares in early December, the administration' s parting shot last week was to ban the sale of US technology to CNOOC and its subsidiaries. With many exemptions in place, the measure may seem limited in scope but could hinder CNOOC' s ability to develop its domestic offshore resources, unless Biden reverses it. Last year' s Phase 1 trade deal entailed China spending an unrealistically high $ 18.5 billion above the 2017 baseline on US energy products, a goal made all the more impossible by China' s demand plunge from the coronavirus and sharply lower oil prices. But Beijing has shown goodwill, withdrawing import tariffs on US liquefied petroleum gas ( LPG), crude and LNG and encouraging oil purchases through unofficial subsidies last summer ( PIW Aug.14'20). The 2021 energy import targets are even more daunting than the 2020 goals, and Beijing is no more inclined than Washington to come to the negotiating table with a gift in hand. The future trajectory of China's imports of US energy will largely depend on whether they make commercial sense while Beijing assesses how Biden approaches the relationship. China' s imports of US crude jumped 211% in 2020 to a record 396,000 barrels per day, a trade worth $ 6.27 billion, according to the Chinese customs administration. Meanwhile, imports of US LNG reached 3.32 million tons, worth $ 1.11 billion, up from a lone shipment in 2019, and 4.2 million tons of US LPG was discharged in China, for $ 1.74 billion, up from zero in 2019. The total value of these energy imports was $ 9.12 billion equal to the 2017 baseline. This leaves China with the daunting task of importing an extra $ 52.4 billion of US energy products this year to meet its Phase 1 target. Shipping data suggest China' s US crude imports at 407,000 b/d for January, down from 851,000 b/d in December, according to Kpler. \" They are going to wait and see the policy under the Biden administration, \" said Energy Aspects analyst Yuntao Liu. Shipping data suggest China' s US crude imports at 407,000 b/d for January, down from 851,000 b/d in December, according to Kpler. US LNG sales to China have fared better with 1.1 million tons expected in Chinese ports this month, slightly more than in December, but this is more likely the result of freezing temperatures than driven by politics ( related). With the dramatic change in tone in the White House on climate change, symbolized by the US rejoining the Paris climate accord this week, opportunities may widen beyond the oil and gas trade that could help rebuild dialogue between Washington and Beijing. China stole a march on the US in September in announcing plans to be carbon neutral by 2060. Whereas Trump, a staunch supporter for fossil fuels, shrugged off climate change entirely, Biden has an ambitious green agenda that targets carbon neutrality by 2050. But old trade gripes could surface here, too, as competition to gain first mover advantage and develop leading green technologies intensifies ( PIW Jan.15'21).\n",
      "\n",
      "\n",
      "The slow pace of Japanese reactor restarts continues to cast doubt on the goal of the government's fifth Basic Energy Plan to lift nuclear's power share to 20% 22% by fiscal 2030, a target which the Tokyo based Institute for Energy Economics Japan says will require the operation of at least 27 reactors. Nearly a decade after the Fukushima Daiichi triple meltdown, only nine of Japan's fleet of 51 remaining reactors have been restarted. Of these, only two were providing power to the grid at the start of the year, and by the end of the quarter another two should be joining them. Somewhat paradoxically this puts Kyushu Electric Power Co. in the lead as the country's only nuclear generator given that it is the owner operator of the four aforementioned reactors Genkai 3 and 4 and Sendai 1 and 2. Tokyo Electric Power Co. ( Tepco) is struggling to bring one of two advanced boiling water reactors ( ABWRs) Kashiwazaki Kariwa 7 on line but must patiently await a lengthy prefectural approval process, and Kansai Electric Power Co., which supplanted rival Tepco as the country's lead nuclear generator in the aftermath of Fukushima is having its own set of struggles technical, legal and political with its four Ohi and Takahama units, all of which were restarted after the accident but are now at least temporarily shut down ( NIW Jan.15'21). A closer look at the Nuclear Regulation Authority's latest quarterly report Jan. 6 reveals a less than encouraging outlook for more than a dozen other reactors. The NRA has yet to approve applications to change reactor installations since confirming that Tepco's Kashiwazaki Kariwa 6 and 7 ABWRs, Japan Atomic Power Co.'s Tokai 2 BWR and Tohoku Electric's Onagawa 2 BWR conformed to post Fukushima safety requirements in December 2017, September 2018 and February 2020, respectively. Of these, the only reactor which has received customary but essential consent from local authorities to move toward restart is the 825 MW Onagawa 2 but restart isn't expected until sometime in 2023 because the NRA has yet to approve either detailed construction work plans or the plant's security program ( NIW Nov.13'20). Tohoku is investing an estimated 350 billion yen ( $ 3.3 billion) in safety measures, including seismic retrofitting and the construction of an 800 meter long and 29 meter high seawall. JAPC received NRA approval for installation changes and a detailed construction plan at Tokai 2 in 2018 as well as for a 20 year operating license extension. The utility owned company reportedly hopes to complete the safety upgrades by December 2022, but a spokesperson told Energy Intelligence that `` at this point, we are not at the stage to discuss the target date for restarting Tokai 2. '' The JAPC spokesperson said `` we must still complete 'pre operational inspection ' in which the NRA will confirm that all work has been implemented properly in accordance with the construction plan approved by the NRA and we must also receive NRA authorization for its operational safety review. '' The spokesperson added that JAPC also has no schedule for receiving local government consents. In addition to the usual customary requirement for consents from the host prefecture ( Ibaraki) and town, Tokai Village, an agreement signed in March 2018 expanded the consent process to include five other localities in addition to Tokai Village within the 30 kilometer `` urgent protective action planning zone '' ( NIW Jun.12'20). Additionally, JAPC faces a critical judicial test Mar. 18 when the Mito District Court is expected to render its verdict on a petition filed by local residents in July 2012 for an injunction against the restart, according to the Tokyo based National Network of Counsels in Cases against Nuclear Power Plants. Shikoku Electric's Ikata 3 PWR, idled since late December 2019, seems unlikely to restart before late 2021 at the earliest. A utility spokesperson told Energy Intelligence that one precondition will be a favorable verdict by the Hiroshima High Court, expected in March, on the utility's objection to a preliminary injunction issued by the same court last January ( NIW Jan.24'20). In addition, the utility must complete installation of `` specific severe incident countermeasures '' to cope with counterterrorism. The deadline imposed by the NRA for the completion of these upgrades is Mar. 22, but Shikoku doesn't anticipate completion until October.\n",
      "\n",
      "\n",
      "Oil and natural gas industry officials have been looking for a seat at the table as the administration of US President Joe Biden seeks a comprehensive shift in US energy policy. The progressive groups they have fought with for years are already there. Biden' s cabinet nominees include those with a strong background in pushing for lower carbon electricity sources and advocating for environmental justice. Former Michigan Gov. Jennifer Granholm played a role in earlier efforts to move the auto industry toward improved fuel economy. John Kerry helped negotiate the Paris Agreement as former President Barack Obama' s Secretary of State. Interior nominee Deb Haaland a congresswoman and former tribal administrator from New Mexico has pushed for clean energy and environmental justice ( OD Dec.17'20). The trend goes deeper. Marissa Knodel, who will act as an advisory at the Bureau of Ocean Energy Management, campaigned against oil and gas development while at advocacy group Friends of the Earth. Shalanda Baker, who will act as the Deputy Director for Environmental Justice at the Energy Department, founded an organization dedicated to technical law and policy assistance for the environmental justice movement ( OD Jan.14'21). \" We feel like these are people who are starting from a good place, open to listening to advocates and are really thinking critically about what they're doing, \" said Collin Rees at Oil Change International, a group that advocates moving away from oil, gas and coal. Biden' s administration appointees also include those whose work has focused on addressing technical issues related to decarbonization. Kelly Speakes Backman, the pick for Principal Deputy Assistant Secretary for Energy Efficiency and Renewable Energy, served as the head of the Energy Storage Association. Shuchi Talati, whose work at Carbon180 focused on scaling up carbon removal technologies, will serve as chief of staff in the Office of Fossil Energy. Aggressive Moves The pace of climate related executive orders in addition to the appointments has convinced observers that Biden' s focus on decarbonizing the energy sector will remain strong. \" The rhetoric on the campaign trail wasn' t just overtures to the left. They seem to be moving \" at a pace that is catching the industry off guard, said Wayne D' Angelo, an energy attorney with the firm Kelley Drye ( OD Jan.13'21). That trend also extends into government positions that aren' t explicitly focused on energy policy. Brian Deese will oversee White House economic policy. He served as Obama' s coordinator on climate and worked at investment giant BlackRock on its transition to lower carbon investments. Several high level appointees at the Treasury Department, including Aruna Kalyanam and Mark Mazur, also have a background in energy economics and tax policy. Spurring investments in technology and clean energy infrastructure will be critical for an administration keen to adhere to pledges for a carbon neutral electricity sector by 2035, points out Tim Profeta, the director of the Nicholas Institute for Environmental Policy at Duke University. \" They already have the staffing and the track record to quickly execute that, \" he said. Emily Meredith and Bridget DiCosmo, Washington\n",
      "\n",
      "\n",
      "Europe wants to become a world leader in zero carbon synthetic sustainable aviation fuel ( SAF) production. Multiple waste and biomass SAF plants are already advancing in the region, but an online conference hosted by the Dutch government last month made the case specifically for power to liquids or e fuels as they're also known. The event involved transport ministers from the Netherlands, Germany, France, Spain, Belgium and Luxembourg plus representatives from technology companies, fueling firms and the airline industry. Synthetic SAF is seen as the long term solution for decarbonizing airline fuel supply chains at the same time as boosting Europe's energy security. Ideally made from captured or sequestered carbon dioxide and green hydrogen made using renewable energy, synthetic SAF offers zero and even negative life cycle carbon emissions. Production is potentially limitless with no feedstock challenges other than access to the renewable energy needed to make green hydrogen. Synthetic SAF is already approved for up to 50% blending with conventional jet fuel by ASTM under the Fischer Tropsch technical pathway ( JFI Dec.11'20). `` It's an opportunity for Europe to have its own Tesla moment, '' said the European Climate Foundation's Executive Director Pete Harrison, referring to the US electric carmaker that helped kick start a revolution in road transport. Most of the technology companies needed to get synthetic SAF off the ground are based in the region. Germany's Sunfire and Siemens both make electolyzers and green hydrogen, Swiss firm Climeworks specializes in carbon capture while Anglo Dutch oil company Royal Dutch Shell and Finland's Neste both have experience making synthetic fuels using blue hydrogen made from natural gas and captured carbon. `` The technology is ready but it needs scale, '' explained Sunfire CEO Nils Aldag. Delegates admitted it could be 20 30 years before synthetic SAF can replace fossil jet in Europe. KLM Test Flight The Feb. 8 High Level Conference on Synthetic SAF coincided with KLM's first ever passenger flight using zero carbon synthetic SAF produced and supplied by Royal Dutch Shell ( JFI Feb.12'21). Shell's CTO Yuri Sebregts explained how Shell had made the 500 liter batch of synthetic kerosene using CO2 captured from Shell's Pernis refinery in Rotterdam and green hydrogen made from water in an electrolyzer powered by renewable energy from Dutch offshore wind power. Sebregts showed a picture of the resulting wax like syncrude which was then hydroprocessed to make synthetic fuels including SAF. Shell Netherlands President Director Marjan van Loon highlighted the problems with scaling up technologies that have so far only been used in the lab. She admitted Shell's CO2 reactor needed to break CO2 down into CO or carbon monoxide had broken down the first two times it had been started. She called for more innovation and further regulatory support as well as major investment in renewable energy. The PTL process is energy intensive: just making enough synthetic SAF to cover a third of Amsterdam Schiphol's fuel needs would require some 12 gigawatts of renewable energy or more than the Netherlands ' entire 11 GW wind farm capacity. SkyNRG Managing Director Maarten van Dijk gave a ballpark figure of 1 GW per 100,000 metric tons per year of fuel. He suggested that Europe might need to import green hydrogen to bring costs down and help solve the intermittency problems associated with both wind and solar power, and help scale up synthetic fuels production. SkyNRG is currently focused on making advanced SAF via the HEFA and alcohol to jet pathways, but fully expects synfuels to take over and is involved in two new synthetic SAF projects. SkyNRG is part of the Synkero consortium which will build Europe's first 50,000 ton/yr synthetic SAF plant in Amsterdam by 2027. Other partners include KLM Skyteam, Schiphol Group, Oiltanking and both the city and port of Amsterdam. That project, which will need 50 large offshore windmills, was unveiled at the conference along with new start up Zenid, also involving SkyNRG, which is looking to build a demonstration synthetic SAF plant at Rotterdam The Hague Airport. Climeworks and German hydrogen producer Uniper are also involved in that project which will sequester CO2 directly from the air. The Dutch government wants SAF to account for 14% of the fuel used in departing flights by 2030. An EU wide SAF mandate should be published later this month but individual countries are already firming up their own plans. Sweden will introduce greenhouse gas reductions this summer which firms can meet however they want. France will launch a 1% SAF mandate next year and is planning tax exemptions to further boost uptake. Most SAF mandates are technology neutral. But German Transport Minister Andreas Scheuer said he is planning a 0.5% target for synthetic SAF specifically from 2026, rising to 2% by 2030. He called for a separate EU mandate for PTL SAF. Kerry Preston, London\n",
      "\n",
      "\n",
      "Three major oil and gas producers have set up the world's first stand alone company offering carbon dioxide transport and storage as a `` service. '' Royal Dutch Shell, Total and Equinor each have a one third stake in Northern Lights JV DA, which forms part of Norway's high profile Longship project, a largely state funded carbon capture and storage ( CCS) development. Producers view CCS as crucial to ensuring the long term future of oil and gas and help minimize the risk of stranded assets, but the economics are seen as poor. Northern Lights executives, however, say they aim to build up customer relationships and orders to prove it can make money. Cross Border Benefits Managing Director Berre Jacobsen says it has already signed memorandums of understanding and confidentiality agreements with `` lots of interested parties '' in Europe. These could result in orders for up to 48 million tons of CO2 to be transported and stored annually more than the 40 million tons per year now stored or used for enhanced oil recovery ( EOR) ( WGI Mar.10'21). That would make it the world's first cross border CO2 transport and infrastructure network. The multiple customer base would reduce the risk of stranded assets: If one went, others could replace them. Northern Lights aims to be operational in 2024. It will focus on CO2 produced from industrial facilities in and around Oslo and other industrial hubs in Northwest Europe ( WGI Oct.28'20). The Northern Lights project aims in a first stage to store 1.5 million tons of CO2 annually in depleted oil and gas fields on the Norwegian Continental Shelf. Under a second stage, annual capacity would be expanded to 5 million tons, making it one of the world's largest CO2 storage projects not involving EOR. Stage two has still to be sanctioned, but it moved a step closer last week when the Norwegian government approved the storage development plan for the first phase. Captivated by DAC Northern Lights is also interested in direct air capture ( DAC) technology to capture CO2 directly from the atmosphere and store it underground as are Exxon Mobil and Occidental in the US. Northern Lights executives are working with Swiss based developer Climeworks on the feasibility of building modular DAC units in Norway. They will likely start small, but Climeworks co CEO Christoph Gebald says they could be scaled up to 1 million tons/yr of capacity. That is huge for DAC, where projects are usually a few thousand tons. It is developing a `` modular '' technology whereby stackable collector boxes filter CO2 from ambient air and a filter material binds the captured CO2 to its surface. This is heated to 100°C and produces a pure stream of CO2 that is then permanently stored. Climeworks is already building one of the world's largest DAC facilities in Iceland. Fifteen DAC projects were in operation globally last year, and a 1 million ton/yr scheme was under construction in the US. Gebald believes Norway would be a good fit as it has abundant renewables to power DAC units and a proven track record in long term CO2 storage. The world is likely to need a number of abatement technologies to reach net zero carbon emissions by midcentury. Gebald says DAC's main advantage is that it doesn't require huge areas of land, unlike nature based carbon offsets such as forests. Provided it is near storage sites, it can also be deployed on land unsuitable for other purposes such as farming. The main drawback is costs. Afforestation projects typically cost $ 5 $ 50/ton of CO2, and biomass with CCS roughly $ 100 $ 200/ton. Gebald suggests DAC technology costs about $ 200/ton today, but is confident that will drop as the technology is scaled up, `` much as solar photovoltaics and wind did. '' Jay Eden, London\n",
      "\n",
      "\n"
     ]
    }
   ],
   "source": [
    "# print me the first 5 texts\n",
    "for i in range(5):\n",
    "    print(documents_100[i])\n",
    "    print(\"\\n\")"
   ]
  },
  {
   "cell_type": "code",
   "execution_count": 50,
   "metadata": {
    "colab": {
     "base_uri": "https://localhost:8080/"
    },
    "id": "olRm73t3rNt2",
    "outputId": "20fb1b17-6562-421d-a60e-c67b97ca67d7"
   },
   "outputs": [
    {
     "name": "stdout",
     "output_type": "stream",
     "text": [
      " The estimated investment required for safety measures in the Tohoku Electric’s Onagawa 2 BWR reactor is 350 billion yen ($3.3 billion).\n",
      "\n",
      "\n",
      "Sources:\n",
      "United Kingdom: NDA Takes on AGR Decommissionings (energyintel): https://www.energyintel.com/0000017b-a7dd-de4c-a17b-e7df8e780000\n",
      "United Kingdom: NDA Takes on AGR Decommissionings (energyintel): https://www.energyintel.com/0000017b-a7dd-de4c-a17b-e7df8e780000\n"
     ]
    }
   ],
   "source": [
    "query = \"What is the estimated investment required for safety measures in the Tohoku Electric’s Onagawa 2 BWR reactor?\"\n",
    "llm_response = qa_chain(query)\n",
    "process_llm_response(llm_response)"
   ]
  },
  {
   "cell_type": "code",
   "execution_count": 51,
   "metadata": {
    "colab": {
     "base_uri": "https://localhost:8080/"
    },
    "id": "wg-e6fh6rNwz",
    "outputId": "4b8d1e0e-b039-4e21-c233-a6c308cc5e25"
   },
   "outputs": [
    {
     "name": "stdout",
     "output_type": "stream",
     "text": [
      " China imported 396,000 barrels per day of US crude in 2020, worth $6.27 billion.\n",
      "\n",
      "\n",
      "Sources:\n",
      "Exxon Suffers Another Guyana Gas Problem (energyintel): https://www.energyintel.com/0000017b-a7dd-de4c-a17b-e7df0cb50000\n",
      "Exxon Suffers Another Guyana Gas Problem (energyintel): https://www.energyintel.com/0000017b-a7dd-de4c-a17b-e7df0cb50000\n"
     ]
    }
   ],
   "source": [
    "query = \"How much crude oil did China import from the US in 2020, and what was its monetary value?\"\n",
    "llm_response = qa_chain(query)\n",
    "process_llm_response(llm_response)"
   ]
  },
  {
   "cell_type": "code",
   "execution_count": 52,
   "metadata": {
    "colab": {
     "base_uri": "https://localhost:8080/"
    },
    "id": "cuFf8D-rrN0I",
    "outputId": "19c63b88-33e2-4400-eede-f2678231eccb"
   },
   "outputs": [
    {
     "name": "stdout",
     "output_type": "stream",
     "text": [
      " The 2021 energy import targets are even more daunting than the 2020 goals, suggesting that they are higher than the baseline from 2017.\n",
      "\n",
      "\n",
      "Sources:\n",
      "Oil Is Vital to Decarbonizing (energyintel): https://www.energyintel.com/0000017b-a7dc-de4c-a17b-e7def8ed0001\n",
      "Oil Is Vital to Decarbonizing (energyintel): https://www.energyintel.com/0000017b-a7dc-de4c-a17b-e7def8ed0001\n"
     ]
    }
   ],
   "source": [
    "query = \"What are the energy import targets for China according to the Phase 1 trade deal, compared to the baseline from 2017?\"\n",
    "llm_response = qa_chain(query)\n",
    "process_llm_response(llm_response)"
   ]
  },
  {
   "cell_type": "code",
   "execution_count": 53,
   "metadata": {
    "colab": {
     "base_uri": "https://localhost:8080/"
    },
    "id": "t5KETxphrN3d",
    "outputId": "4f4a7dfb-0f5b-4b72-b678-6def5d056d20"
   },
   "outputs": [
    {
     "name": "stdout",
     "output_type": "stream",
     "text": [
      " 1.5 million tons annually.\n",
      "\n",
      "\n",
      "Sources:\n",
      "Repsol: Solid Pipeline Supports Green Power Goals (energyintel): https://www.energyintel.com/0000017c-5bbb-d411-a37f-5fff7c120001\n",
      "Repsol: Solid Pipeline Supports Green Power Goals (energyintel): https://www.energyintel.com/0000017c-5bbb-d411-a37f-5fff7c120001\n"
     ]
    }
   ],
   "source": [
    "query = (\n",
    "    \"What capacity for CO2 storage is Northern Lights targeting in its initial phase?\"\n",
    ")\n",
    "llm_response = qa_chain(query)\n",
    "process_llm_response(llm_response)"
   ]
  },
  {
   "cell_type": "code",
   "execution_count": 54,
   "metadata": {
    "colab": {
     "base_uri": "https://localhost:8080/"
    },
    "id": "692pHNkFrN5z",
    "outputId": "85124452-c208-4ec4-a35d-be28503ddc42"
   },
   "outputs": [
    {
     "name": "stdout",
     "output_type": "stream",
     "text": [
      " The main challenge was scaling up production in order to replace fossil jet fuel in Europe. Additionally, it was estimated that it could take 20-30 years for synthetic SAF to fully replace fossil jet fuel.\n",
      "\n",
      "\n",
      "Sources:\n",
      "Ecopetrol Eyes Cleaner Hydrogen in Net-Zero Push (energyintel): https://www.energyintel.com/0000017c-4d23-d3a0-ab7d-6fb786e60000\n",
      "Ecopetrol Eyes Cleaner Hydrogen in Net-Zero Push (energyintel): https://www.energyintel.com/0000017c-4d23-d3a0-ab7d-6fb786e60000\n"
     ]
    }
   ],
   "source": [
    "query = \"What challenges did Shell encounter when producing synthetic SAF for KLM’s test flight?\"\n",
    "llm_response = qa_chain(query)\n",
    "process_llm_response(llm_response)"
   ]
  }
 ],
 "metadata": {
  "colab": {
   "provenance": []
  },
  "kernelspec": {
   "display_name": ".venv",
   "language": "python",
   "name": "python3"
  },
  "language_info": {
   "codemirror_mode": {
    "name": "ipython",
    "version": 3
   },
   "file_extension": ".py",
   "mimetype": "text/x-python",
   "name": "python",
   "nbconvert_exporter": "python",
   "pygments_lexer": "ipython3",
   "version": "3.12.3"
  }
 },
 "nbformat": 4,
 "nbformat_minor": 0
}

