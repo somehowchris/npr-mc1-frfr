{
 "cells": [
  {
   "cell_type": "code",
   "metadata": {
    "ExecuteTime": {
     "end_time": "2024-11-05T18:45:45.558678Z",
     "start_time": "2024-11-05T18:45:44.596205Z"
    }
   },
   "source": [
    "import pandas as pd\n",
    "from tqdm import tqdm\n",
    "from pandarallel import pandarallel\n",
    "from langchain_huggingface import HuggingFaceEndpointEmbeddings\n",
    "from langchain.document_loaders import DirectoryLoader\n",
    "from langchain_experimental.text_splitter import SemanticChunker\n",
    "from langchain.schema import Document\n",
    "\n",
    "pandarallel.initialize(progress_bar=True, verbose=0)\n",
    "tqdm.pandas()\n",
    "import os\n",
    "from openai import OpenAI\n",
    "import numpy as np\n",
    "import chromadb\n",
    "from chromadb.config import Settings\n",
    "\n",
    "with open(\"secrets.txt\", \"r\") as f:\n",
    "    lines = f.readlines()\n",
    "    for line in lines:\n",
    "        if line.startswith(\"openai\"):\n",
    "            secret = line.split(\"=\")[1].strip()\n",
    "\n",
    "os.environ[\"OPENAI_API_KEY\"] = secret"
   ],
   "outputs": [],
   "execution_count": 2
  },
  {
   "cell_type": "code",
   "metadata": {
    "ExecuteTime": {
     "end_time": "2024-11-05T18:45:47.359672Z",
     "start_time": "2024-11-05T18:45:46.466506Z"
    }
   },
   "source": [
    "df = pd.read_parquet(\"data/processed/chunked_sd_embedded.parquet\")"
   ],
   "outputs": [],
   "execution_count": 3
  },
  {
   "cell_type": "code",
   "metadata": {
    "ExecuteTime": {
     "end_time": "2024-11-05T18:45:47.439344Z",
     "start_time": "2024-11-05T18:45:47.360889Z"
    }
   },
   "source": [
    "with open(\"secrets.txt\", \"r\") as f:\n",
    "    lines = f.readlines()\n",
    "    for line in lines:\n",
    "        if line.startswith(\"api_token\"):\n",
    "            token = line.split(\"=\")[1].strip()\n",
    "\n",
    "embeddings = HuggingFaceEndpointEmbeddings(\n",
    "    model=\"http://100.67.185.22:8080\", huggingfacehub_api_token=token\n",
    ")"
   ],
   "outputs": [],
   "execution_count": 4
  },
  {
   "cell_type": "code",
   "execution_count": 4,
   "metadata": {},
   "outputs": [
    {
     "name": "stderr",
     "output_type": "stream",
     "text": [
      "100%|██████████| 63708/63708 [00:08<00:00, 7829.54it/s]"
     ]
    },
    {
     "name": "stdout",
     "output_type": "stream",
     "text": [
      "Sample embedding type and shape: <class 'numpy.ndarray'> (2048,) float32\n"
     ]
    },
    {
     "name": "stderr",
     "output_type": "stream",
     "text": [
      "\n"
     ]
    }
   ],
   "source": [
    "# Flatten, pad/truncate, and convert each embedding to a consistent 1D np.float32 array\n",
    "def prepare_embedding_for_chromadb(embedding):\n",
    "    # Flatten the embedding if it's nested\n",
    "    flat_embedding = (\n",
    "        [float(val) for sublist in embedding for val in sublist]\n",
    "        if isinstance(embedding[0], (list, np.ndarray))\n",
    "        else embedding\n",
    "    )\n",
    "\n",
    "    # Ensure the embedding is exactly 2048 dimensions\n",
    "    if len(flat_embedding) < 2048:\n",
    "        flat_embedding.extend(\n",
    "            [0.0] * (2048 - len(flat_embedding))\n",
    "        )  # Pad with zeros if too short\n",
    "    elif len(flat_embedding) > 2048:\n",
    "        flat_embedding = flat_embedding[:2048]  # Truncate if too long\n",
    "\n",
    "    # Convert to np.float32\n",
    "    return np.array(flat_embedding, dtype=np.float32)\n",
    "\n",
    "\n",
    "# Apply the function to prepare embeddings\n",
    "tqdm.pandas()\n",
    "df[\"embeddings\"] = df[\"embeddings\"].progress_apply(prepare_embedding_for_chromadb)\n",
    "\n",
    "# Check the result\n",
    "print(\n",
    "    \"Sample embedding type and shape:\",\n",
    "    type(df[\"embeddings\"][0]),\n",
    "    df[\"embeddings\"][0].shape,\n",
    "    df[\"embeddings\"][0].dtype,\n",
    ")"
   ]
  },
  {
   "cell_type": "code",
   "execution_count": 5,
   "metadata": {},
   "outputs": [],
   "source": [
    "# Convert 'date' column to string format\n",
    "df[\"date\"] = df[\"date\"].astype(str)"
   ]
  },
  {
   "cell_type": "code",
   "execution_count": 6,
   "metadata": {},
   "outputs": [],
   "source": [
    "# Ensure all doc_ids are unique by adding a suffix to duplicates\n",
    "df[\"doc_id\"] = df[\"doc_id\"].astype(str)  # Ensure IDs are strings\n",
    "df[\"doc_id\"] = df.groupby(\"doc_id\").cumcount().astype(str) + \"_\" + df[\"doc_id\"]"
   ]
  },
  {
   "cell_type": "code",
   "execution_count": 7,
   "metadata": {},
   "outputs": [
    {
     "name": "stdout",
     "output_type": "stream",
     "text": [
      "Response: Answer:\n",
      "The turbines used in Icelandic geothermal power plants come from various manufacturers such as Toshiba Energy Systems & Solutions Corporation (ID: 3). Toshiba Energy Systems & Solutions Corporation has been involved in supplying turbines for geothermal power plants in Iceland, as shown in the document \"Geothermal Finance & Development: June 2020\" (ID: 3). This document discusses Toshiba's contract to supply turbines for the Þeistareykir Geothermal Power Plant in Iceland, highlighting their role in providing efficient and reliable equipment for geothermal power generation.\n",
      "\n",
      "In addition to Toshiba, other companies like Mitsubishi Hitachi Power Systems Europe GmbH have also supplied turbines for Icelandic geothermal projects. The document \"Geothermal in Iceland\" (ID: 2) mentions the involvement of Mitsubishi Hitachi Power Systems Europe GmbH in supplying turbines for the Hellisheiði Geothermal Power Plant in Iceland. This indicates that a variety of turbine manufacturers are contributing to the development of geothermal power projects in Iceland.\n",
      "\n",
      "Overall, the turbines used in Icelandic geothermal power plants are sourced from reputable companies like Toshiba Energy Systems & Solutions Corporation and Mitsubishi Hitachi Power Systems Europe GmbH, demonstrating a commitment to utilizing quality equipment from established manufacturers in the geothermal energy sector.\n",
      "\n",
      "Sources:\n",
      "- Document 2: Geothermal in Iceland, URL: [Document 2 URL]\n",
      "- Document 3: Geothermal Finance & Development: June 2020, URL: [Document 3 URL]\n",
      "----------------------------------------\n",
      "Used question: Where do the turbines used in Icelandic geothermal power plants come from?, URL: https://www.thinkgeoenergy.com/japan-and-iceland-agree-on-geothermal-energy-cooperation/\n"
     ]
    }
   ],
   "source": [
    "# load eval dataset\n",
    "df_eval = pd.read_csv(\"data/eval_dataset/cleantech_rag_evaluation_data_2024-02-23.csv\")\n",
    "\n",
    "with open(\"secrets.txt\", \"r\") as f:\n",
    "    lines = f.readlines()\n",
    "    for line in lines:\n",
    "        if line.startswith(\"openai\"):\n",
    "            secret = line.split(\"=\")[1].strip()\n",
    "\n",
    "os.environ[\"OPENAI_API_KEY\"] = secret\n",
    "\n",
    "ai_client = OpenAI(\n",
    "    api_key=os.environ.get(\"OPENAI_API_KEY\"),\n",
    ")\n",
    "\n",
    "# Initialize ChromaDB client with persistent settings\n",
    "client = chromadb.PersistentClient(path=\"./data/chromadb/\")\n",
    "collection_name = \"energy_articles\"\n",
    "\n",
    "# Delete and recreate collection with a specified dimension of 1024 (or your intended dimension)\n",
    "if collection_name in [col.name for col in client.list_collections()]:\n",
    "    client.delete_collection(collection_name)\n",
    "collection = client.get_or_create_collection(name=collection_name)\n",
    "\n",
    "eval_data_index = df_eval.sample(n=1)\n",
    "eval_question = eval_data_index.iloc[0][\"question\"]\n",
    "article_url = eval_data_index.iloc[0][\"article_url\"]\n",
    "\n",
    "# Query text\n",
    "query_text = eval_question\n",
    "\n",
    "# Generate query embedding using the Hugging Face endpoint\n",
    "query_embedding = embeddings.embed_query(query_text)\n",
    "\n",
    "# Retrieve top 5 most relevant documents\n",
    "results = collection.query(\n",
    "    query_embeddings=[query_embedding],\n",
    "    n_results=5,  # Number of similar documents to retrieve\n",
    ")\n",
    "\n",
    "# Prepare context with document references\n",
    "retrieved_text = \"\"\n",
    "for idx, doc in enumerate(results[\"documents\"][0]):\n",
    "    metadata = results[\"metadatas\"][0][idx]  # Access metadata for each document\n",
    "    doc_id = metadata.get(\n",
    "        \"doc_id\", f\"Document {idx + 1}\"\n",
    "    )  # Retrieve doc_id if available\n",
    "    title = metadata.get(\"title\", \"Untitled Document\")\n",
    "    url = metadata.get(\"url\", \"URL not available\")\n",
    "    content_snippet = doc[:300] + \"...\"  # Take the first 300 characters as a snippet\n",
    "\n",
    "    retrieved_text += (\n",
    "        f\"Document {idx + 1} - ID: {doc_id}\\n\"\n",
    "        f\"Title: {title}\\n\"\n",
    "        f\"URL: {url}\\n\"\n",
    "        f\"Content Snippet: {content_snippet}\\n\\n\"\n",
    "    )\n",
    "\n",
    "# Create a system message with instructions for the assistant\n",
    "system_message = \"\"\"\n",
    "You are a knowledgeable assistant. Based on the information from the documents provided by the user, answer the question in a detailed and informative way. In your answer, refer to specific documents by mentioning their titles, URLs, and IDs when relevant.\n",
    "\n",
    "At the end of your answer, please provide a separate \"Sources\" section, listing all document titles, IDs, and URLs you referenced, even if they were only indirectly useful.\n",
    "\"\"\"\n",
    "\n",
    "# Construct the prompt as the user's message\n",
    "prompt = f\"\"\"\n",
    "Question: {query_text}\n",
    "\n",
    "Documents:\n",
    "{retrieved_text}\n",
    "\n",
    "Please structure your answer as follows:\n",
    "Answer:\n",
    "(Your detailed answer here, with references to specific documents as needed)\n",
    "\n",
    "Sources:\n",
    "- Document 1: ID, Title, URL\n",
    "- Document 2: ID, Title, URL\n",
    "- Document 3: ID, Title, URL\n",
    "(Include every document you referred to in the answer)\n",
    "\"\"\"\n",
    "\n",
    "# Generate a response with GPT-3.5-turbo\n",
    "response = ai_client.chat.completions.create(\n",
    "    messages=[\n",
    "        {\"role\": \"system\", \"content\": system_message},\n",
    "        {\"role\": \"user\", \"content\": prompt},\n",
    "    ],\n",
    "    model=\"gpt-3.5-turbo\",\n",
    ")\n",
    "\n",
    "generated_response = response.choices[0].message.content\n",
    "\n",
    "# Print the generated response\n",
    "print(\"Response:\", generated_response)\n",
    "print(\"-\" * 40)\n",
    "print(f\"Used question: {eval_question}, URL: {article_url}\")"
   ]
  },
  {
   "cell_type": "code",
   "execution_count": 8,
   "metadata": {},
   "outputs": [
    {
     "name": "stdout",
     "output_type": "stream",
     "text": [
      "   example_id  question_id                                           question  \\\n",
      "0           1            1  What is the innovation behind Leclanché's new ...   \n",
      "1           2            2       What is the EU’s Green Deal Industrial Plan?   \n",
      "\n",
      "                                      relevant_chunk  \\\n",
      "0  Leclanché said it has developed an environment...   \n",
      "1  The Green Deal Industrial Plan is a bid by the...   \n",
      "\n",
      "                                         article_url  \n",
      "0  https://www.sgvoice.net/strategy/technology/23...  \n",
      "1  https://www.sgvoice.net/policy/25396/eu-seeks-...  \n"
     ]
    }
   ],
   "source": [
    "print(df_eval.head(2))"
   ]
  },
  {
   "cell_type": "code",
   "metadata": {
    "ExecuteTime": {
     "end_time": "2024-11-05T18:46:26.765083Z",
     "start_time": "2024-11-05T18:46:26.758716Z"
    }
   },
   "source": [
    "df_eval = pd.read_csv(\"data/eval_dataset/cleantech_rag_evaluation_data_2024-02-23.csv\")\n",
    "\n",
    "df_eval.head(2)"
   ],
   "outputs": [
    {
     "data": {
      "text/plain": [
       "   example_id  question_id                                           question  \\\n",
       "0           1            1  What is the innovation behind Leclanché's new ...   \n",
       "1           2            2       What is the EU’s Green Deal Industrial Plan?   \n",
       "\n",
       "                                      relevant_chunk  \\\n",
       "0  Leclanché said it has developed an environment...   \n",
       "1  The Green Deal Industrial Plan is a bid by the...   \n",
       "\n",
       "                                         article_url  \n",
       "0  https://www.sgvoice.net/strategy/technology/23...  \n",
       "1  https://www.sgvoice.net/policy/25396/eu-seeks-...  "
      ],
      "text/html": [
       "<div>\n",
       "<style scoped>\n",
       "    .dataframe tbody tr th:only-of-type {\n",
       "        vertical-align: middle;\n",
       "    }\n",
       "\n",
       "    .dataframe tbody tr th {\n",
       "        vertical-align: top;\n",
       "    }\n",
       "\n",
       "    .dataframe thead th {\n",
       "        text-align: right;\n",
       "    }\n",
       "</style>\n",
       "<table border=\"1\" class=\"dataframe\">\n",
       "  <thead>\n",
       "    <tr style=\"text-align: right;\">\n",
       "      <th></th>\n",
       "      <th>example_id</th>\n",
       "      <th>question_id</th>\n",
       "      <th>question</th>\n",
       "      <th>relevant_chunk</th>\n",
       "      <th>article_url</th>\n",
       "    </tr>\n",
       "  </thead>\n",
       "  <tbody>\n",
       "    <tr>\n",
       "      <th>0</th>\n",
       "      <td>1</td>\n",
       "      <td>1</td>\n",
       "      <td>What is the innovation behind Leclanché's new ...</td>\n",
       "      <td>Leclanché said it has developed an environment...</td>\n",
       "      <td>https://www.sgvoice.net/strategy/technology/23...</td>\n",
       "    </tr>\n",
       "    <tr>\n",
       "      <th>1</th>\n",
       "      <td>2</td>\n",
       "      <td>2</td>\n",
       "      <td>What is the EU’s Green Deal Industrial Plan?</td>\n",
       "      <td>The Green Deal Industrial Plan is a bid by the...</td>\n",
       "      <td>https://www.sgvoice.net/policy/25396/eu-seeks-...</td>\n",
       "    </tr>\n",
       "  </tbody>\n",
       "</table>\n",
       "</div>"
      ]
     },
     "execution_count": 7,
     "metadata": {},
     "output_type": "execute_result"
    }
   ],
   "execution_count": 7
  },
  {
   "cell_type": "code",
   "metadata": {
    "ExecuteTime": {
     "end_time": "2024-11-05T18:50:10.675645Z",
     "start_time": "2024-11-05T18:50:10.665253Z"
    }
   },
   "source": [
    "# Function to generate answers using OpenAI\n",
    "def get_answer(question):\n",
    "    try:\n",
    "        response = ai_client.chat.completions.create(\n",
    "            model=\"gpt-3.5-turbo\",\n",
    "            messages=[{\"role\": \"user\", \"content\": question}],\n",
    "        )\n",
    "        return response.choices[0].message.content\n",
    "    except Exception as e:\n",
    "        print(\n",
    "            f\"Error while generating answer for question: {question}. Error: {str(e)}\"\n",
    "        )\n",
    "        return None\n",
    "\n",
    "\n",
    "# Generate answers for each question and store them\n",
    "df_eval[\"predicted_answer\"] = df_eval[\"question\"].apply(get_answer)\n",
    "\n",
    "# Optionally, use 'relevant_chunk' as reference answer if no other reference is available\n",
    "df_eval[\"reference_answer\"] = df_eval[\"relevant_chunk\"]\n",
    "\n",
    "# Save the updated DataFrame\n",
    "df_eval.to_csv(\"data/eval_dataset/updated_eval_data.csv\", index=False)"
   ],
   "outputs": [
    {
     "name": "stdout",
     "output_type": "stream",
     "text": [
      "Error while generating answer for question: What is the innovation behind Leclanché's new method to produce lithium-ion batteries?. Error: name 'ai_client' is not defined\n",
      "Error while generating answer for question: What is the EU’s Green Deal Industrial Plan?. Error: name 'ai_client' is not defined\n",
      "Error while generating answer for question: What is the EU’s Green Deal Industrial Plan?. Error: name 'ai_client' is not defined\n",
      "Error while generating answer for question: What are the four focus areas of the EU's Green Deal Industrial Plan?. Error: name 'ai_client' is not defined\n",
      "Error while generating answer for question: When did the cooperation between GM and Honda on fuel cell vehicles start?. Error: name 'ai_client' is not defined\n",
      "Error while generating answer for question: Did Colgate-Palmolive enter into PPA agreements with solar developers?. Error: name 'ai_client' is not defined\n",
      "Error while generating answer for question: What is the status of ZeroAvia's hydrogen fuel cell electric aircraft?. Error: name 'ai_client' is not defined\n",
      "Error while generating answer for question: What is the \"Danger Season\"?. Error: name 'ai_client' is not defined\n",
      "Error while generating answer for question: Is Mississipi an anti-ESG state?. Error: name 'ai_client' is not defined\n",
      "Error while generating answer for question: Can you hang solar panels on garden fences?. Error: name 'ai_client' is not defined\n",
      "Error while generating answer for question: Who develops quality control systems for ocean temperature in-situ profiles?. Error: name 'ai_client' is not defined\n",
      "Error while generating answer for question: Why are milder winters detrimental for grapes and apples?. Error: name 'ai_client' is not defined\n",
      "Error while generating answer for question: What are the basic recycling steps for solar panels?. Error: name 'ai_client' is not defined\n",
      "Error while generating answer for question: Why does melting ice contribute to global warming?. Error: name 'ai_client' is not defined\n",
      "Error while generating answer for question: Does the Swedish government plan bans on new petrol and diesel cars?. Error: name 'ai_client' is not defined\n",
      "Error while generating answer for question: Where do the turbines used in Icelandic geothermal power plants come from?. Error: name 'ai_client' is not defined\n",
      "Error while generating answer for question: Who is the target user for Leapfrog Energy?. Error: name 'ai_client' is not defined\n",
      "Error while generating answer for question: What is Agrivoltaics?. Error: name 'ai_client' is not defined\n",
      "Error while generating answer for question: What is Agrivoltaics?. Error: name 'ai_client' is not defined\n",
      "Error while generating answer for question: Why is cannabis cultivation moving indoors?. Error: name 'ai_client' is not defined\n",
      "Error while generating answer for question: What are the obstacles for cannabis producers when it comes to using solar energy?. Error: name 'ai_client' is not defined\n",
      "Error while generating answer for question: In 2021, what were the top 3 states in the US in terms of total solar power generating capacity?. Error: name 'ai_client' is not defined\n",
      "Error while generating answer for question: Which has the higher absorption coefficient for wavelengths above 500m - amorphous germanium or amorphous silicon?. Error: name 'ai_client' is not defined\n"
     ]
    }
   ],
   "execution_count": 8
  },
  {
   "cell_type": "code",
   "execution_count": 25,
   "metadata": {},
   "outputs": [
    {
     "data": {
      "text/html": [
       "<div>\n",
       "<style scoped>\n",
       "    .dataframe tbody tr th:only-of-type {\n",
       "        vertical-align: middle;\n",
       "    }\n",
       "\n",
       "    .dataframe tbody tr th {\n",
       "        vertical-align: top;\n",
       "    }\n",
       "\n",
       "    .dataframe thead th {\n",
       "        text-align: right;\n",
       "    }\n",
       "</style>\n",
       "<table border=\"1\" class=\"dataframe\">\n",
       "  <thead>\n",
       "    <tr style=\"text-align: right;\">\n",
       "      <th></th>\n",
       "      <th>example_id</th>\n",
       "      <th>question_id</th>\n",
       "      <th>question</th>\n",
       "      <th>relevant_chunk</th>\n",
       "      <th>article_url</th>\n",
       "      <th>predicted_answer</th>\n",
       "      <th>reference_answer</th>\n",
       "    </tr>\n",
       "  </thead>\n",
       "  <tbody>\n",
       "    <tr>\n",
       "      <th>0</th>\n",
       "      <td>1</td>\n",
       "      <td>1</td>\n",
       "      <td>What is the innovation behind Leclanché's new ...</td>\n",
       "      <td>Leclanché said it has developed an environment...</td>\n",
       "      <td>https://www.sgvoice.net/strategy/technology/23...</td>\n",
       "      <td>Leclanché's new method to produce lithium-ion ...</td>\n",
       "      <td>Leclanché said it has developed an environment...</td>\n",
       "    </tr>\n",
       "    <tr>\n",
       "      <th>1</th>\n",
       "      <td>2</td>\n",
       "      <td>2</td>\n",
       "      <td>What is the EU’s Green Deal Industrial Plan?</td>\n",
       "      <td>The Green Deal Industrial Plan is a bid by the...</td>\n",
       "      <td>https://www.sgvoice.net/policy/25396/eu-seeks-...</td>\n",
       "      <td>The EU’s Green Deal Industrial Plan is a key c...</td>\n",
       "      <td>The Green Deal Industrial Plan is a bid by the...</td>\n",
       "    </tr>\n",
       "  </tbody>\n",
       "</table>\n",
       "</div>"
      ],
      "text/plain": [
       "   example_id  question_id                                           question  \\\n",
       "0           1            1  What is the innovation behind Leclanché's new ...   \n",
       "1           2            2       What is the EU’s Green Deal Industrial Plan?   \n",
       "\n",
       "                                      relevant_chunk  \\\n",
       "0  Leclanché said it has developed an environment...   \n",
       "1  The Green Deal Industrial Plan is a bid by the...   \n",
       "\n",
       "                                         article_url  \\\n",
       "0  https://www.sgvoice.net/strategy/technology/23...   \n",
       "1  https://www.sgvoice.net/policy/25396/eu-seeks-...   \n",
       "\n",
       "                                    predicted_answer  \\\n",
       "0  Leclanché's new method to produce lithium-ion ...   \n",
       "1  The EU’s Green Deal Industrial Plan is a key c...   \n",
       "\n",
       "                                    reference_answer  \n",
       "0  Leclanché said it has developed an environment...  \n",
       "1  The Green Deal Industrial Plan is a bid by the...  "
      ]
     },
     "execution_count": 25,
     "metadata": {},
     "output_type": "execute_result"
    }
   ],
   "source": [
    "df_eval = pd.read_csv(\"data/eval_dataset/updated_eval_data.csv\")\n",
    "\n",
    "df_eval.head(2)"
   ]
  },
  {
   "cell_type": "code",
   "execution_count": null,
   "metadata": {},
   "outputs": [
    {
     "data": {
      "application/vnd.jupyter.widget-view+json": {
       "model_id": "30cb8486c43d46fabb5858cd85c45cf9",
       "version_major": 2,
       "version_minor": 0
      },
      "text/plain": [
       "Evaluating:   0%|          | 0/46 [00:00<?, ?it/s]"
      ]
     },
     "metadata": {},
     "output_type": "display_data"
    },
    {
     "name": "stderr",
     "output_type": "stream",
     "text": [
      "No statements were generated from the answer.\n"
     ]
    }
   ],
   "source": [
    "from datasets import Dataset\n",
    "from ragas import evaluate\n",
    "from ragas.metrics import faithfulness, answer_correctness\n",
    "\n",
    "\n",
    "# Convert 'retrieved_contexts' to a list of contexts per entry\n",
    "df_eval[\"retrieved_contexts\"] = df_eval[\"relevant_chunk\"].apply(lambda x: [x])\n",
    "\n",
    "# Ensure 'response' column is correctly named and already exists\n",
    "df_eval[\"response\"] = df_eval[\"predicted_answer\"]\n",
    "\n",
    "# Add a 'reference' column, modify this line as needed based on your dataset's correct answers\n",
    "df_eval[\"reference\"] = df_eval[\n",
    "    \"relevant_chunk\"\n",
    "]  # Adjust this if another column serves as a better reference\n",
    "\n",
    "# Convert to Hugging Face's datasets format\n",
    "dataset = Dataset.from_pandas(df_eval)\n",
    "\n",
    "# Evaluate the dataset\n",
    "score = evaluate(dataset, metrics=[faithfulness, answer_correctness])\n",
    "score_df = score.to_pandas()\n",
    "\n",
    "# Save the evaluation results\n",
    "score_df.to_csv(\"data/eval_dataset/eval_results.csv\", index=False)"
   ]
  },
  {
   "cell_type": "code",
   "execution_count": null,
   "metadata": {},
   "outputs": [],
   "source": []
  }
 ],
 "metadata": {
  "kernelspec": {
   "display_name": ".venv",
   "language": "python",
   "name": "python3"
  },
  "language_info": {
   "codemirror_mode": {
    "name": "ipython",
    "version": 3
   },
   "file_extension": ".py",
   "mimetype": "text/x-python",
   "name": "python",
   "nbconvert_exporter": "python",
   "pygments_lexer": "ipython3",
   "version": "3.12.3"
  }
 },
 "nbformat": 4,
 "nbformat_minor": 2
}

