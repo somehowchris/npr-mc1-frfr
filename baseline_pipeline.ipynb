{
 "cells": [
  {
   "metadata": {
    "ExecuteTime": {
     "end_time": "2024-11-15T23:47:10.290683Z",
     "start_time": "2024-11-15T23:47:09.378715Z"
    }
   },
   "cell_type": "code",
   "source": [
    "from src.vectorstorage import EmbeddingVectorStorage\n",
    "from src.custom_embeddings import CustomHuggingFaceEndpointEmbeddings\n",
    "from langchain_core.embeddings import Embeddings\n",
    "from langchain_chroma import Chroma\n",
    "from langchain_huggingface import HuggingFaceEndpointEmbeddings\n",
    "import pandas as pd\n",
    "\n",
    "\n",
    "with open('secrets.txt', 'r') as f:\n",
    "    lines = f.readlines()\n",
    "    for line in lines:\n",
    "        if line.startswith('api_token'):\n",
    "            token = line.split('=')[1].strip()\n",
    "                     \n",
    "bge_m3_embed = CustomHuggingFaceEndpointEmbeddings(\n",
    "    model_name='BAAI/bge_m3',\n",
    "    model='http://100.67.185.22:8080',\n",
    "    huggingfacehub_api_token=token,\n",
    "    model_kwargs={\"normalize_embeddings\": True}\n",
    ")\n",
    "\n",
    "stella_embed = CustomHuggingFaceEndpointEmbeddings(\n",
    "    model_name='dunzhang/stella_en_1.5B_v5',\n",
    "    model='http://100.67.185.22:8083',\n",
    "    huggingfacehub_api_token=token,\n",
    "    model_kwargs={\"normalize_embeddings\": True}\n",
    ")\n",
    "\n",
    "nomic_embed = CustomHuggingFaceEndpointEmbeddings(\n",
    "    model_name='nomic-ai/nomic-embed-text-v1.5',\n",
    "    model='http://100.67.185.22:8082',\n",
    "    huggingfacehub_api_token=token,\n",
    "    model_kwargs={\"normalize_embeddings\": True}\n",
    ")"
   ],
   "id": "9d9399cd84377e2a",
   "outputs": [],
   "execution_count": null
  },
  {
   "metadata": {},
   "cell_type": "code",
   "outputs": [
    {
     "name": "stdout",
     "output_type": "stream",
     "text": [
      "VectorStorage(method_of_embedding=CustomHuggingFaceEndpointEmbeddings, group=bge_m3_embed_RecursiveCharacterTextSplitter)\n"
     ]
    }
   ],
   "execution_count": 1,
   "source": [
    "# Set the same parameters as the original vector store\n",
    "group_name = \"bge_m3_embed_RecursiveCharacterTextSplitter\" \n",
    "path_persistent = \"./data/chroma\"\n",
    "\n",
    "# Reload the vector store\n",
    "bge_m3_vectordb = EmbeddingVectorStorage(\n",
    "    method_of_embedding=bge_m3_embed,\n",
    "    collection=group_name,\n",
    "    path_persistent=path_persistent\n",
    ")\n",
    "\n",
    "print(bge_m3_vectordb)"
   ],
   "id": "b7060a2cf4b46d21"
  },
  {
   "metadata": {},
   "cell_type": "code",
   "source": [
    "print(bge_m3_vectordb.test_heartbeat())  # Check if the Chroma client is active\n",
    "print(bge_m3_vectordb.collection_is_empty())  # Check if the collection is empty"
   ],
   "id": "f0eec685d044e35e",
   "outputs": [],
   "execution_count": null
  },
  {
   "metadata": {},
   "cell_type": "code",
   "source": [
    "query = \"The company is also aiming to reduce gas flaring?\"\n",
    "bge_m3_vectordb.search_similar_w_scores(query)"
   ],
   "id": "7b5a9dbabc860422",
   "outputs": [],
   "execution_count": null
  },
  {
   "metadata": {},
   "cell_type": "code",
   "source": [
    "from langchain.prompts import PromptTemplate\n",
    "from langchain.chains import RetrievalQA\n",
    "from langchain_ollama import OllamaLLM\n",
    "\n",
    "qwen2_5_0_5b_model = 'qwen2.5:0.5b-instruct-q4_0'\n",
    "qwen2_5_1_5b_model = 'qwen2.5:1.5b-instruct-q4_0'\n",
    "qwen2_5_3b_model = 'qwen2.5:3b-instruct-q4_0'\n",
    "qwen2_5_7b_model = 'qwen2.5:7b-instruct-q4_0'\n",
    "qwen2_5_14b_model = 'qwen2.5:14b-instruct-q4_0'\n",
    "llama3_2_3b = 'llama3.2:3b-instruct-q6_K'\n",
    "llama3_2_3b_8bit = 'llama3.2:3b-instruct-q8_0'\n",
    "\n",
    "basic_retriever = bge_m3_vectordb.obtain_retriever()\n",
    "llm_model = OllamaLLM(model=llama3_2_3b_8bit)"
   ],
   "id": "c47933ff2375049a",
   "outputs": [],
   "execution_count": null
  },
  {
   "metadata": {},
   "cell_type": "code",
   "source": [
    "# Define the basic prompt\n",
    "basic_prompt = PromptTemplate(\n",
    "    template=\"\"\"\n",
    "    Answer the question to your best knowledge when looking at the following context:\n",
    "    {context}\n",
    "    \n",
    "    If the context is irrelevant or does not provide enough information, respond with:\n",
    "    \"No relevant context found for this question.\"\n",
    "                \n",
    "    Question: {question}\n",
    "    \"\"\",\n",
    "    input_variables=[\"context\", \"question\"],\n",
    ")\n",
    "\n",
    "print(basic_prompt)"
   ],
   "id": "25c04938ada92da2",
   "outputs": [],
   "execution_count": null
  },
  {
   "metadata": {},
   "cell_type": "code",
   "source": [
    "# build the basic RAG pipeline\n",
    "basic_rag_chain = RetrievalQA.from_chain_type(\n",
    "    llm=llm_model,\n",
    "    retriever=basic_retriever,\n",
    "    return_source_documents=True,\n",
    "    chain_type_kwargs={\"prompt\": basic_prompt},\n",
    ")"
   ],
   "id": "b9d69b34be7a6509",
   "outputs": [],
   "execution_count": null
  },
  {
   "metadata": {},
   "cell_type": "code",
   "source": "basic_rag_chain.invoke(\"What is the impact of renewable energy on the environment?\")",
   "id": "95d8aed548e60bda",
   "outputs": [],
   "execution_count": null
  },
  {
   "metadata": {},
   "cell_type": "code",
   "source": [
    "HANDPICKED_QUESTIONS = [\n",
    "    \"Who is the target user for Leapfrog Energy?\",\n",
    "    \"Which has the higher absorption coefficient for wavelengths above 500m - amorphous germanium or amorphous silicon?\",\n",
    "    \"What is the EU’s Green Deal Industrial Plan?\"\n",
    "    \"Why do more and more students stop studying?\"\n",
    "]\n",
    "\n",
    "def ask_handpicked_questions(rag_chain, questions=HANDPICKED_QUESTIONS):\n",
    "    answers = {question: rag_chain.invoke(question) for question in questions}\n",
    "\n",
    "    for question, answer in answers.items():\n",
    "        print(f\"Question: {question}\")\n",
    "        print(f\"Answer: {answer['result']}\")\n",
    "        print(\"\\n\")\n",
    "\n",
    "ask_handpicked_questions(basic_rag_chain)"
   ],
   "id": "34b0e93217f7b0e9",
   "outputs": [],
   "execution_count": null
  },
  {
   "metadata": {},
   "cell_type": "code",
   "source": [
    "clean_dataset = pd.read_parquet('data/preprocessed/clean_cleantech.parquet')\n",
    "\n",
    "clean_dataset.columns"
   ],
   "id": "6a05995c5b5e7e3d",
   "outputs": [],
   "execution_count": null
  },
  {
   "metadata": {},
   "cell_type": "code",
   "source": [
    "eval_test = pd.read_csv('data/eval_dataset/cleantech_rag_evaluation_data_2024-09-20.csv', sep=';')\n",
    "\n",
    "eval_test.columns"
   ],
   "id": "251ad83d9c8f2d4e",
   "outputs": [],
   "execution_count": null
  },
  {
   "metadata": {},
   "cell_type": "code",
   "source": [
    "from fuzzywuzzy import fuzz, process\n",
    "\n",
    "def compute_similarity(text_1, text_2):\n",
    "    return fuzz.partial_ratio(text_1, text_2)\n",
    "\n",
    "def find_most_similar(clean_df, eval_input_chunk):\n",
    "    \n",
    "    similarity_score = 0\n",
    "    similarity_score_index = None\n",
    "    \n",
    "    for idx, doc in clean_df.iterrows():\n",
    "        score = compute_similarity(eval_input_chunk, doc['content'])\n",
    "        if score > similarity_score:\n",
    "            similarity_score = score\n",
    "            similarity_score_index = doc['id']\n",
    "    \n",
    "    return similarity_score, similarity_score_index"
   ],
   "id": "5fd4a964716c86a8",
   "outputs": [],
   "execution_count": null
  },
  {
   "metadata": {},
   "cell_type": "code",
   "source": [
    "from tqdm import tqdm\n",
    "from pandarallel import pandarallel\n",
    "\n",
    "tqdm.pandas()\n",
    "pandarallel.initialize(progress_bar=True)\n",
    "\n",
    "def apply_find_most_similar(row, clean_df):\n",
    "    score, score_index = find_most_similar(clean_df, row['relevant_text'])\n",
    "    return pd.Series([score, score_index])\n",
    "\n",
    "\n",
    "# Make sure your DataFrames are named as 'clean_dataset' and 'eval_test'\n",
    "eval_test[['top_score', 'top_score_id']] = eval_test.parallel_apply(apply_find_most_similar, args=(clean_dataset,), axis=1)\n"
   ],
   "id": "eb528e753dc385a3",
   "outputs": [],
   "execution_count": null
  },
  {
   "metadata": {},
   "cell_type": "code",
   "source": "eval_test.head(5)",
   "id": "1e7e9c37b5b6c74b",
   "outputs": [],
   "execution_count": null
  },
  {
   "metadata": {},
   "cell_type": "code",
   "source": "eval_test = eval_test.drop_duplicates().copy()",
   "id": "594d91f8f4fc184e",
   "outputs": [],
   "execution_count": null
  },
  {
   "metadata": {},
   "cell_type": "code",
   "source": "eval_test = eval_test.rename(columns={'answer': 'ground_truth'})",
   "id": "16ba50523f4908d8",
   "outputs": [],
   "execution_count": null
  },
  {
   "metadata": {},
   "cell_type": "code",
   "source": "eval_test.head(5)",
   "id": "6904aab3fdceeb5b",
   "outputs": [],
   "execution_count": null
  },
  {
   "metadata": {},
   "cell_type": "code",
   "source": [
    "from datasets import Dataset\n",
    "\n",
    "from ragas.metrics import (\n",
    "context_precision,\n",
    "context_recall,\n",
    "context_entity_recall,\n",
    "faithfulness,\n",
    "answer_correctness,\n",
    "answer_relevancy,\n",
    "answer_similarity\n",
    ")\n",
    "\n",
    "ragas_metrics = [\n",
    "    context_precision,\n",
    "    context_recall,\n",
    "    context_entity_recall,\n",
    "    faithfulness,\n",
    "    answer_correctness,\n",
    "    answer_relevancy,\n",
    "    answer_similarity\n",
    "]\n",
    "\n",
    "from ragas import evaluate\n",
    "\n",
    "test_eval = evaluate(\n",
    "    dataset=dataset,\n",
    "    metrics=ragas_metrics,\n",
    "    llm=llm_model,\n",
    "    embeddings=bge_m3_embed,\n",
    "    raise_exceptions=True,\n",
    "    show_progress=True,\n",
    ")"
   ],
   "id": "f57acb2de03e410d",
   "outputs": [],
   "execution_count": null
  }
 ],
 "metadata": {
  "kernelspec": {
   "display_name": "Python 3",
   "language": "python",
   "name": "python3"
  },
  "language_info": {
   "codemirror_mode": {
    "name": "ipython",
    "version": 2
   },
   "file_extension": ".py",
   "mimetype": "text/x-python",
   "name": "python",
   "nbconvert_exporter": "python",
   "pygments_lexer": "ipython2",
   "version": "2.7.6"
  }
 },
 "nbformat": 4,
 "nbformat_minor": 5
}
