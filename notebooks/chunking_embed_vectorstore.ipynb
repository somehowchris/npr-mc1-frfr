{
 "cells": [
  {
   "metadata": {
    "ExecuteTime": {
     "end_time": "2024-11-20T10:32:30.799258Z",
     "start_time": "2024-11-20T10:32:30.333996Z"
    }
   },
   "cell_type": "code",
   "source": [
    "import pandas as pd\n",
    "from tqdm import tqdm\n",
    "from src.config import CLEAN_FILE_PATH\n",
    "\n",
    "data = pd.read_parquet(str(CLEAN_FILE_PATH))\n",
    "\n",
    "data.head(5)"
   ],
   "id": "eab4953c59534684",
   "outputs": [
    {
     "data": {
      "text/plain": [
       "                                 id  \\\n",
       "0  92151dc1d9bfd38bf55079fd769ba2bb   \n",
       "1  9f0a279c373edf56b634cf6dd1e38698   \n",
       "2  7c349533119a90fa56515421e69c0e45   \n",
       "3  5acd9a610210fdf0afd261c35b1fe287   \n",
       "4  2159fa0bb2c86e538844a6307bb9b677   \n",
       "\n",
       "                                               title        date  \\\n",
       "0  Qatar to Slash Emissions as LNG Expansion Adva...  2021-01-13   \n",
       "1               India Launches Its First 700 MW PHWR  2021-01-15   \n",
       "2              New Chapter for US-China Energy Trade  2021-01-20   \n",
       "3  Japan: Slow Restarts Cast Doubt on 2030 Energy...  2021-01-22   \n",
       "4     NYC Pension Funds to Divest Fossil Fuel Shares  2021-01-25   \n",
       "\n",
       "                                             content       domain  \\\n",
       "0  Qatar Petroleum QP is targeting aggressive cut...  energyintel   \n",
       "1  Nuclear Power Corp. of India Ltd. NPCIL synchr...  energyintel   \n",
       "2  New US President Joe Biden took office this we...  energyintel   \n",
       "3  The slow pace of Japanese reactor restarts con...  energyintel   \n",
       "4  Two of New York City s largest pension funds s...  energyintel   \n",
       "\n",
       "                                                 url  \n",
       "0  https://www.energyintel.com/0000017b-a7dc-de4c...  \n",
       "1  https://www.energyintel.com/0000017b-a7dc-de4c...  \n",
       "2  https://www.energyintel.com/0000017b-a7dc-de4c...  \n",
       "3  https://www.energyintel.com/0000017b-a7dc-de4c...  \n",
       "4  https://www.energyintel.com/0000017b-a7dc-de4c...  "
      ],
      "text/html": [
       "<div>\n",
       "<style scoped>\n",
       "    .dataframe tbody tr th:only-of-type {\n",
       "        vertical-align: middle;\n",
       "    }\n",
       "\n",
       "    .dataframe tbody tr th {\n",
       "        vertical-align: top;\n",
       "    }\n",
       "\n",
       "    .dataframe thead th {\n",
       "        text-align: right;\n",
       "    }\n",
       "</style>\n",
       "<table border=\"1\" class=\"dataframe\">\n",
       "  <thead>\n",
       "    <tr style=\"text-align: right;\">\n",
       "      <th></th>\n",
       "      <th>id</th>\n",
       "      <th>title</th>\n",
       "      <th>date</th>\n",
       "      <th>content</th>\n",
       "      <th>domain</th>\n",
       "      <th>url</th>\n",
       "    </tr>\n",
       "  </thead>\n",
       "  <tbody>\n",
       "    <tr>\n",
       "      <th>0</th>\n",
       "      <td>92151dc1d9bfd38bf55079fd769ba2bb</td>\n",
       "      <td>Qatar to Slash Emissions as LNG Expansion Adva...</td>\n",
       "      <td>2021-01-13</td>\n",
       "      <td>Qatar Petroleum QP is targeting aggressive cut...</td>\n",
       "      <td>energyintel</td>\n",
       "      <td>https://www.energyintel.com/0000017b-a7dc-de4c...</td>\n",
       "    </tr>\n",
       "    <tr>\n",
       "      <th>1</th>\n",
       "      <td>9f0a279c373edf56b634cf6dd1e38698</td>\n",
       "      <td>India Launches Its First 700 MW PHWR</td>\n",
       "      <td>2021-01-15</td>\n",
       "      <td>Nuclear Power Corp. of India Ltd. NPCIL synchr...</td>\n",
       "      <td>energyintel</td>\n",
       "      <td>https://www.energyintel.com/0000017b-a7dc-de4c...</td>\n",
       "    </tr>\n",
       "    <tr>\n",
       "      <th>2</th>\n",
       "      <td>7c349533119a90fa56515421e69c0e45</td>\n",
       "      <td>New Chapter for US-China Energy Trade</td>\n",
       "      <td>2021-01-20</td>\n",
       "      <td>New US President Joe Biden took office this we...</td>\n",
       "      <td>energyintel</td>\n",
       "      <td>https://www.energyintel.com/0000017b-a7dc-de4c...</td>\n",
       "    </tr>\n",
       "    <tr>\n",
       "      <th>3</th>\n",
       "      <td>5acd9a610210fdf0afd261c35b1fe287</td>\n",
       "      <td>Japan: Slow Restarts Cast Doubt on 2030 Energy...</td>\n",
       "      <td>2021-01-22</td>\n",
       "      <td>The slow pace of Japanese reactor restarts con...</td>\n",
       "      <td>energyintel</td>\n",
       "      <td>https://www.energyintel.com/0000017b-a7dc-de4c...</td>\n",
       "    </tr>\n",
       "    <tr>\n",
       "      <th>4</th>\n",
       "      <td>2159fa0bb2c86e538844a6307bb9b677</td>\n",
       "      <td>NYC Pension Funds to Divest Fossil Fuel Shares</td>\n",
       "      <td>2021-01-25</td>\n",
       "      <td>Two of New York City s largest pension funds s...</td>\n",
       "      <td>energyintel</td>\n",
       "      <td>https://www.energyintel.com/0000017b-a7dc-de4c...</td>\n",
       "    </tr>\n",
       "  </tbody>\n",
       "</table>\n",
       "</div>"
      ]
     },
     "execution_count": 1,
     "metadata": {},
     "output_type": "execute_result"
    }
   ],
   "execution_count": 1
  },
  {
   "cell_type": "code",
   "id": "initial_id",
   "metadata": {
    "collapsed": true,
    "ExecuteTime": {
     "end_time": "2024-11-20T10:32:32.493915Z",
     "start_time": "2024-11-20T10:32:32.211432Z"
    }
   },
   "source": [
    "from langchain_text_splitters import RecursiveCharacterTextSplitter\n",
    "\n",
    "recursive_text_splitter = RecursiveCharacterTextSplitter(\n",
    "    chunk_size=1000,\n",
    "    chunk_overlap=0,\n",
    "    length_function=len,\n",
    "    is_separator_regex=False,\n",
    ")"
   ],
   "outputs": [],
   "execution_count": 2
  },
  {
   "metadata": {
    "ExecuteTime": {
     "end_time": "2024-11-20T10:32:39.237634Z",
     "start_time": "2024-11-20T10:32:34.081491Z"
    }
   },
   "cell_type": "code",
   "source": [
    "import src.utils as utils\n",
    "\n",
    "documents = utils.create_documents(data, recursive_text_splitter)"
   ],
   "id": "d915219ccac4c133",
   "outputs": [
    {
     "name": "stdout",
     "output_type": "stream",
     "text": [
      "RecursiveCharacterTextSplitter: Number of documents created: 51050, Number of rows in source df: 9584, Percentage of documents created: 532.66%\n"
     ]
    }
   ],
   "execution_count": 3
  },
  {
   "metadata": {
    "ExecuteTime": {
     "end_time": "2024-11-20T10:32:39.241186Z",
     "start_time": "2024-11-20T10:32:39.238636Z"
    }
   },
   "cell_type": "code",
   "source": "documents[0]",
   "id": "3a806d4994f0e0ed",
   "outputs": [
    {
     "data": {
      "text/plain": [
       "Document(metadata={'url': 'https://www.energyintel.com/0000017b-a7dc-de4c-a17b-e7de685b0000', 'domain': 'energyintel', 'title': 'Qatar to Slash Emissions as LNG Expansion Advances', 'date': '2021-01-13', 'origin_doc_id': '92151dc1d9bfd38bf55079fd769ba2bb'}, page_content='Qatar Petroleum QP is targeting aggressive cuts in its greenhouse gas emissions as it prepares to launch Phase 2 of its planned 48 million ton per year LNG expansion. In its latest Sustainability Report published on Wednesday, QP said its goals include reducing the emissions intensity of Qatar s LNG facilities by 25 and of its upstream facilities by at least 15 . The company is also aiming to reduce gas flaring intensity across its upstream facilities by more than 75 and has raised its carbon capture and storage ambitions from 5 million tons yr to 7 million tons yr by 2027. About 2.2 million tons yr of the carbon capture goal will come from the 32 million ton yr Phase 1 of the LNG expansion, also known as the North Field East project. A further 1.1 million tons yr will come from Phase 2, known as the North Field South project, which will raise Qatar s LNG capacity by a further 16 million tons yr. Qatar currently has an LNG production capacity of around 78 million tons yr and is eyeing')"
      ]
     },
     "execution_count": 4,
     "metadata": {},
     "output_type": "execute_result"
    }
   ],
   "execution_count": 4
  },
  {
   "metadata": {
    "ExecuteTime": {
     "end_time": "2024-11-20T10:32:39.417844Z",
     "start_time": "2024-11-20T10:32:39.242167Z"
    }
   },
   "cell_type": "code",
   "source": [
    "from src.custom_embeddings import bge_m3_embed, qwen2_embed, nomic_embed\n",
    "\n",
    "embedding_models = [bge_m3_embed, qwen2_embed, nomic_embed]"
   ],
   "id": "a0ac7ff1470b2d67",
   "outputs": [],
   "execution_count": 5
  },
  {
   "metadata": {
    "ExecuteTime": {
     "end_time": "2024-11-20T10:32:39.850576Z",
     "start_time": "2024-11-20T10:32:39.419619Z"
    }
   },
   "cell_type": "code",
   "source": [
    "for model in embedding_models:\n",
    "    print(model.model_name)\n",
    "\n",
    "    embedding = model.embed_query(\"The company is also aiming to reduce gas flaring?\")\n",
    "\n",
    "    print(embedding[:20])\n",
    "    print()"
   ],
   "id": "97b34ae746e3cf98",
   "outputs": [
    {
     "name": "stdout",
     "output_type": "stream",
     "text": [
      "BAAI_bge_m3\n",
      "[-0.06979186, -0.025753867, -0.03614089, -0.024861958, -0.0046290997, -0.040024407, 0.0053514526, 0.048534703, -0.022353465, 0.04812591, -0.018711504, 0.0028638635, 0.013053457, -0.02528933, 0.019399017, -0.07191015, 0.06280524, -0.033632394, 0.00043143766, -0.0013761874]\n",
      "\n",
      "Alibaba-NLP_gte-Qwen2-7B\n",
      "[-0.018390294, 0.012254118, -0.00019189798, -0.0013482721, -0.020569412, 0.0106858825, -0.008780294, -0.019365883, -0.010403235, -0.029067058, 0.0055389707, 0.008411029, 0.0028378677, 0.0095735295, 0.0027125, 0.0008405331, -0.011944118, 0.004219191, 0.0076861763, 0.011488236]\n",
      "\n",
      "nomic-ai_nomic-embed-text-v1_5\n",
      "[0.023326509, 0.012770157, -0.20600034, 0.049915466, 0.009018341, -0.0049664956, -0.035630602, 0.011669081, -0.0045382995, -0.051034022, 0.08799291, 0.02442176, 0.080629095, 0.033952773, 0.07275261, -0.0061811754, -0.022289516, -0.016545277, -0.012478867, -0.0034721778]\n",
      "\n"
     ]
    }
   ],
   "execution_count": 6
  },
  {
   "metadata": {
    "ExecuteTime": {
     "end_time": "2024-11-20T11:31:10.371962Z",
     "start_time": "2024-11-20T10:32:55.690144Z"
    }
   },
   "cell_type": "code",
   "source": [
    "from src.vectorstorage import EmbeddingVectorStorage\n",
    "\n",
    "\n",
    "def get_col_name_vectordb(embeddings, text_splitter):\n",
    "    return f\"{embeddings.model_name}_{text_splitter.__class__.__name__}\"\n",
    "\n",
    "\n",
    "\"\"\"bge_m3_vectordb = EmbeddingVectorStorage(\n",
    "    method_of_embedding=bge_m3_embed,\n",
    "    collection=get_col_name_vectordb(bge_m3_embed, recursive_text_splitter),\n",
    ")\n",
    "\n",
    "get_col_name_vectordb(bge_m3_embed, recursive_text_splitter)\"\"\"\n",
    "\n",
    "vector_stores = {}\n",
    "\n",
    "for model in embedding_models:\n",
    "    collection_name = get_col_name_vectordb(model, recursive_text_splitter)\n",
    "    print(f\"Collection name: {collection_name}\")\n",
    "\n",
    "    vector_storage = EmbeddingVectorStorage(\n",
    "        method_of_embedding=model,\n",
    "        collection=collection_name,\n",
    "    )\n",
    "\n",
    "    vector_storage.include_documents(documents, should_verbose=True)\n",
    "\n",
    "    vector_stores[model.model_name] = vector_storage\n",
    "\n",
    "print(vector_stores)"
   ],
   "id": "2b842b67c0d9253a",
   "outputs": [
    {
     "name": "stdout",
     "output_type": "stream",
     "text": [
      "Collection name: BAAI_bge_m3_RecursiveCharacterTextSplitter\n"
     ]
    },
    {
     "name": "stderr",
     "output_type": "stream",
     "text": [
      "100%|██████████| 2/2 [15:20<00:00, 460.21s/it]\n"
     ]
    },
    {
     "name": "stdout",
     "output_type": "stream",
     "text": [
      "Collection name: Alibaba-NLP_gte-Qwen2-7B_RecursiveCharacterTextSplitter\n"
     ]
    },
    {
     "name": "stderr",
     "output_type": "stream",
     "text": [
      "100%|██████████| 2/2 [40:11<00:00, 1205.92s/it]\n"
     ]
    },
    {
     "name": "stdout",
     "output_type": "stream",
     "text": [
      "Collection name: nomic-ai_nomic-embed-text-v1_5_RecursiveCharacterTextSplitter\n"
     ]
    },
    {
     "name": "stderr",
     "output_type": "stream",
     "text": [
      "100%|██████████| 2/2 [02:42<00:00, 81.08s/it] "
     ]
    },
    {
     "name": "stdout",
     "output_type": "stream",
     "text": [
      "{'BAAI_bge_m3': VectorStorage(method_of_embedding=CustomHuggingFaceEndpointEmbeddings, group=BAAI_bge_m3_RecursiveCharacterTextSplitter), 'Alibaba-NLP_gte-Qwen2-7B': VectorStorage(method_of_embedding=CustomHuggingFaceEndpointEmbeddings, group=Alibaba-NLP_gte-Qwen2-7B_RecursiveCharacterTextSplitter), 'nomic-ai_nomic-embed-text-v1_5': VectorStorage(method_of_embedding=CustomHuggingFaceEndpointEmbeddings, group=nomic-ai_nomic-embed-text-v1_5_RecursiveCharacterTextSplitter)}\n"
     ]
    },
    {
     "name": "stderr",
     "output_type": "stream",
     "text": [
      "\n"
     ]
    }
   ],
   "execution_count": 7
  },
  {
   "metadata": {
    "ExecuteTime": {
     "end_time": "2024-11-20T11:48:28.733519Z",
     "start_time": "2024-11-20T11:48:28.563524Z"
    }
   },
   "cell_type": "code",
   "source": [
    "query = \"The company is also aiming to reduce gas flaring?\"\n",
    "\n",
    "for model_name, vector_store in vector_stores.items():\n",
    "    print(f\"Results for model: {model_name}\")\n",
    "\n",
    "    try:\n",
    "        results = vector_store.search_similar_w_scores(query)\n",
    "\n",
    "        for doc, score in results:\n",
    "            print(f\"Document: {doc}\")\n",
    "            print(f\"Score: {score}\")\n",
    "        print()\n",
    "    except Exception as e:\n",
    "        print(f\"Error searching in vector store '{model_name}': {e}\")\n",
    "        print()"
   ],
   "id": "6413275449bb289b",
   "outputs": [
    {
     "name": "stdout",
     "output_type": "stream",
     "text": [
      "Results for model: BAAI_bge_m3\n",
      "Document: page_content='their natural gas prices off of NGI s Mexico Gas Price Index. Read the analysis of our fifth survey of active players in Mexico, showcasing market driven insights now. , The company plans to electrify its operations with low carbon power, which may include wind, solar, hydrogen, natural gas with carbon capture and storage, or other emerging technologies, the firm said. ExxonMobil plans to expand its methane detection programs utilizing satellite surveillance and a network of ground based sensors for continuous monitoring, and aerial flyovers that identify leaks for rapid repairs. , By the end of this year, ExxonMobil plans to reduce flaring volumes across its Permian operations by more than 75 versus 2019, and to eliminate all routine flaring in the basin by the end of 2022. The company is also securing alternative natural gas delivery points across the basin to minimize non routine flaring, management said. , The net zero goal for Scope 1 and 2 emissions is one of the most ambitious' metadata={'date': '2021-12-13', 'domain': 'naturalgasintel', 'origin_doc_id': '955ad75cdc5396c0057252d76df2c445', 'title': 'ExxonMobil Envisions Carbon-Neutral Permian Operations by 2030', 'url': 'https://www.naturalgasintel.com/exxonmobil-envisions-carbon-neutral-permian-operations-by-2030/'}\n",
      "Score: 0.7152754068374634\n",
      "Document: page_content='include wind, solar, hydrogen, natural gas with carbon capture and storage, or other emerging technologies, the firm said. ExxonMobil plans to expand its methane detection programs utilizing satellite surveillance and a network of ground based sensors for continuous monitoring, and aerial flyovers that identify leaks for rapid repairs. , By the end of this year, ExxonMobil plans to reduce flaring volumes across its Permian operations by more than 75 versus 2019, and to eliminate all routine flaring in the basin by the end of 2022. The company is also securing alternative natural gas delivery points across the basin to minimize non routine flaring, management said. , The net zero goal for Scope 1 and 2 emissions is one of the most ambitious and wide reaching in the Permian Basin, said ExxonMobil s Bart Cahir, senior vice president of unconventional. Throughout the value chain, our people are working hard to help reduce the greenhouse gas emissions associated with the products that' metadata={'date': '2021-12-06', 'domain': 'naturalgasintel', 'origin_doc_id': '131bdd2d071c7148b6f29f6fb64d3f4b', 'title': 'ExxonMobil Targeting Net Zero Emissions in the Permian by 2030', 'url': 'https://www.naturalgasintel.com/exxonmobil-targeting-net-zero-emissions-in-the-permian-by-2030/'}\n",
      "Score: 0.7154871225357056\n",
      "Document: page_content='Qatar Petroleum QP has launched a new sustainability strategy, aiming to reduce the emissions intensity of its LNG facilities by 25 . , The company also aims to reduce emissions from its upstream facilities by at least 15 and cut flaring intensity in the upstream by more than 75 . The Qatari NOC set 2013 as the baseline. It intends to achieve the targets by 2030. , QP is targeting an end to routine flaring by 2030 and limiting fugitive methane emissions. It will accomplish this by setting a methane intensity target of 0.2 across all facilities by 2025. , The company has spent 900 million between 2012 and 2018 on reducing flaring. Another 170mn has been committed for investment from 2018 to 2021. , QP has committed to using carbon capture and storage CCS facilities to capture more than 7 million tonnes per year. In December 2020, QP said it planned to sequester this amount of CO2 by 2027. , The strategy is consistent with the Paris Agreement, the company has said. QP aims to add more' metadata={'date': '2021-01-13', 'domain': 'energyvoice', 'origin_doc_id': '426d85848603772b811a9a16185562f4', 'title': 'QP launches carbon cut strategy - News for the Energy Sector', 'url': 'https://www.energyvoice.com//www.energyvoice.com/oilandgas/middle-east/lng-middle-east/291211/qp-emissions-lng-sustainability/'}\n",
      "Score: 0.7391831278800964\n",
      "Document: page_content='wells, flare off excess emissions, and tighten pipeline connections. , Fossil fuel companies have already made far greater pledges to reduce methane than they have with CO2, which is central to their business. This is due, in part, to the potential savings, as well as in preparation for methane regulations expected from the Environmental Protection Agency in late 2022. The regulations build upon existing EPA oversight of drilling operations, and will likely be exempt from the U.S. Supreme Court s ruling that limits the federal government s ability to regulate GHGs. , The low hanging fruit of gas stream mitigation addresses most of the 20 percent of total methane emissions in which the gas is released in sufficiently high concentrations for flaring. Plata s zeolite filter aims to address the thornier challenge of reducing the 80 percent of non flammable dilute emissions. , Plata found inspiration in decades old catalysis research for turning methane into methanol. One strategy has been' metadata={'date': '2022-11-03', 'domain': 'azocleantech', 'origin_doc_id': 'ac59931b244bdcfd390b52506d75c70e', 'title': 'MIT Amps Up Research to Reduce Methane Emissions by 2030', 'url': 'https://www.azocleantech.com/news.aspx?newsID=32522'}\n",
      "Score: 0.7426232099533081\n",
      "\n",
      "Results for model: Alibaba-NLP_gte-Qwen2-7B\n",
      "Document: page_content='include wind, solar, hydrogen, natural gas with carbon capture and storage, or other emerging technologies, the firm said. ExxonMobil plans to expand its methane detection programs utilizing satellite surveillance and a network of ground based sensors for continuous monitoring, and aerial flyovers that identify leaks for rapid repairs. , By the end of this year, ExxonMobil plans to reduce flaring volumes across its Permian operations by more than 75 versus 2019, and to eliminate all routine flaring in the basin by the end of 2022. The company is also securing alternative natural gas delivery points across the basin to minimize non routine flaring, management said. , The net zero goal for Scope 1 and 2 emissions is one of the most ambitious and wide reaching in the Permian Basin, said ExxonMobil s Bart Cahir, senior vice president of unconventional. Throughout the value chain, our people are working hard to help reduce the greenhouse gas emissions associated with the products that' metadata={'date': '2021-12-06', 'domain': 'naturalgasintel', 'origin_doc_id': '131bdd2d071c7148b6f29f6fb64d3f4b', 'title': 'ExxonMobil Targeting Net Zero Emissions in the Permian by 2030', 'url': 'https://www.naturalgasintel.com/exxonmobil-targeting-net-zero-emissions-in-the-permian-by-2030/'}\n",
      "Score: 0.723779022693634\n",
      "Document: page_content='their natural gas prices off of NGI s Mexico Gas Price Index. Read the analysis of our fifth survey of active players in Mexico, showcasing market driven insights now. , The company plans to electrify its operations with low carbon power, which may include wind, solar, hydrogen, natural gas with carbon capture and storage, or other emerging technologies, the firm said. ExxonMobil plans to expand its methane detection programs utilizing satellite surveillance and a network of ground based sensors for continuous monitoring, and aerial flyovers that identify leaks for rapid repairs. , By the end of this year, ExxonMobil plans to reduce flaring volumes across its Permian operations by more than 75 versus 2019, and to eliminate all routine flaring in the basin by the end of 2022. The company is also securing alternative natural gas delivery points across the basin to minimize non routine flaring, management said. , The net zero goal for Scope 1 and 2 emissions is one of the most ambitious' metadata={'date': '2021-12-13', 'domain': 'naturalgasintel', 'origin_doc_id': '955ad75cdc5396c0057252d76df2c445', 'title': 'ExxonMobil Envisions Carbon-Neutral Permian Operations by 2030', 'url': 'https://www.naturalgasintel.com/exxonmobil-envisions-carbon-neutral-permian-operations-by-2030/'}\n",
      "Score: 0.7534396648406982\n",
      "Document: page_content='emissions then you don t deserve to have investors interested in your business. , Lance said ConocoPhillips was the first U.S. operator to unveil an emissions strategy aligned with the United Nations climate accord, adding we ve got a game plan and a pathway to get there and we think that s important for our industry, and we need everybody to be doing that. , The company in 2020 announced its intention to reduce operational GHG emissions intensity by 35 to 45 by 2030, a revision from the previous goal of 5 to 15 , and to reach net zero emissions by 2050. , The path to net zero will involve tools such as emissions offsets and carbon capture, utilization and sequestration, Lance said. , Within the ESG initiatives, Lance and Sheffield also stressed the importance of curbing routine natural gas flaring, which remains a stubborn challenge in the Permian despite progress made on reducing flaring intensity. , Other measures such as electrifying fracture fleets, and better monitoring of' metadata={'date': '2021-03-05', 'domain': 'naturalgasintel', 'origin_doc_id': '1e810b6676c9f3bfcab6e9588f23f708', 'title': 'ConocoPhillips, Pioneer Natural CEOs Preach Discipline as Permian Activity Rebounds', 'url': 'https://www.naturalgasintel.com/conocophillips-pioneer-natural-ceos-preach-discipline-as-permian-activity-rebounds/'}\n",
      "Score: 0.7940356731414795\n",
      "Document: page_content='it s a matter of commitment. What will be important is to try to harmonize the methodologies across the industry to be sure that we are all speaking the same languages, but a lot of progress has already been made. In terms of timing we are already almost there. , Venture Global Inc. CEO Michael Sabel stressed that coal to gas switching alone is enough to curb global emissions meaningfully. , The gas industry is in a position to have the greatest near term impact on emissions reductions that don t rely on new technologies, he said. Inexpensive gas exported to Europe, Asia and other developing markets as they add additional electricity production is going to be one of the top opportunities the world has to reduce emissions. , Even still, Sabel said Venture Global, which is developing four LNG export projects in Louisiana, is closely considering carbon sequestration technology for its terminals. He also noted that they should capture as much boil off gas as possible that could be reused' metadata={'date': '2021-03-06', 'domain': 'naturalgasintel', 'origin_doc_id': '0844c793bb3a51fc04a7565427f6f46b', 'title': '‘ Green’ LNG Rapidly Becoming New Normal Across the World', 'url': 'https://www.naturalgasintel.com/green-lng-rapidly-becoming-new-normal-across-the-world/'}\n",
      "Score: 0.8041399121284485\n",
      "\n",
      "Results for model: nomic-ai_nomic-embed-text-v1_5\n",
      "Document: page_content='include wind, solar, hydrogen, natural gas with carbon capture and storage, or other emerging technologies, the firm said. ExxonMobil plans to expand its methane detection programs utilizing satellite surveillance and a network of ground based sensors for continuous monitoring, and aerial flyovers that identify leaks for rapid repairs. , By the end of this year, ExxonMobil plans to reduce flaring volumes across its Permian operations by more than 75 versus 2019, and to eliminate all routine flaring in the basin by the end of 2022. The company is also securing alternative natural gas delivery points across the basin to minimize non routine flaring, management said. , The net zero goal for Scope 1 and 2 emissions is one of the most ambitious and wide reaching in the Permian Basin, said ExxonMobil s Bart Cahir, senior vice president of unconventional. Throughout the value chain, our people are working hard to help reduce the greenhouse gas emissions associated with the products that' metadata={'date': '2021-12-06', 'domain': 'naturalgasintel', 'origin_doc_id': '131bdd2d071c7148b6f29f6fb64d3f4b', 'title': 'ExxonMobil Targeting Net Zero Emissions in the Permian by 2030', 'url': 'https://www.naturalgasintel.com/exxonmobil-targeting-net-zero-emissions-in-the-permian-by-2030/'}\n",
      "Score: 0.43758898973464966\n",
      "Document: page_content='their natural gas prices off of NGI s Mexico Gas Price Index. Read the analysis of our fifth survey of active players in Mexico, showcasing market driven insights now. , The company plans to electrify its operations with low carbon power, which may include wind, solar, hydrogen, natural gas with carbon capture and storage, or other emerging technologies, the firm said. ExxonMobil plans to expand its methane detection programs utilizing satellite surveillance and a network of ground based sensors for continuous monitoring, and aerial flyovers that identify leaks for rapid repairs. , By the end of this year, ExxonMobil plans to reduce flaring volumes across its Permian operations by more than 75 versus 2019, and to eliminate all routine flaring in the basin by the end of 2022. The company is also securing alternative natural gas delivery points across the basin to minimize non routine flaring, management said. , The net zero goal for Scope 1 and 2 emissions is one of the most ambitious' metadata={'date': '2021-12-13', 'domain': 'naturalgasintel', 'origin_doc_id': '955ad75cdc5396c0057252d76df2c445', 'title': 'ExxonMobil Envisions Carbon-Neutral Permian Operations by 2030', 'url': 'https://www.naturalgasintel.com/exxonmobil-envisions-carbon-neutral-permian-operations-by-2030/'}\n",
      "Score: 0.5002368688583374\n",
      "Document: page_content='and heighten their goals in contributing to efforts intended to combat climate change. San Francisco based Engine No. 1 LLC, for example, said in December it wanted to nominate independent board candidates and encourage ExxonMobil to boost its alternative energy holdings. , What s more, in January, General Motors set a goal to cease sales of new petroleum powered cars and trucks by 2035, shifting entirely to zero emissions vehicles. , Woods said the company is aggressively ramping up its environmental efforts, but he cautioned that it would take years to see the full results. I think this is a complex area there are a lot of variables at play that we ve got to bring together, he told investors. , ExxonMobil reiterated goals set late in 2020. By 2025, the company plans to reduce the intensity of operated upstream GHG emissions by 15 20 from 2016 levels. It also aims to reduce methane intensity by 40 50 and cut flaring intensity by 35 45 . The goals align with the UN accord, the company' metadata={'date': '2021-02-02', 'domain': 'naturalgasintel', 'origin_doc_id': '0d106c2447e70b567532033c84d28b14', 'title': 'Under Pressure, ExxonMobil Ups Ante Against Global Warming, Promises to Contain Overall Costs', 'url': 'https://www.naturalgasintel.com/under-pressure-exxonmobil-ups-ante-against-global-warming-promises-to-contain-overall-costs/'}\n",
      "Score: 0.5038159489631653\n",
      "Document: page_content='partnering with a variety of stakeholders, expanding its renewables and gas business and even becoming the first major to drop out of the American Petroleum Institute over differences on climate policy. , Maurisse said the company is working at points along the LNG value chain to better design ways to reduce emissions. For example, it is pursuing new processes and designs to electrify its gas facilities. He noted the company has also worked with both shipyards and shipowners to ensure cleaner operations on the transportation side. , What is very important is to always try to be more transparent across the value chain and to bring to the final customers a transparent product, he said. , Various initiatives are already underway across the upstream, midstream and downstream spaces, but some have questioned how long it might take to unify those efforts in an impactful way. , From my perspective, we are not that far, Maurisse said. All of the majors have started to monitor their emissions' metadata={'date': '2021-03-06', 'domain': 'naturalgasintel', 'origin_doc_id': '0844c793bb3a51fc04a7565427f6f46b', 'title': '‘ Green’ LNG Rapidly Becoming New Normal Across the World', 'url': 'https://www.naturalgasintel.com/green-lng-rapidly-becoming-new-normal-across-the-world/'}\n",
      "Score: 0.5046626329421997\n",
      "\n"
     ]
    }
   ],
   "execution_count": 8
  },
  {
   "metadata": {},
   "cell_type": "code",
   "outputs": [],
   "execution_count": null,
   "source": "",
   "id": "f612e224bcf13e82"
  }
 ],
 "metadata": {
  "kernelspec": {
   "display_name": "Python 3",
   "language": "python",
   "name": "python3"
  },
  "language_info": {
   "codemirror_mode": {
    "name": "ipython",
    "version": 2
   },
   "file_extension": ".py",
   "mimetype": "text/x-python",
   "name": "python",
   "nbconvert_exporter": "python",
   "pygments_lexer": "ipython2",
   "version": "2.7.6"
  }
 },
 "nbformat": 4,
 "nbformat_minor": 5
}
