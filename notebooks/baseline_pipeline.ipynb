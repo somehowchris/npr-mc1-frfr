{
 "cells": [
  {
   "metadata": {
    "ExecuteTime": {
     "end_time": "2024-11-20T08:26:37.682156Z",
     "start_time": "2024-11-20T08:26:37.044887Z"
    }
   },
   "cell_type": "code",
   "source": [
    "from src.vectorstorage import EmbeddingVectorStorage\n",
    "from src.custom_embeddings import CustomHuggingFaceEndpointEmbeddings\n",
    "import pandas as pd\n",
    "\n",
    "\n",
    "with open(\"secrets.txt\", \"r\") as f:\n",
    "    lines = f.readlines()\n",
    "    for line in lines:\n",
    "        if line.startswith(\"api_token\"):\n",
    "            token = line.split(\"=\")[1].strip()\n",
    "\n",
    "bge_m3_embed = CustomHuggingFaceEndpointEmbeddings(\n",
    "    model_name=\"BAAI/bge_m3\",\n",
    "    model=\"http://100.67.185.22:8080\",\n",
    "    huggingfacehub_api_token=token,\n",
    "    model_kwargs={\"normalize_embeddings\": True},\n",
    ")\n",
    "\n",
    "stella_embed = CustomHuggingFaceEndpointEmbeddings(\n",
    "    model_name=\"dunzhang/stella_en_1.5B_v5\",\n",
    "    model=\"http://100.67.185.22:8083\",\n",
    "    huggingfacehub_api_token=token,\n",
    "    model_kwargs={\"normalize_embeddings\": True},\n",
    ")\n",
    "\n",
    "nomic_embed = CustomHuggingFaceEndpointEmbeddings(\n",
    "    model_name=\"nomic-ai/nomic-embed-text-v1.5\",\n",
    "    model=\"http://100.67.185.22:8082\",\n",
    "    huggingfacehub_api_token=token,\n",
    "    model_kwargs={\"normalize_embeddings\": True},\n",
    ")"
   ],
   "id": "9d9399cd84377e2a",
   "outputs": [],
   "execution_count": 1
  },
  {
   "metadata": {
    "ExecuteTime": {
     "end_time": "2024-11-20T08:26:38.528825Z",
     "start_time": "2024-11-20T08:26:38.447708Z"
    }
   },
   "cell_type": "code",
   "source": [
    "# BAAI_bge_m3_RecursiveCharacterTextSplitter\n",
    "# Alibaba-NLP_gte-Qwen2-7B_RecursiveCharacterTextSplitter\n",
    "# nomic-ai_nomic-embed-text-v1_5_RecursiveCharacterTextSplitter\n",
    "\n",
    "collection_name = \"BAAI_bge_m3_RecursiveCharacterTextSplitter\"\n",
    "path_persistent = \"./data/chroma\"\n",
    "\n",
    "# Reload the vector store\n",
    "bge_m3_vectordb = EmbeddingVectorStorage(\n",
    "    method_of_embedding=bge_m3_embed,\n",
    "    collection=collection_name,\n",
    "    path_persistent=path_persistent,\n",
    ")\n",
    "\n",
    "print(bge_m3_vectordb)"
   ],
   "id": "b7060a2cf4b46d21",
   "outputs": [
    {
     "name": "stdout",
     "output_type": "stream",
     "text": [
      "VectorStorage(method_of_embedding=CustomHuggingFaceEndpointEmbeddings, group=BAAI_bge_m3_RecursiveCharacterTextSplitter)\n"
     ]
    }
   ],
   "execution_count": 2
  },
  {
   "metadata": {
    "ExecuteTime": {
     "end_time": "2024-11-20T08:26:39.154914Z",
     "start_time": "2024-11-20T08:26:39.047949Z"
    }
   },
   "cell_type": "code",
   "source": [
    "print(bge_m3_vectordb.test_heartbeat())  # Check if the Chroma client is active\n",
    "print(bge_m3_vectordb.collection_is_empty())  # Check if the collection is empty"
   ],
   "id": "f0eec685d044e35e",
   "outputs": [
    {
     "name": "stdout",
     "output_type": "stream",
     "text": [
      "1732091199048642000\n",
      "False\n"
     ]
    }
   ],
   "execution_count": 3
  },
  {
   "metadata": {
    "ExecuteTime": {
     "end_time": "2024-11-20T08:26:39.960697Z",
     "start_time": "2024-11-20T08:26:39.725679Z"
    }
   },
   "cell_type": "code",
   "source": [
    "query = \"The company is also aiming to reduce gas flaring?\"\n",
    "bge_m3_vectordb.search_similar_w_scores(query)"
   ],
   "id": "7b5a9dbabc860422",
   "outputs": [
    {
     "data": {
      "text/plain": [
       "[(Document(metadata={'date': '2021-12-13', 'domain': 'naturalgasintel', 'origin_doc_id': '955ad75cdc5396c0057252d76df2c445', 'title': 'ExxonMobil Envisions Carbon-Neutral Permian Operations by 2030', 'url': 'https://www.naturalgasintel.com/exxonmobil-envisions-carbon-neutral-permian-operations-by-2030/'}, page_content='their natural gas prices off of NGI s Mexico Gas Price Index. Read the analysis of our fifth survey of active players in Mexico, showcasing market driven insights now. , The company plans to electrify its operations with low carbon power, which may include wind, solar, hydrogen, natural gas with carbon capture and storage, or other emerging technologies, the firm said. ExxonMobil plans to expand its methane detection programs utilizing satellite surveillance and a network of ground based sensors for continuous monitoring, and aerial flyovers that identify leaks for rapid repairs. , By the end of this year, ExxonMobil plans to reduce flaring volumes across its Permian operations by more than 75 versus 2019, and to eliminate all routine flaring in the basin by the end of 2022. The company is also securing alternative natural gas delivery points across the basin to minimize non routine flaring, management said. , The net zero goal for Scope 1 and 2 emissions is one of the most ambitious'),\n",
       "  0.7152754068374634),\n",
       " (Document(metadata={'date': '2021-12-06', 'domain': 'naturalgasintel', 'origin_doc_id': '131bdd2d071c7148b6f29f6fb64d3f4b', 'title': 'ExxonMobil Targeting Net Zero Emissions in the Permian by 2030', 'url': 'https://www.naturalgasintel.com/exxonmobil-targeting-net-zero-emissions-in-the-permian-by-2030/'}, page_content='include wind, solar, hydrogen, natural gas with carbon capture and storage, or other emerging technologies, the firm said. ExxonMobil plans to expand its methane detection programs utilizing satellite surveillance and a network of ground based sensors for continuous monitoring, and aerial flyovers that identify leaks for rapid repairs. , By the end of this year, ExxonMobil plans to reduce flaring volumes across its Permian operations by more than 75 versus 2019, and to eliminate all routine flaring in the basin by the end of 2022. The company is also securing alternative natural gas delivery points across the basin to minimize non routine flaring, management said. , The net zero goal for Scope 1 and 2 emissions is one of the most ambitious and wide reaching in the Permian Basin, said ExxonMobil s Bart Cahir, senior vice president of unconventional. Throughout the value chain, our people are working hard to help reduce the greenhouse gas emissions associated with the products that'),\n",
       "  0.7154871225357056),\n",
       " (Document(metadata={'date': '2021-01-13', 'domain': 'energyvoice', 'origin_doc_id': '426d85848603772b811a9a16185562f4', 'title': 'QP launches carbon cut strategy - News for the Energy Sector', 'url': 'https://www.energyvoice.com//www.energyvoice.com/oilandgas/middle-east/lng-middle-east/291211/qp-emissions-lng-sustainability/'}, page_content='Qatar Petroleum QP has launched a new sustainability strategy, aiming to reduce the emissions intensity of its LNG facilities by 25 . , The company also aims to reduce emissions from its upstream facilities by at least 15 and cut flaring intensity in the upstream by more than 75 . The Qatari NOC set 2013 as the baseline. It intends to achieve the targets by 2030. , QP is targeting an end to routine flaring by 2030 and limiting fugitive methane emissions. It will accomplish this by setting a methane intensity target of 0.2 across all facilities by 2025. , The company has spent 900 million between 2012 and 2018 on reducing flaring. Another 170mn has been committed for investment from 2018 to 2021. , QP has committed to using carbon capture and storage CCS facilities to capture more than 7 million tonnes per year. In December 2020, QP said it planned to sequester this amount of CO2 by 2027. , The strategy is consistent with the Paris Agreement, the company has said. QP aims to add more'),\n",
       "  0.7391831278800964),\n",
       " (Document(metadata={'date': '2022-11-03', 'domain': 'azocleantech', 'origin_doc_id': 'ac59931b244bdcfd390b52506d75c70e', 'title': 'MIT Amps Up Research to Reduce Methane Emissions by 2030', 'url': 'https://www.azocleantech.com/news.aspx?newsID=32522'}, page_content='wells, flare off excess emissions, and tighten pipeline connections. , Fossil fuel companies have already made far greater pledges to reduce methane than they have with CO2, which is central to their business. This is due, in part, to the potential savings, as well as in preparation for methane regulations expected from the Environmental Protection Agency in late 2022. The regulations build upon existing EPA oversight of drilling operations, and will likely be exempt from the U.S. Supreme Court s ruling that limits the federal government s ability to regulate GHGs. , The low hanging fruit of gas stream mitigation addresses most of the 20 percent of total methane emissions in which the gas is released in sufficiently high concentrations for flaring. Plata s zeolite filter aims to address the thornier challenge of reducing the 80 percent of non flammable dilute emissions. , Plata found inspiration in decades old catalysis research for turning methane into methanol. One strategy has been'),\n",
       "  0.7426232099533081)]"
      ]
     },
     "execution_count": 4,
     "metadata": {},
     "output_type": "execute_result"
    }
   ],
   "execution_count": 4
  },
  {
   "metadata": {
    "ExecuteTime": {
     "end_time": "2024-11-20T08:40:37.075203Z",
     "start_time": "2024-11-20T08:40:37.028581Z"
    }
   },
   "cell_type": "code",
   "source": [
    "from langchain.prompts import PromptTemplate\n",
    "from langchain.chains import RetrievalQA\n",
    "from langchain_ollama import OllamaLLM\n",
    "\n",
    "qwen2_5_0_5b_model = \"qwen2.5:0.5b-instruct-q4_0\"\n",
    "qwen2_5_1_5b_model = \"qwen2.5:1.5b-instruct-q4_0\"\n",
    "qwen2_5_3b_model = \"qwen2.5:3b-instruct-q4_0\"\n",
    "llama3_2_3b = \"llama3.2:3b-instruct-q6_K\"\n",
    "llama_1b = \"llama3.2:1b-instruct-q4_0\"\n",
    "qwen2_5_7b = \"qwen2.5:7b-instruct-q4_0\"\n",
    "\n",
    "basic_retriever = bge_m3_vectordb.as_retriever()\n",
    "llm_model = OllamaLLM(model=qwen2_5_0_5b_model)"
   ],
   "id": "c47933ff2375049a",
   "outputs": [],
   "execution_count": 26
  },
  {
   "metadata": {
    "ExecuteTime": {
     "end_time": "2024-11-20T08:40:44.057578Z",
     "start_time": "2024-11-20T08:40:37.363499Z"
    }
   },
   "cell_type": "code",
   "source": [
    "from langchain import hub\n",
    "from langchain_core.output_parsers import StrOutputParser\n",
    "from langchain_core.runnables import RunnablePassthrough, RunnableParallel\n",
    "from dotenv import load_dotenv\n",
    "\n",
    "load_dotenv()\n",
    "\n",
    "# https://python.langchain.com/v0.1/docs/use_cases/question_answering/sources/\n",
    "# prompt: https://smith.langchain.com/hub/rlm/rag-prompt?organizationId=2d6cd9b7-5b49-44db-a523-a13c23f12f29\n",
    "basic_prompt = hub.pull(\"rlm/rag-prompt\")\n",
    "\n",
    "\n",
    "def format_docs(docs):\n",
    "    return \"\\n\\n\".join(doc.page_content for doc in docs)\n",
    "\n",
    "\n",
    "rag_chain_from_docs = (\n",
    "    RunnablePassthrough.assign(context=(lambda x: format_docs(x[\"context\"])))\n",
    "    | basic_prompt\n",
    "    | llm_model\n",
    "    | StrOutputParser()\n",
    ")\n",
    "\n",
    "basic_rag_chain = RunnableParallel(\n",
    "    {\"context\": basic_retriever, \"question\": RunnablePassthrough()}\n",
    ").assign(answer=rag_chain_from_docs)\n",
    "\n",
    "basic_rag_chain.invoke(\"The company is also aiming to reduce gas flaring?\")"
   ],
   "id": "272110ad9d432b35",
   "outputs": [
    {
     "data": {
      "text/plain": [
       "{'context': [Document(metadata={'date': '2021-12-13', 'domain': 'naturalgasintel', 'origin_doc_id': '955ad75cdc5396c0057252d76df2c445', 'title': 'ExxonMobil Envisions Carbon-Neutral Permian Operations by 2030', 'url': 'https://www.naturalgasintel.com/exxonmobil-envisions-carbon-neutral-permian-operations-by-2030/'}, page_content='their natural gas prices off of NGI s Mexico Gas Price Index. Read the analysis of our fifth survey of active players in Mexico, showcasing market driven insights now. , The company plans to electrify its operations with low carbon power, which may include wind, solar, hydrogen, natural gas with carbon capture and storage, or other emerging technologies, the firm said. ExxonMobil plans to expand its methane detection programs utilizing satellite surveillance and a network of ground based sensors for continuous monitoring, and aerial flyovers that identify leaks for rapid repairs. , By the end of this year, ExxonMobil plans to reduce flaring volumes across its Permian operations by more than 75 versus 2019, and to eliminate all routine flaring in the basin by the end of 2022. The company is also securing alternative natural gas delivery points across the basin to minimize non routine flaring, management said. , The net zero goal for Scope 1 and 2 emissions is one of the most ambitious'),\n",
       "  Document(metadata={'date': '2021-12-06', 'domain': 'naturalgasintel', 'origin_doc_id': '131bdd2d071c7148b6f29f6fb64d3f4b', 'title': 'ExxonMobil Targeting Net Zero Emissions in the Permian by 2030', 'url': 'https://www.naturalgasintel.com/exxonmobil-targeting-net-zero-emissions-in-the-permian-by-2030/'}, page_content='include wind, solar, hydrogen, natural gas with carbon capture and storage, or other emerging technologies, the firm said. ExxonMobil plans to expand its methane detection programs utilizing satellite surveillance and a network of ground based sensors for continuous monitoring, and aerial flyovers that identify leaks for rapid repairs. , By the end of this year, ExxonMobil plans to reduce flaring volumes across its Permian operations by more than 75 versus 2019, and to eliminate all routine flaring in the basin by the end of 2022. The company is also securing alternative natural gas delivery points across the basin to minimize non routine flaring, management said. , The net zero goal for Scope 1 and 2 emissions is one of the most ambitious and wide reaching in the Permian Basin, said ExxonMobil s Bart Cahir, senior vice president of unconventional. Throughout the value chain, our people are working hard to help reduce the greenhouse gas emissions associated with the products that'),\n",
       "  Document(metadata={'date': '2021-01-13', 'domain': 'energyvoice', 'origin_doc_id': '426d85848603772b811a9a16185562f4', 'title': 'QP launches carbon cut strategy - News for the Energy Sector', 'url': 'https://www.energyvoice.com//www.energyvoice.com/oilandgas/middle-east/lng-middle-east/291211/qp-emissions-lng-sustainability/'}, page_content='Qatar Petroleum QP has launched a new sustainability strategy, aiming to reduce the emissions intensity of its LNG facilities by 25 . , The company also aims to reduce emissions from its upstream facilities by at least 15 and cut flaring intensity in the upstream by more than 75 . The Qatari NOC set 2013 as the baseline. It intends to achieve the targets by 2030. , QP is targeting an end to routine flaring by 2030 and limiting fugitive methane emissions. It will accomplish this by setting a methane intensity target of 0.2 across all facilities by 2025. , The company has spent 900 million between 2012 and 2018 on reducing flaring. Another 170mn has been committed for investment from 2018 to 2021. , QP has committed to using carbon capture and storage CCS facilities to capture more than 7 million tonnes per year. In December 2020, QP said it planned to sequester this amount of CO2 by 2027. , The strategy is consistent with the Paris Agreement, the company has said. QP aims to add more'),\n",
       "  Document(metadata={'date': '2022-11-03', 'domain': 'azocleantech', 'origin_doc_id': 'ac59931b244bdcfd390b52506d75c70e', 'title': 'MIT Amps Up Research to Reduce Methane Emissions by 2030', 'url': 'https://www.azocleantech.com/news.aspx?newsID=32522'}, page_content='wells, flare off excess emissions, and tighten pipeline connections. , Fossil fuel companies have already made far greater pledges to reduce methane than they have with CO2, which is central to their business. This is due, in part, to the potential savings, as well as in preparation for methane regulations expected from the Environmental Protection Agency in late 2022. The regulations build upon existing EPA oversight of drilling operations, and will likely be exempt from the U.S. Supreme Court s ruling that limits the federal government s ability to regulate GHGs. , The low hanging fruit of gas stream mitigation addresses most of the 20 percent of total methane emissions in which the gas is released in sufficiently high concentrations for flaring. Plata s zeolite filter aims to address the thornier challenge of reducing the 80 percent of non flammable dilute emissions. , Plata found inspiration in decades old catalysis research for turning methane into methanol. One strategy has been')],\n",
       " 'question': 'The company is also aiming to reduce gas flaring?',\n",
       " 'answer': 'Plata found inspiration in decades old catalysis research for turning methane into methanol. Another important strategy is using advanced waste-to-energy technologies, which can remove more than 80 percent of non-flammable gases from flaring operations.\\n\\nQWP has launched a new sustainability strategy to reduce emissions intensity by another 25 . The company also plans to reduce emissions from upstream facilities by at least 15 and cut flaring intensity in the upstream by more than 75. QWP plans to achieve this goal by 2030, according to an announcement. \\n\\nQWP has invested over $9 billion since 2012 on reducing flaring activities across its operations.\\n\\nIn November 2018, QWP announced a new strategy that aims to reduce methane levels by 70% and cut flaring intensity by more than 50%. This commitment aligns with the Paris Agreement\\'s goal of achieving net-zero emissions. \\n\\nIn July 2020, QWP launched a program called \"Clean Energy Act\" which focuses on energy efficiency measures such as reducing fuel consumption and increasing efficiency in the utilization of existing facilities.\\n\\nQWP has also committed to using carbon capture and storage (CCS) technology for capturing an additional 6 million tons per year. \\n\\nThe company aims to reduce fugitive methane emissions by 25% by 2030, according to a 2019 report.\\n\\nPlata has pioneered the use of zeolite filtration technology in natural gas plants. Zeolites are materials that can absorb large amounts of hydrocarbons without significantly changing their chemical structure and molecular weight. \\n\\nZeolite filters have demonstrated significant capacity for capturing hydrogen from natural gas as well as methane, among other gases.\\n\\nThe company has also developed a zeolite-based carbon capture system that is capable of removing approximately 90% of methane from flared gases at the end of each year.\\n\\nPlata believes that with further development and investment in infrastructure to increase efficiency and emissions reduction, its long-term goal for reducing methane will be met.'}"
      ]
     },
     "execution_count": 27,
     "metadata": {},
     "output_type": "execute_result"
    }
   ],
   "execution_count": 27
  },
  {
   "metadata": {
    "ExecuteTime": {
     "end_time": "2024-11-20T08:40:50.971951Z",
     "start_time": "2024-11-20T08:40:50.884702Z"
    }
   },
   "cell_type": "code",
   "source": [
    "import pandas as pd\n",
    "\n",
    "clean_dataset = pd.read_parquet(\"data/preprocessed/clean_cleantech.parquet\")"
   ],
   "id": "6a05995c5b5e7e3d",
   "outputs": [],
   "execution_count": 28
  },
  {
   "metadata": {
    "ExecuteTime": {
     "end_time": "2024-11-20T08:40:51.308218Z",
     "start_time": "2024-11-20T08:40:51.304439Z"
    }
   },
   "cell_type": "code",
   "source": [
    "eval_test = pd.read_csv(\n",
    "    \"data/eval_dataset/cleantech_rag_evaluation_data_2024-09-20.csv\", sep=\";\"\n",
    ")"
   ],
   "id": "251ad83d9c8f2d4e",
   "outputs": [],
   "execution_count": 29
  },
  {
   "metadata": {
    "ExecuteTime": {
     "end_time": "2024-11-20T08:40:51.602315Z",
     "start_time": "2024-11-20T08:40:51.598972Z"
    }
   },
   "cell_type": "code",
   "source": [
    "from fuzzywuzzy import fuzz\n",
    "\n",
    "\n",
    "def compute_similarity(text_1, text_2):\n",
    "    return fuzz.partial_ratio(text_1, text_2)\n",
    "\n",
    "\n",
    "def find_most_similar(clean_df, eval_input_chunk):\n",
    "\n",
    "    similarity_score = 0\n",
    "    similarity_score_index = None\n",
    "\n",
    "    for idx, doc in clean_df.iterrows():\n",
    "        score = compute_similarity(eval_input_chunk, doc[\"content\"])\n",
    "        if score > similarity_score:\n",
    "            similarity_score = score\n",
    "            similarity_score_index = doc[\"id\"]\n",
    "\n",
    "    return similarity_score, similarity_score_index"
   ],
   "id": "5fd4a964716c86a8",
   "outputs": [],
   "execution_count": 30
  },
  {
   "metadata": {
    "ExecuteTime": {
     "end_time": "2024-11-20T08:41:46.204837Z",
     "start_time": "2024-11-20T08:40:52.038866Z"
    }
   },
   "cell_type": "code",
   "source": [
    "from tqdm import tqdm\n",
    "from pandarallel import pandarallel\n",
    "\n",
    "tqdm.pandas()\n",
    "pandarallel.initialize(progress_bar=True)\n",
    "\n",
    "\n",
    "def apply_find_most_similar(row, clean_df):\n",
    "    score, score_index = find_most_similar(clean_df, row[\"relevant_text\"])\n",
    "    return pd.Series([score, score_index])\n",
    "\n",
    "\n",
    "# Make sure your DataFrames are named as 'clean_dataset' and 'eval_test'\n",
    "eval_test[[\"top_score\", \"top_score_id\"]] = eval_test.parallel_apply(\n",
    "    apply_find_most_similar, args=(clean_dataset,), axis=1\n",
    ")"
   ],
   "id": "eb528e753dc385a3",
   "outputs": [
    {
     "name": "stdout",
     "output_type": "stream",
     "text": [
      "INFO: Pandarallel will run on 10 workers.\n",
      "INFO: Pandarallel will use standard multiprocessing data transfer (pipe) to transfer data between the main process and workers.\n"
     ]
    },
    {
     "data": {
      "text/plain": [
       "VBox(children=(HBox(children=(IntProgress(value=0, description='0.00%', max=3), Label(value='0 / 3'))), HBox(c…"
      ],
      "application/vnd.jupyter.widget-view+json": {
       "version_major": 2,
       "version_minor": 0,
       "model_id": "8db0ecdc679c47f4bc8707ad5ec38836"
      }
     },
     "metadata": {},
     "output_type": "display_data"
    }
   ],
   "execution_count": 31
  },
  {
   "metadata": {
    "ExecuteTime": {
     "end_time": "2024-11-20T08:42:35.987342Z",
     "start_time": "2024-11-20T08:42:35.978826Z"
    }
   },
   "cell_type": "code",
   "source": "eval_test.head(5)",
   "id": "1e7e9c37b5b6c74b",
   "outputs": [
    {
     "data": {
      "text/plain": [
       "   example_id  question_id                                           question  \\\n",
       "0           1            1  What is the innovation behind Leclanché's new ...   \n",
       "1           2            2       What is the EU’s Green Deal Industrial Plan?   \n",
       "2           3            2       What is the EU’s Green Deal Industrial Plan?   \n",
       "3           4            3  What are the four focus areas of the EU's Gree...   \n",
       "4           5            4  When did the cooperation between GM and Honda ...   \n",
       "\n",
       "                                       relevant_text  \\\n",
       "0  Leclanché said it has developed an environment...   \n",
       "1  The Green Deal Industrial Plan is a bid by the...   \n",
       "2  The European counterpart to the US Inflation R...   \n",
       "3  The new plan is fundamentally focused on four ...   \n",
       "4  What caught our eye was a new hookup between G...   \n",
       "\n",
       "                                              answer  \\\n",
       "0  Leclanché's innovation is using a water-based ...   \n",
       "1  The EU’s Green Deal Industrial Plan aims to en...   \n",
       "2  The EU’s Green Deal Industrial Plan aims to en...   \n",
       "3  The four focus areas of the EU's Green Deal In...   \n",
       "4                                          July 2013   \n",
       "\n",
       "                                         article_url  top_score  \\\n",
       "0  https://www.sgvoice.net/strategy/technology/23...         96   \n",
       "1  https://www.sgvoice.net/policy/25396/eu-seeks-...        100   \n",
       "2  https://www.pv-magazine.com/2023/02/02/europea...         98   \n",
       "3  https://www.sgvoice.net/policy/25396/eu-seeks-...        100   \n",
       "4  https://cleantechnica.com/2023/05/08/general-m...        100   \n",
       "\n",
       "                       top_score_id  \n",
       "0  d4e62c94318b4b2d09a1f9519b9ba65b  \n",
       "1  0ff0fa30dbc4a6cedb659fa0d221ec83  \n",
       "2  80181cd176814323bb67524614a2f11e  \n",
       "3  0ff0fa30dbc4a6cedb659fa0d221ec83  \n",
       "4  4411ffe0103fa4d5d9f00addb04806dd  "
      ],
      "text/html": [
       "<div>\n",
       "<style scoped>\n",
       "    .dataframe tbody tr th:only-of-type {\n",
       "        vertical-align: middle;\n",
       "    }\n",
       "\n",
       "    .dataframe tbody tr th {\n",
       "        vertical-align: top;\n",
       "    }\n",
       "\n",
       "    .dataframe thead th {\n",
       "        text-align: right;\n",
       "    }\n",
       "</style>\n",
       "<table border=\"1\" class=\"dataframe\">\n",
       "  <thead>\n",
       "    <tr style=\"text-align: right;\">\n",
       "      <th></th>\n",
       "      <th>example_id</th>\n",
       "      <th>question_id</th>\n",
       "      <th>question</th>\n",
       "      <th>relevant_text</th>\n",
       "      <th>answer</th>\n",
       "      <th>article_url</th>\n",
       "      <th>top_score</th>\n",
       "      <th>top_score_id</th>\n",
       "    </tr>\n",
       "  </thead>\n",
       "  <tbody>\n",
       "    <tr>\n",
       "      <th>0</th>\n",
       "      <td>1</td>\n",
       "      <td>1</td>\n",
       "      <td>What is the innovation behind Leclanché's new ...</td>\n",
       "      <td>Leclanché said it has developed an environment...</td>\n",
       "      <td>Leclanché's innovation is using a water-based ...</td>\n",
       "      <td>https://www.sgvoice.net/strategy/technology/23...</td>\n",
       "      <td>96</td>\n",
       "      <td>d4e62c94318b4b2d09a1f9519b9ba65b</td>\n",
       "    </tr>\n",
       "    <tr>\n",
       "      <th>1</th>\n",
       "      <td>2</td>\n",
       "      <td>2</td>\n",
       "      <td>What is the EU’s Green Deal Industrial Plan?</td>\n",
       "      <td>The Green Deal Industrial Plan is a bid by the...</td>\n",
       "      <td>The EU’s Green Deal Industrial Plan aims to en...</td>\n",
       "      <td>https://www.sgvoice.net/policy/25396/eu-seeks-...</td>\n",
       "      <td>100</td>\n",
       "      <td>0ff0fa30dbc4a6cedb659fa0d221ec83</td>\n",
       "    </tr>\n",
       "    <tr>\n",
       "      <th>2</th>\n",
       "      <td>3</td>\n",
       "      <td>2</td>\n",
       "      <td>What is the EU’s Green Deal Industrial Plan?</td>\n",
       "      <td>The European counterpart to the US Inflation R...</td>\n",
       "      <td>The EU’s Green Deal Industrial Plan aims to en...</td>\n",
       "      <td>https://www.pv-magazine.com/2023/02/02/europea...</td>\n",
       "      <td>98</td>\n",
       "      <td>80181cd176814323bb67524614a2f11e</td>\n",
       "    </tr>\n",
       "    <tr>\n",
       "      <th>3</th>\n",
       "      <td>4</td>\n",
       "      <td>3</td>\n",
       "      <td>What are the four focus areas of the EU's Gree...</td>\n",
       "      <td>The new plan is fundamentally focused on four ...</td>\n",
       "      <td>The four focus areas of the EU's Green Deal In...</td>\n",
       "      <td>https://www.sgvoice.net/policy/25396/eu-seeks-...</td>\n",
       "      <td>100</td>\n",
       "      <td>0ff0fa30dbc4a6cedb659fa0d221ec83</td>\n",
       "    </tr>\n",
       "    <tr>\n",
       "      <th>4</th>\n",
       "      <td>5</td>\n",
       "      <td>4</td>\n",
       "      <td>When did the cooperation between GM and Honda ...</td>\n",
       "      <td>What caught our eye was a new hookup between G...</td>\n",
       "      <td>July 2013</td>\n",
       "      <td>https://cleantechnica.com/2023/05/08/general-m...</td>\n",
       "      <td>100</td>\n",
       "      <td>4411ffe0103fa4d5d9f00addb04806dd</td>\n",
       "    </tr>\n",
       "  </tbody>\n",
       "</table>\n",
       "</div>"
      ]
     },
     "execution_count": 32,
     "metadata": {},
     "output_type": "execute_result"
    }
   ],
   "execution_count": 32
  },
  {
   "metadata": {
    "ExecuteTime": {
     "end_time": "2024-11-20T08:42:36.262717Z",
     "start_time": "2024-11-20T08:42:36.259789Z"
    }
   },
   "cell_type": "code",
   "source": "eval_test = eval_test.drop_duplicates().copy()",
   "id": "594d91f8f4fc184e",
   "outputs": [],
   "execution_count": 33
  },
  {
   "metadata": {
    "ExecuteTime": {
     "end_time": "2024-11-20T08:42:36.562809Z",
     "start_time": "2024-11-20T08:42:36.559966Z"
    }
   },
   "cell_type": "code",
   "source": [
    "eval_test = eval_test.rename(columns={\"answer\": \"ground_truth\"})"
   ],
   "id": "16ba50523f4908d8",
   "outputs": [],
   "execution_count": 34
  },
  {
   "metadata": {
    "ExecuteTime": {
     "end_time": "2024-11-20T08:42:36.750730Z",
     "start_time": "2024-11-20T08:42:36.746194Z"
    }
   },
   "cell_type": "code",
   "source": "eval_test.head(5)",
   "id": "6904aab3fdceeb5b",
   "outputs": [
    {
     "data": {
      "text/plain": [
       "   example_id  question_id                                           question  \\\n",
       "0           1            1  What is the innovation behind Leclanché's new ...   \n",
       "1           2            2       What is the EU’s Green Deal Industrial Plan?   \n",
       "2           3            2       What is the EU’s Green Deal Industrial Plan?   \n",
       "3           4            3  What are the four focus areas of the EU's Gree...   \n",
       "4           5            4  When did the cooperation between GM and Honda ...   \n",
       "\n",
       "                                       relevant_text  \\\n",
       "0  Leclanché said it has developed an environment...   \n",
       "1  The Green Deal Industrial Plan is a bid by the...   \n",
       "2  The European counterpart to the US Inflation R...   \n",
       "3  The new plan is fundamentally focused on four ...   \n",
       "4  What caught our eye was a new hookup between G...   \n",
       "\n",
       "                                        ground_truth  \\\n",
       "0  Leclanché's innovation is using a water-based ...   \n",
       "1  The EU’s Green Deal Industrial Plan aims to en...   \n",
       "2  The EU’s Green Deal Industrial Plan aims to en...   \n",
       "3  The four focus areas of the EU's Green Deal In...   \n",
       "4                                          July 2013   \n",
       "\n",
       "                                         article_url  top_score  \\\n",
       "0  https://www.sgvoice.net/strategy/technology/23...         96   \n",
       "1  https://www.sgvoice.net/policy/25396/eu-seeks-...        100   \n",
       "2  https://www.pv-magazine.com/2023/02/02/europea...         98   \n",
       "3  https://www.sgvoice.net/policy/25396/eu-seeks-...        100   \n",
       "4  https://cleantechnica.com/2023/05/08/general-m...        100   \n",
       "\n",
       "                       top_score_id  \n",
       "0  d4e62c94318b4b2d09a1f9519b9ba65b  \n",
       "1  0ff0fa30dbc4a6cedb659fa0d221ec83  \n",
       "2  80181cd176814323bb67524614a2f11e  \n",
       "3  0ff0fa30dbc4a6cedb659fa0d221ec83  \n",
       "4  4411ffe0103fa4d5d9f00addb04806dd  "
      ],
      "text/html": [
       "<div>\n",
       "<style scoped>\n",
       "    .dataframe tbody tr th:only-of-type {\n",
       "        vertical-align: middle;\n",
       "    }\n",
       "\n",
       "    .dataframe tbody tr th {\n",
       "        vertical-align: top;\n",
       "    }\n",
       "\n",
       "    .dataframe thead th {\n",
       "        text-align: right;\n",
       "    }\n",
       "</style>\n",
       "<table border=\"1\" class=\"dataframe\">\n",
       "  <thead>\n",
       "    <tr style=\"text-align: right;\">\n",
       "      <th></th>\n",
       "      <th>example_id</th>\n",
       "      <th>question_id</th>\n",
       "      <th>question</th>\n",
       "      <th>relevant_text</th>\n",
       "      <th>ground_truth</th>\n",
       "      <th>article_url</th>\n",
       "      <th>top_score</th>\n",
       "      <th>top_score_id</th>\n",
       "    </tr>\n",
       "  </thead>\n",
       "  <tbody>\n",
       "    <tr>\n",
       "      <th>0</th>\n",
       "      <td>1</td>\n",
       "      <td>1</td>\n",
       "      <td>What is the innovation behind Leclanché's new ...</td>\n",
       "      <td>Leclanché said it has developed an environment...</td>\n",
       "      <td>Leclanché's innovation is using a water-based ...</td>\n",
       "      <td>https://www.sgvoice.net/strategy/technology/23...</td>\n",
       "      <td>96</td>\n",
       "      <td>d4e62c94318b4b2d09a1f9519b9ba65b</td>\n",
       "    </tr>\n",
       "    <tr>\n",
       "      <th>1</th>\n",
       "      <td>2</td>\n",
       "      <td>2</td>\n",
       "      <td>What is the EU’s Green Deal Industrial Plan?</td>\n",
       "      <td>The Green Deal Industrial Plan is a bid by the...</td>\n",
       "      <td>The EU’s Green Deal Industrial Plan aims to en...</td>\n",
       "      <td>https://www.sgvoice.net/policy/25396/eu-seeks-...</td>\n",
       "      <td>100</td>\n",
       "      <td>0ff0fa30dbc4a6cedb659fa0d221ec83</td>\n",
       "    </tr>\n",
       "    <tr>\n",
       "      <th>2</th>\n",
       "      <td>3</td>\n",
       "      <td>2</td>\n",
       "      <td>What is the EU’s Green Deal Industrial Plan?</td>\n",
       "      <td>The European counterpart to the US Inflation R...</td>\n",
       "      <td>The EU’s Green Deal Industrial Plan aims to en...</td>\n",
       "      <td>https://www.pv-magazine.com/2023/02/02/europea...</td>\n",
       "      <td>98</td>\n",
       "      <td>80181cd176814323bb67524614a2f11e</td>\n",
       "    </tr>\n",
       "    <tr>\n",
       "      <th>3</th>\n",
       "      <td>4</td>\n",
       "      <td>3</td>\n",
       "      <td>What are the four focus areas of the EU's Gree...</td>\n",
       "      <td>The new plan is fundamentally focused on four ...</td>\n",
       "      <td>The four focus areas of the EU's Green Deal In...</td>\n",
       "      <td>https://www.sgvoice.net/policy/25396/eu-seeks-...</td>\n",
       "      <td>100</td>\n",
       "      <td>0ff0fa30dbc4a6cedb659fa0d221ec83</td>\n",
       "    </tr>\n",
       "    <tr>\n",
       "      <th>4</th>\n",
       "      <td>5</td>\n",
       "      <td>4</td>\n",
       "      <td>When did the cooperation between GM and Honda ...</td>\n",
       "      <td>What caught our eye was a new hookup between G...</td>\n",
       "      <td>July 2013</td>\n",
       "      <td>https://cleantechnica.com/2023/05/08/general-m...</td>\n",
       "      <td>100</td>\n",
       "      <td>4411ffe0103fa4d5d9f00addb04806dd</td>\n",
       "    </tr>\n",
       "  </tbody>\n",
       "</table>\n",
       "</div>"
      ]
     },
     "execution_count": 35,
     "metadata": {},
     "output_type": "execute_result"
    }
   ],
   "execution_count": 35
  },
  {
   "metadata": {
    "ExecuteTime": {
     "end_time": "2024-11-20T08:42:38.030555Z",
     "start_time": "2024-11-20T08:42:38.025459Z"
    }
   },
   "cell_type": "code",
   "source": [
    "questions = eval_test[\"question\"].to_list()\n",
    "ground_truth = eval_test[\"ground_truth\"].to_list()\n",
    "\n",
    "questions, ground_truth"
   ],
   "id": "e28f8e7f0f39f7ef",
   "outputs": [
    {
     "data": {
      "text/plain": [
       "([\"What is the innovation behind Leclanché's new method to produce lithium-ion batteries?\",\n",
       "  'What is the EU’s Green Deal Industrial Plan?',\n",
       "  'What is the EU’s Green Deal Industrial Plan?',\n",
       "  \"What are the four focus areas of the EU's Green Deal Industrial Plan?\",\n",
       "  'When did the cooperation between GM and Honda on fuel cell vehicles start?',\n",
       "  'Did Colgate-Palmolive enter into PPA agreements with solar developers?',\n",
       "  \"What is the status of ZeroAvia's hydrogen fuel cell electric aircraft?\",\n",
       "  'What is the \"Danger Season\"?',\n",
       "  'Is Mississipi an anti-ESG state?',\n",
       "  'Can you hang solar panels on garden fences?',\n",
       "  'Who develops quality control systems for ocean temperature in-situ profiles?',\n",
       "  'Why are milder winters detrimental for grapes and apples?',\n",
       "  'What are the basic recycling steps for solar panels?',\n",
       "  'Why does melting ice contribute to global warming?',\n",
       "  'Does the Swedish government plan bans on new petrol and diesel cars?',\n",
       "  'Where do the turbines used in Icelandic geothermal power plants come from?',\n",
       "  'Who is the target user for Leapfrog Energy?',\n",
       "  'What is Agrivoltaics?',\n",
       "  'What is Agrivoltaics?',\n",
       "  'Why is cannabis cultivation moving indoors?',\n",
       "  'What are the obstacles for cannabis producers when it comes to using solar energy?',\n",
       "  'In 2021, what were the top 3 states in the US in terms of total solar power generating capacity?',\n",
       "  'Which has the higher absorption coefficient for wavelengths above 500m - amorphous germanium or amorphous silicon?'],\n",
       " [\"Leclanché's innovation is using a water-based process instead of highly toxic organic solvents to produce nickel-manganese-cobalt-aluminium cathodes for lithium-ion batteries.\",\n",
       "  'The EU’s Green Deal Industrial Plan aims to enhance the competitiveness of its net zero industry and accelerate the transition to net zero by supporting the expansion of European manufacturing of technologies, goods, and services necessary to meet climate targets.',\n",
       "  'The EU’s Green Deal Industrial Plan aims to enhance the competitiveness of its net zero industry and accelerate the transition to net zero by supporting the expansion of European manufacturing of technologies, goods, and services necessary to meet climate targets.',\n",
       "  \"The four focus areas of the EU's Green Deal Industrial Plan are the regulatory environment, access to finance, enhancing skills, and improving supply chain resilience.\",\n",
       "  'July 2013',\n",
       "  'yes',\n",
       "  \"ZeroAvia's hydrogen fuel cell electric aircraft, a retrofitted 19-seat Dornier 228, has received permission to fly from the UK Civil Aviation Authority.\",\n",
       "  'The \"Danger Season\" is the period in the Northern Hemisphere, beginning in late spring, when wildfires, heat waves, and hurricanes, amplified by climate change, intensify, particularly as the weather shifts from cool and wet to warm and dry conditions.',\n",
       "  'yes',\n",
       "  'yes',\n",
       "  \"Scientists from the Chinese Academy of Sciences' Institute of Atmospheric Physics (IAP)\",\n",
       "  'Milder winters are detrimental for grapes and apples because these perennial species rely on consistent winter conditions for proper dormancy and bud timing, and erratic temperature swings disrupt these processes, making it difficult for growers to manage.',\n",
       "  'removing the frames, glass covers, and solar connectors',\n",
       "  \"Melting ice contributes to global warming because white ice reflects the sun's rays, while the dark sea absorbs over ten times more solar energy, increasing heat and accelerating warming.\",\n",
       "  'yes',\n",
       "  'Japan',\n",
       "  'subsurface specialists',\n",
       "  'the integration of food production and solar energy to make better use of limited land and soil resources',\n",
       "  'the integration of food production and solar energy to make better use of limited land and soil resources',\n",
       "  'to meet the demand for higher-quality products, control environmental factors and flowering periods, and ensure consistent, year-round harvests',\n",
       "  \"limited access to financial instruments, inability to secure standard loans or mortgages, lack of access to tax-credit programs due to federal illegality, and increased investor risk since companies can't restructure through bankruptcy\",\n",
       "  'California, Texas, and Florida',\n",
       "  'amorphous germanium'])"
      ]
     },
     "execution_count": 36,
     "metadata": {},
     "output_type": "execute_result"
    }
   ],
   "execution_count": 36
  },
  {
   "metadata": {
    "ExecuteTime": {
     "end_time": "2024-11-20T08:43:30.369350Z",
     "start_time": "2024-11-20T08:42:44.189071Z"
    }
   },
   "cell_type": "code",
   "source": [
    "from datasets import Dataset\n",
    "\n",
    "ground_truth_nested = [[item] for item in ground_truth]\n",
    "\n",
    "data = {\n",
    "    \"user_input\": [],\n",
    "    \"retrieved_contexts\": [],\n",
    "    \"reference_contexts\": ground_truth_nested,\n",
    "    \"response\": [],\n",
    "    \"reference\": ground_truth,\n",
    "}\n",
    "\n",
    "for query in tqdm(questions):\n",
    "    result_chain = basic_rag_chain.invoke(query)\n",
    "    retrieved_contexts = [doc.page_content for doc in result_chain[\"context\"]]\n",
    "    data[\"user_input\"].append(query)\n",
    "    data[\"retrieved_contexts\"].append(retrieved_contexts)\n",
    "    data[\"response\"].append(basic_rag_chain.invoke(query)[\"answer\"])\n",
    "\n",
    "dataset = Dataset.from_dict(data)\n",
    "dataset"
   ],
   "id": "78207d0ad782a712",
   "outputs": [
    {
     "name": "stderr",
     "output_type": "stream",
     "text": [
      "100%|██████████| 23/23 [00:46<00:00,  2.01s/it]\n"
     ]
    },
    {
     "data": {
      "text/plain": [
       "Dataset({\n",
       "    features: ['user_input', 'retrieved_contexts', 'reference_contexts', 'response', 'reference'],\n",
       "    num_rows: 23\n",
       "})"
      ]
     },
     "execution_count": 37,
     "metadata": {},
     "output_type": "execute_result"
    }
   ],
   "execution_count": 37
  },
  {
   "metadata": {
    "ExecuteTime": {
     "end_time": "2024-11-20T08:43:31.799194Z",
     "start_time": "2024-11-20T08:43:31.795513Z"
    }
   },
   "cell_type": "code",
   "source": "dataset[0]",
   "id": "60f91d15cf197b99",
   "outputs": [
    {
     "data": {
      "text/plain": [
       "{'user_input': \"What is the innovation behind Leclanché's new method to produce lithium-ion batteries?\",\n",
       " 'retrieved_contexts': ['process safer for employees. Leclanch claims to be a global pioneer in the field, having used aqueous binders in its for over a decade. , A further benefit of the water based process is a lower carbon footprint, as it uses 30 less energy, which would otherwise be needed to dry, or evaporate, and recycle the solvents. , With the water based production of the high capacity NMCA cathodes, we have reached a decisive milestone in lithium ion technology, said Dr Hilmi Buqa, vice president R D at Leclanch . Until now, producing them using environmentally friendly processes was considered impossible. But, now we have mastered the process. , In developing its new G NMCA battery, Leclanch has increased the nickel content of the cathode to around 90 , which has the effect of increasing the energy density. The G refers to the graphite anode. Increasing the nickel content allows for the cobalt content to be reduced from 20 to 5 . , Compared to conventional G NMC cells, these high capacity NMCA',\n",
       "  'Energy storage company Leclanch SW.LECN has designed a new battery cell that uses less cobalt and boosts energy density by 20 . The company says it is also produced in an environmentally friendly way, making it more recyclable or easy to dispose of at end of life. , Leclanch said it has developed an environmentally friendly way to produce lithium ion Li ion batteries. It has replaced highly toxic organic solvents, commonly used in the production process, with a water based process to make nickel manganese cobalt aluminium cathodes NMCA . , Organic solvents, such as N methyl pyrrolidone NMP , are highly toxic and harmful to the environment. The use of NMP has been restricted by the European Commission, having been added to the list of Substances of Very High Concern, which can have serious irreversible effects on human health and the environment. , Besides being technically simpler, eliminating the use of organic solvents also eliminates the risk of explosion, making the production',\n",
       "  'Ross Campbell, the director of Public Works at Lejeune. , Also unthinkable a decade ago is the large scale deployment of the battery chemistry at work in the new energy storage system. Duke describes it as a lithium iron phosphate platform, or LFP for short. , If that rings a bell, it should. LFP chemistry dates back to 1996. Its invention is credited to Denis Geoffroy, who made it in the course of helping a Canadian company called Phostech Lithium scale up their operations. The electric vehicle trend offered some market potential in the early 2000s, but interest in LFP for EV batteries was soon eclipsed by higher performing battery materials, namely nickel and cobalt. , Nevertheless, research on iron based batteries continued apace. The Energy Department s Brookhaven National Laboratory was among those picking up the iron battery torch in 2015. The US Army also chipped in for follow on iron battery research at Brookhaven, published in 2018. , Meanwhile, the cost of nickel and cobalt',\n",
       "  'By clicking Allow All you agree to the storing of cookies on your device to enhance site navigation, analyse site usage and support us in providing free open access scientific content. More info. , Lithium ion batteries have revolutionized electronics and enabled an accelerating shift toward clean energy. These batteries have become an integral part of 21st century life, but we re at risk of running out before 2050. The main elements used in each battery lithium, nickel, and cobalt metals as well as graphite are increasingly scarce and expensive, and there is little environmental or fair labor oversight of some of the remaining international supply chains. , There is a pressing need to start reusing the materials we ve already dug up and to make the battery production process safer and more equitable for all. A team of scientists from Lawrence Berkeley National Laboratory Berkeley Lab has invented an award winning new battery material that can check both boxes. Their product, called'],\n",
       " 'reference_contexts': [\"Leclanché's innovation is using a water-based process instead of highly toxic organic solvents to produce nickel-manganese-cobalt-aluminium cathodes for lithium-ion batteries.\"],\n",
       " 'response': 'Lithium iron phosphate (LiFePO4)',\n",
       " 'reference': \"Leclanché's innovation is using a water-based process instead of highly toxic organic solvents to produce nickel-manganese-cobalt-aluminium cathodes for lithium-ion batteries.\"}"
      ]
     },
     "execution_count": 38,
     "metadata": {},
     "output_type": "execute_result"
    }
   ],
   "execution_count": 38
  },
  {
   "metadata": {
    "ExecuteTime": {
     "end_time": "2024-11-19T23:38:06.317669Z",
     "start_time": "2024-11-19T23:38:06.313635Z"
    }
   },
   "cell_type": "code",
   "source": [
    "import pickle\n",
    "\n",
    "with open(f\"{llm_model.model}_dataset.pkl\", \"wb\") as f:\n",
    "    pickle.dump(dataset, f)"
   ],
   "id": "ab6f1002d8a8a541",
   "outputs": [],
   "execution_count": 19
  },
  {
   "metadata": {
    "ExecuteTime": {
     "end_time": "2024-11-19T23:38:12.406866Z",
     "start_time": "2024-11-19T23:38:12.403332Z"
    }
   },
   "cell_type": "code",
   "source": "dataset[0]",
   "id": "305de38cf557b353",
   "outputs": [
    {
     "data": {
      "text/plain": [
       "{'user_input': \"What is the innovation behind Leclanché's new method to produce lithium-ion batteries?\",\n",
       " 'retrieved_contexts': ['process safer for employees. Leclanch claims to be a global pioneer in the field, having used aqueous binders in its for over a decade. , A further benefit of the water based process is a lower carbon footprint, as it uses 30 less energy, which would otherwise be needed to dry, or evaporate, and recycle the solvents. , With the water based production of the high capacity NMCA cathodes, we have reached a decisive milestone in lithium ion technology, said Dr Hilmi Buqa, vice president R D at Leclanch . Until now, producing them using environmentally friendly processes was considered impossible. But, now we have mastered the process. , In developing its new G NMCA battery, Leclanch has increased the nickel content of the cathode to around 90 , which has the effect of increasing the energy density. The G refers to the graphite anode. Increasing the nickel content allows for the cobalt content to be reduced from 20 to 5 . , Compared to conventional G NMC cells, these high capacity NMCA',\n",
       "  'Energy storage company Leclanch SW.LECN has designed a new battery cell that uses less cobalt and boosts energy density by 20 . The company says it is also produced in an environmentally friendly way, making it more recyclable or easy to dispose of at end of life. , Leclanch said it has developed an environmentally friendly way to produce lithium ion Li ion batteries. It has replaced highly toxic organic solvents, commonly used in the production process, with a water based process to make nickel manganese cobalt aluminium cathodes NMCA . , Organic solvents, such as N methyl pyrrolidone NMP , are highly toxic and harmful to the environment. The use of NMP has been restricted by the European Commission, having been added to the list of Substances of Very High Concern, which can have serious irreversible effects on human health and the environment. , Besides being technically simpler, eliminating the use of organic solvents also eliminates the risk of explosion, making the production',\n",
       "  'Ross Campbell, the director of Public Works at Lejeune. , Also unthinkable a decade ago is the large scale deployment of the battery chemistry at work in the new energy storage system. Duke describes it as a lithium iron phosphate platform, or LFP for short. , If that rings a bell, it should. LFP chemistry dates back to 1996. Its invention is credited to Denis Geoffroy, who made it in the course of helping a Canadian company called Phostech Lithium scale up their operations. The electric vehicle trend offered some market potential in the early 2000s, but interest in LFP for EV batteries was soon eclipsed by higher performing battery materials, namely nickel and cobalt. , Nevertheless, research on iron based batteries continued apace. The Energy Department s Brookhaven National Laboratory was among those picking up the iron battery torch in 2015. The US Army also chipped in for follow on iron battery research at Brookhaven, published in 2018. , Meanwhile, the cost of nickel and cobalt',\n",
       "  'By clicking Allow All you agree to the storing of cookies on your device to enhance site navigation, analyse site usage and support us in providing free open access scientific content. More info. , Lithium ion batteries have revolutionized electronics and enabled an accelerating shift toward clean energy. These batteries have become an integral part of 21st century life, but we re at risk of running out before 2050. The main elements used in each battery lithium, nickel, and cobalt metals as well as graphite are increasingly scarce and expensive, and there is little environmental or fair labor oversight of some of the remaining international supply chains. , There is a pressing need to start reusing the materials we ve already dug up and to make the battery production process safer and more equitable for all. A team of scientists from Lawrence Berkeley National Laboratory Berkeley Lab has invented an award winning new battery material that can check both boxes. Their product, called'],\n",
       " 'reference_contexts': [\"Leclanché's innovation is using a water-based process instead of highly toxic organic solvents to produce nickel-manganese-cobalt-aluminium cathodes for lithium-ion batteries.\"],\n",
       " 'response': \"Leclanché's innovation involves using a water-based process to produce nickel manganese cobalt aluminium (NMCA) cathodes for lithium-ion batteries, replacing the traditional use of highly toxic organic solvents. This method not only reduces the environmental impact but also increases energy density by boosting the nickel content in the cathode while reducing cobalt usage.\",\n",
       " 'reference': \"Leclanché's innovation is using a water-based process instead of highly toxic organic solvents to produce nickel-manganese-cobalt-aluminium cathodes for lithium-ion batteries.\"}"
      ]
     },
     "execution_count": 20,
     "metadata": {},
     "output_type": "execute_result"
    }
   ],
   "execution_count": 20
  },
  {
   "metadata": {
    "ExecuteTime": {
     "end_time": "2024-11-19T23:46:01.418916Z",
     "start_time": "2024-11-19T23:46:01.415345Z"
    }
   },
   "cell_type": "code",
   "source": [
    "from langchain.callbacks.base import AsyncCallbackHandler\n",
    "from langchain.callbacks.tracers import LangChainTracer\n",
    "from ragas import RunConfig\n",
    "\n",
    "run_config = RunConfig(\n",
    "    timeout=3600,\n",
    ")\n",
    "\n",
    "from ragas.metrics import (\n",
    "    faithfulness,\n",
    "    answer_relevancy,\n",
    "    context_recall,\n",
    "    context_precision,\n",
    "    context_entity_recall,\n",
    "    answer_similarity,\n",
    "    answer_correctness,\n",
    ")\n",
    "\n",
    "ragas_metrics = [\n",
    "    # faithfulness,\n",
    "    answer_relevancy,\n",
    "    context_recall,\n",
    "    context_precision,\n",
    "    context_entity_recall,\n",
    "    answer_similarity,\n",
    "    answer_correctness,\n",
    "]"
   ],
   "id": "6571c3c26180b91d",
   "outputs": [],
   "execution_count": 24
  },
  {
   "metadata": {
    "ExecuteTime": {
     "end_time": "2024-11-19T23:46:01.979542Z",
     "start_time": "2024-11-19T23:46:01.937294Z"
    }
   },
   "cell_type": "code",
   "source": [
    "import os\n",
    "\n",
    "with open(\"secrets.txt\", \"r\") as f:\n",
    "    lines = f.readlines()\n",
    "    for line in lines:\n",
    "        if line.startswith(\"openai\"):\n",
    "            openaitoken = line.split(\"=\")[1].strip()\n",
    "\n",
    "os.environ[\"OPENAI_API_KEY\"] = openaitoken\n",
    "\n",
    "from ragas.llms import LangchainLLMWrapper\n",
    "from ragas.embeddings import LangchainEmbeddingsWrapper\n",
    "from langchain_openai import ChatOpenAI\n",
    "\n",
    "evaluator_llm = LangchainLLMWrapper(ChatOpenAI(model=\"gpt-4o-mini\"))\n",
    "\n",
    "faithfulness.adapt_prompts(language=\"english\", llm=evaluator_llm)"
   ],
   "id": "477a4629379ef754",
   "outputs": [
    {
     "data": {
      "text/plain": [
       "<coroutine object PromptMixin.adapt_prompts at 0x3596fed40>"
      ]
     },
     "execution_count": 25,
     "metadata": {},
     "output_type": "execute_result"
    }
   ],
   "execution_count": 25
  },
  {
   "metadata": {
    "ExecuteTime": {
     "end_time": "2024-11-19T23:47:02.748491Z",
     "start_time": "2024-11-19T23:46:02.507782Z"
    }
   },
   "cell_type": "code",
   "source": [
    "from ragas import evaluate\n",
    "\n",
    "baseline_test_result = evaluate(\n",
    "    dataset=dataset,\n",
    "    metrics=ragas_metrics,\n",
    "    llm=evaluator_llm,\n",
    "    embeddings=bge_m3_embed,\n",
    "    raise_exceptions=True,\n",
    "    show_progress=True,\n",
    "    run_config=run_config,\n",
    ")"
   ],
   "id": "f57acb2de03e410d",
   "outputs": [
    {
     "data": {
      "text/plain": [
       "Evaluating:   0%|          | 0/161 [00:00<?, ?it/s]"
      ],
      "application/vnd.jupyter.widget-view+json": {
       "version_major": 2,
       "version_minor": 0,
       "model_id": "750436ab1bfa476d89250d928440ba0e"
      }
     },
     "metadata": {},
     "output_type": "display_data"
    },
    {
     "name": "stderr",
     "output_type": "stream",
     "text": [
      "/opt/anaconda3/envs/npr_rag_hs24/lib/python3.9/site-packages/pydantic/main.py:390: UserWarning: Pydantic serializer warnings:\n",
      "  Expected `dict[str, any]` but got `EvaluationResult` with value `{'answer_relevancy': 0.74...er_correctness': 0.3454}` - serialized value may not be as expected\n",
      "  Expected `dict[str, any]` but got `EvaluationResult` with value `{'answer_relevancy': 0.74...er_correctness': 0.3454}` - serialized value may not be as expected\n",
      "  return self.__pydantic_serializer__.to_python(\n"
     ]
    }
   ],
   "execution_count": 26
  },
  {
   "metadata": {
    "ExecuteTime": {
     "end_time": "2024-11-19T23:50:06.946041Z",
     "start_time": "2024-11-19T23:50:06.943062Z"
    }
   },
   "cell_type": "code",
   "source": "baseline_test_result",
   "id": "62d004c3aa3a29c7",
   "outputs": [
    {
     "data": {
      "text/plain": [
       "{'answer_relevancy': 0.7436, 'context_recall': 0.6957, 'context_precision': 0.6920, 'context_entity_recall': 0.1497, 'semantic_similarity': 0.6273, 'answer_correctness': 0.3454}"
      ]
     },
     "execution_count": 28,
     "metadata": {},
     "output_type": "execute_result"
    }
   ],
   "execution_count": 28
  },
  {
   "metadata": {
    "ExecuteTime": {
     "end_time": "2024-11-19T23:50:18.865832Z",
     "start_time": "2024-11-19T23:50:18.849150Z"
    }
   },
   "cell_type": "code",
   "source": "baseline_test_result.to_pandas()",
   "id": "2105a281719a248e",
   "outputs": [
    {
     "data": {
      "text/plain": [
       "                                           user_input  \\\n",
       "0   What is the innovation behind Leclanché's new ...   \n",
       "1        What is the EU’s Green Deal Industrial Plan?   \n",
       "2        What is the EU’s Green Deal Industrial Plan?   \n",
       "3   What are the four focus areas of the EU's Gree...   \n",
       "4   When did the cooperation between GM and Honda ...   \n",
       "5   Did Colgate-Palmolive enter into PPA agreement...   \n",
       "6   What is the status of ZeroAvia's hydrogen fuel...   \n",
       "7                        What is the \"Danger Season\"?   \n",
       "8                    Is Mississipi an anti-ESG state?   \n",
       "9         Can you hang solar panels on garden fences?   \n",
       "10  Who develops quality control systems for ocean...   \n",
       "11  Why are milder winters detrimental for grapes ...   \n",
       "12  What are the basic recycling steps for solar p...   \n",
       "13  Why does melting ice contribute to global warm...   \n",
       "14  Does the Swedish government plan bans on new p...   \n",
       "15  Where do the turbines used in Icelandic geothe...   \n",
       "16        Who is the target user for Leapfrog Energy?   \n",
       "17                              What is Agrivoltaics?   \n",
       "18                              What is Agrivoltaics?   \n",
       "19        Why is cannabis cultivation moving indoors?   \n",
       "20  What are the obstacles for cannabis producers ...   \n",
       "21  In 2021, what were the top 3 states in the US ...   \n",
       "22  Which has the higher absorption coefficient fo...   \n",
       "\n",
       "                                   retrieved_contexts  \\\n",
       "0   [process safer for employees. Leclanch claims ...   \n",
       "1   [The EU has presented its Green Deal Industria...   \n",
       "2   [The EU has presented its Green Deal Industria...   \n",
       "3   [The EU has presented its Green Deal Industria...   \n",
       "4   [market. The collaboration launched in July of...   \n",
       "5   [Colorado based solar developer Scout Clean En...   \n",
       "6   [The fuel cell startup ZeroAvia is laying plan...   \n",
       "7   [DNV, a provider of advisory, monitoring, veri...   \n",
       "8   [State office holders in Mississippi continue ...   \n",
       "9   [I recently wrote about tiltable, portable sol...   \n",
       "10  [now available freely. , Tan, Z., et al. 2023 ...   \n",
       "11  [By clicking Allow All you agree to the storin...   \n",
       "12  [Back in 2018, one industry source said it was...   \n",
       "13  [incredibly small quantities, explains Alexand...   \n",
       "14  [this recent, more abrupt, change. , For their...   \n",
       "15  [Iceland, where heat from the interior of the ...   \n",
       "16  [the company s offering to the energy industry...   \n",
       "17  [An emerging strategy known as agrivoltaics co...   \n",
       "18  [An emerging strategy known as agrivoltaics co...   \n",
       "19  [he estimated indoor cultivation accounted for...   \n",
       "20  [challenge the sector, SEIA noted. The US also...   \n",
       "21  [brought online, which is not a surprise consi...   \n",
       "22  [be reduced to 5 10 nm while still achieving a...   \n",
       "\n",
       "                                   reference_contexts  \\\n",
       "0   [Leclanché's innovation is using a water-based...   \n",
       "1   [The EU’s Green Deal Industrial Plan aims to e...   \n",
       "2   [The EU’s Green Deal Industrial Plan aims to e...   \n",
       "3   [The four focus areas of the EU's Green Deal I...   \n",
       "4                                         [July 2013]   \n",
       "5                                               [yes]   \n",
       "6   [ZeroAvia's hydrogen fuel cell electric aircra...   \n",
       "7   [The \"Danger Season\" is the period in the Nort...   \n",
       "8                                               [yes]   \n",
       "9                                               [yes]   \n",
       "10  [Scientists from the Chinese Academy of Scienc...   \n",
       "11  [Milder winters are detrimental for grapes and...   \n",
       "12  [removing the frames, glass covers, and solar ...   \n",
       "13  [Melting ice contributes to global warming bec...   \n",
       "14                                              [yes]   \n",
       "15                                            [Japan]   \n",
       "16                           [subsurface specialists]   \n",
       "17  [the integration of food production and solar ...   \n",
       "18  [the integration of food production and solar ...   \n",
       "19  [to meet the demand for higher-quality product...   \n",
       "20  [limited access to financial instruments, inab...   \n",
       "21                   [California, Texas, and Florida]   \n",
       "22                              [amorphous germanium]   \n",
       "\n",
       "                                             response  \\\n",
       "0   Leclanché's innovation involves using a water-...   \n",
       "1   The EU's Green Deal Industrial Plan aims to bo...   \n",
       "2   The EU's Green Deal Industrial Plan aims to bo...   \n",
       "3   The four focus areas of the EU's Green Deal In...   \n",
       "4   The cooperation between GM and Honda on fuel c...   \n",
       "5   Yes, Colgate-Palmolive entered into a power pu...   \n",
       "6   ZeroAvia has received permission to conduct te...   \n",
       "7   The context does not mention any \"Danger Seaso...   \n",
       "8   Mississippi has anti-ESG rhetoric from its pub...   \n",
       "9   Yes, you can hang solar panels on garden fence...   \n",
       "10  Based on the provided context, Tan, Z., et al....   \n",
       "11  Milder winters can lead to early budbreak in g...   \n",
       "12  To reduce waste from decommissioned solar pane...   \n",
       "13  Melting ice contributes to global warming beca...   \n",
       "14  Based on the context provided, there is no exp...   \n",
       "15  I don't know where the turbines used in Icelan...   \n",
       "16  The target user for Leapfrog Energy includes c...   \n",
       "17  Agrivoltaics is an approach that combines sola...   \n",
       "18  Agrivoltaics is an approach that combines sola...   \n",
       "19  Cannabis cultivation is moving indoors due to ...   \n",
       "20  Cannabis producers face obstacles in using sol...   \n",
       "21  California took back the top spot, followed by...   \n",
       "22  Amorphous germanium has a higher absorption co...   \n",
       "\n",
       "                                            reference  answer_relevancy  \\\n",
       "0   Leclanché's innovation is using a water-based ...          0.829993   \n",
       "1   The EU’s Green Deal Industrial Plan aims to en...          0.934858   \n",
       "2   The EU’s Green Deal Industrial Plan aims to en...          0.934858   \n",
       "3   The four focus areas of the EU's Green Deal In...          0.937976   \n",
       "4                                           July 2013          0.999999   \n",
       "5                                                 yes          0.774930   \n",
       "6   ZeroAvia's hydrogen fuel cell electric aircraf...          0.855750   \n",
       "7   The \"Danger Season\" is the period in the North...          0.000000   \n",
       "8                                                 yes          0.000000   \n",
       "9                                                 yes          0.981968   \n",
       "10  Scientists from the Chinese Academy of Science...          0.602300   \n",
       "11  Milder winters are detrimental for grapes and ...          0.885922   \n",
       "12  removing the frames, glass covers, and solar c...          0.754037   \n",
       "13  Melting ice contributes to global warming beca...          0.984442   \n",
       "14                                                yes          0.000000   \n",
       "15                                              Japan          0.000000   \n",
       "16                             subsurface specialists          0.990889   \n",
       "17  the integration of food production and solar e...          0.897734   \n",
       "18  the integration of food production and solar e...          0.948037   \n",
       "19  to meet the demand for higher-quality products...          1.000000   \n",
       "20  limited access to financial instruments, inabi...          0.992222   \n",
       "21                     California, Texas, and Florida          0.861538   \n",
       "22                                amorphous germanium          0.934670   \n",
       "\n",
       "    context_recall  context_precision  context_entity_recall  \\\n",
       "0              1.0           1.000000               0.000000   \n",
       "1              1.0           1.000000               0.400000   \n",
       "2              1.0           1.000000               0.400000   \n",
       "3              1.0           0.500000               0.000000   \n",
       "4              1.0           1.000000               0.000000   \n",
       "5              1.0           0.916667               0.000000   \n",
       "6              1.0           0.583333               0.250000   \n",
       "7              0.0           0.000000               0.142857   \n",
       "8              0.0           0.916667               0.000000   \n",
       "9              1.0           1.000000               0.000000   \n",
       "10             0.0           0.000000               0.000000   \n",
       "11             1.0           1.000000               0.000000   \n",
       "12             1.0           0.416667               0.000000   \n",
       "13             0.0           1.000000               0.250000   \n",
       "14             0.0           0.000000               0.000000   \n",
       "15             0.0           0.000000               0.000000   \n",
       "16             1.0           1.000000               0.000000   \n",
       "17             1.0           1.000000               0.000000   \n",
       "18             1.0           1.000000               0.000000   \n",
       "19             1.0           1.000000               0.000000   \n",
       "20             0.0           0.000000               0.000000   \n",
       "21             1.0           0.833333               1.000000   \n",
       "22             1.0           0.750000               1.000000   \n",
       "\n",
       "    semantic_similarity  answer_correctness  \n",
       "0              0.891642            0.651482  \n",
       "1              0.944703            0.351560  \n",
       "2              0.905490            0.440658  \n",
       "3              1.000000            1.000000  \n",
       "4              0.467052            0.116763  \n",
       "5              0.435775            0.108944  \n",
       "6              0.833188            0.395797  \n",
       "7              0.600700            0.150175  \n",
       "8              0.405520            0.101380  \n",
       "9              0.404254            0.101063  \n",
       "10             0.450654            0.112663  \n",
       "11             0.866720            0.966680  \n",
       "12             0.598569            0.399642  \n",
       "13             0.906004            0.341886  \n",
       "14             0.326011            0.081503  \n",
       "15             0.307341            0.076835  \n",
       "16             0.291694            0.072923  \n",
       "17             0.678692            0.619673  \n",
       "18             0.677842            0.619460  \n",
       "19             0.621514            0.655379  \n",
       "20             0.511118            0.252779  \n",
       "21             0.596514            0.149128  \n",
       "22             0.707109            0.176777  "
      ],
      "text/html": [
       "<div>\n",
       "<style scoped>\n",
       "    .dataframe tbody tr th:only-of-type {\n",
       "        vertical-align: middle;\n",
       "    }\n",
       "\n",
       "    .dataframe tbody tr th {\n",
       "        vertical-align: top;\n",
       "    }\n",
       "\n",
       "    .dataframe thead th {\n",
       "        text-align: right;\n",
       "    }\n",
       "</style>\n",
       "<table border=\"1\" class=\"dataframe\">\n",
       "  <thead>\n",
       "    <tr style=\"text-align: right;\">\n",
       "      <th></th>\n",
       "      <th>user_input</th>\n",
       "      <th>retrieved_contexts</th>\n",
       "      <th>reference_contexts</th>\n",
       "      <th>response</th>\n",
       "      <th>reference</th>\n",
       "      <th>answer_relevancy</th>\n",
       "      <th>context_recall</th>\n",
       "      <th>context_precision</th>\n",
       "      <th>context_entity_recall</th>\n",
       "      <th>semantic_similarity</th>\n",
       "      <th>answer_correctness</th>\n",
       "    </tr>\n",
       "  </thead>\n",
       "  <tbody>\n",
       "    <tr>\n",
       "      <th>0</th>\n",
       "      <td>What is the innovation behind Leclanché's new ...</td>\n",
       "      <td>[process safer for employees. Leclanch claims ...</td>\n",
       "      <td>[Leclanché's innovation is using a water-based...</td>\n",
       "      <td>Leclanché's innovation involves using a water-...</td>\n",
       "      <td>Leclanché's innovation is using a water-based ...</td>\n",
       "      <td>0.829993</td>\n",
       "      <td>1.0</td>\n",
       "      <td>1.000000</td>\n",
       "      <td>0.000000</td>\n",
       "      <td>0.891642</td>\n",
       "      <td>0.651482</td>\n",
       "    </tr>\n",
       "    <tr>\n",
       "      <th>1</th>\n",
       "      <td>What is the EU’s Green Deal Industrial Plan?</td>\n",
       "      <td>[The EU has presented its Green Deal Industria...</td>\n",
       "      <td>[The EU’s Green Deal Industrial Plan aims to e...</td>\n",
       "      <td>The EU's Green Deal Industrial Plan aims to bo...</td>\n",
       "      <td>The EU’s Green Deal Industrial Plan aims to en...</td>\n",
       "      <td>0.934858</td>\n",
       "      <td>1.0</td>\n",
       "      <td>1.000000</td>\n",
       "      <td>0.400000</td>\n",
       "      <td>0.944703</td>\n",
       "      <td>0.351560</td>\n",
       "    </tr>\n",
       "    <tr>\n",
       "      <th>2</th>\n",
       "      <td>What is the EU’s Green Deal Industrial Plan?</td>\n",
       "      <td>[The EU has presented its Green Deal Industria...</td>\n",
       "      <td>[The EU’s Green Deal Industrial Plan aims to e...</td>\n",
       "      <td>The EU's Green Deal Industrial Plan aims to bo...</td>\n",
       "      <td>The EU’s Green Deal Industrial Plan aims to en...</td>\n",
       "      <td>0.934858</td>\n",
       "      <td>1.0</td>\n",
       "      <td>1.000000</td>\n",
       "      <td>0.400000</td>\n",
       "      <td>0.905490</td>\n",
       "      <td>0.440658</td>\n",
       "    </tr>\n",
       "    <tr>\n",
       "      <th>3</th>\n",
       "      <td>What are the four focus areas of the EU's Gree...</td>\n",
       "      <td>[The EU has presented its Green Deal Industria...</td>\n",
       "      <td>[The four focus areas of the EU's Green Deal I...</td>\n",
       "      <td>The four focus areas of the EU's Green Deal In...</td>\n",
       "      <td>The four focus areas of the EU's Green Deal In...</td>\n",
       "      <td>0.937976</td>\n",
       "      <td>1.0</td>\n",
       "      <td>0.500000</td>\n",
       "      <td>0.000000</td>\n",
       "      <td>1.000000</td>\n",
       "      <td>1.000000</td>\n",
       "    </tr>\n",
       "    <tr>\n",
       "      <th>4</th>\n",
       "      <td>When did the cooperation between GM and Honda ...</td>\n",
       "      <td>[market. The collaboration launched in July of...</td>\n",
       "      <td>[July 2013]</td>\n",
       "      <td>The cooperation between GM and Honda on fuel c...</td>\n",
       "      <td>July 2013</td>\n",
       "      <td>0.999999</td>\n",
       "      <td>1.0</td>\n",
       "      <td>1.000000</td>\n",
       "      <td>0.000000</td>\n",
       "      <td>0.467052</td>\n",
       "      <td>0.116763</td>\n",
       "    </tr>\n",
       "    <tr>\n",
       "      <th>5</th>\n",
       "      <td>Did Colgate-Palmolive enter into PPA agreement...</td>\n",
       "      <td>[Colorado based solar developer Scout Clean En...</td>\n",
       "      <td>[yes]</td>\n",
       "      <td>Yes, Colgate-Palmolive entered into a power pu...</td>\n",
       "      <td>yes</td>\n",
       "      <td>0.774930</td>\n",
       "      <td>1.0</td>\n",
       "      <td>0.916667</td>\n",
       "      <td>0.000000</td>\n",
       "      <td>0.435775</td>\n",
       "      <td>0.108944</td>\n",
       "    </tr>\n",
       "    <tr>\n",
       "      <th>6</th>\n",
       "      <td>What is the status of ZeroAvia's hydrogen fuel...</td>\n",
       "      <td>[The fuel cell startup ZeroAvia is laying plan...</td>\n",
       "      <td>[ZeroAvia's hydrogen fuel cell electric aircra...</td>\n",
       "      <td>ZeroAvia has received permission to conduct te...</td>\n",
       "      <td>ZeroAvia's hydrogen fuel cell electric aircraf...</td>\n",
       "      <td>0.855750</td>\n",
       "      <td>1.0</td>\n",
       "      <td>0.583333</td>\n",
       "      <td>0.250000</td>\n",
       "      <td>0.833188</td>\n",
       "      <td>0.395797</td>\n",
       "    </tr>\n",
       "    <tr>\n",
       "      <th>7</th>\n",
       "      <td>What is the \"Danger Season\"?</td>\n",
       "      <td>[DNV, a provider of advisory, monitoring, veri...</td>\n",
       "      <td>[The \"Danger Season\" is the period in the Nort...</td>\n",
       "      <td>The context does not mention any \"Danger Seaso...</td>\n",
       "      <td>The \"Danger Season\" is the period in the North...</td>\n",
       "      <td>0.000000</td>\n",
       "      <td>0.0</td>\n",
       "      <td>0.000000</td>\n",
       "      <td>0.142857</td>\n",
       "      <td>0.600700</td>\n",
       "      <td>0.150175</td>\n",
       "    </tr>\n",
       "    <tr>\n",
       "      <th>8</th>\n",
       "      <td>Is Mississipi an anti-ESG state?</td>\n",
       "      <td>[State office holders in Mississippi continue ...</td>\n",
       "      <td>[yes]</td>\n",
       "      <td>Mississippi has anti-ESG rhetoric from its pub...</td>\n",
       "      <td>yes</td>\n",
       "      <td>0.000000</td>\n",
       "      <td>0.0</td>\n",
       "      <td>0.916667</td>\n",
       "      <td>0.000000</td>\n",
       "      <td>0.405520</td>\n",
       "      <td>0.101380</td>\n",
       "    </tr>\n",
       "    <tr>\n",
       "      <th>9</th>\n",
       "      <td>Can you hang solar panels on garden fences?</td>\n",
       "      <td>[I recently wrote about tiltable, portable sol...</td>\n",
       "      <td>[yes]</td>\n",
       "      <td>Yes, you can hang solar panels on garden fence...</td>\n",
       "      <td>yes</td>\n",
       "      <td>0.981968</td>\n",
       "      <td>1.0</td>\n",
       "      <td>1.000000</td>\n",
       "      <td>0.000000</td>\n",
       "      <td>0.404254</td>\n",
       "      <td>0.101063</td>\n",
       "    </tr>\n",
       "    <tr>\n",
       "      <th>10</th>\n",
       "      <td>Who develops quality control systems for ocean...</td>\n",
       "      <td>[now available freely. , Tan, Z., et al. 2023 ...</td>\n",
       "      <td>[Scientists from the Chinese Academy of Scienc...</td>\n",
       "      <td>Based on the provided context, Tan, Z., et al....</td>\n",
       "      <td>Scientists from the Chinese Academy of Science...</td>\n",
       "      <td>0.602300</td>\n",
       "      <td>0.0</td>\n",
       "      <td>0.000000</td>\n",
       "      <td>0.000000</td>\n",
       "      <td>0.450654</td>\n",
       "      <td>0.112663</td>\n",
       "    </tr>\n",
       "    <tr>\n",
       "      <th>11</th>\n",
       "      <td>Why are milder winters detrimental for grapes ...</td>\n",
       "      <td>[By clicking Allow All you agree to the storin...</td>\n",
       "      <td>[Milder winters are detrimental for grapes and...</td>\n",
       "      <td>Milder winters can lead to early budbreak in g...</td>\n",
       "      <td>Milder winters are detrimental for grapes and ...</td>\n",
       "      <td>0.885922</td>\n",
       "      <td>1.0</td>\n",
       "      <td>1.000000</td>\n",
       "      <td>0.000000</td>\n",
       "      <td>0.866720</td>\n",
       "      <td>0.966680</td>\n",
       "    </tr>\n",
       "    <tr>\n",
       "      <th>12</th>\n",
       "      <td>What are the basic recycling steps for solar p...</td>\n",
       "      <td>[Back in 2018, one industry source said it was...</td>\n",
       "      <td>[removing the frames, glass covers, and solar ...</td>\n",
       "      <td>To reduce waste from decommissioned solar pane...</td>\n",
       "      <td>removing the frames, glass covers, and solar c...</td>\n",
       "      <td>0.754037</td>\n",
       "      <td>1.0</td>\n",
       "      <td>0.416667</td>\n",
       "      <td>0.000000</td>\n",
       "      <td>0.598569</td>\n",
       "      <td>0.399642</td>\n",
       "    </tr>\n",
       "    <tr>\n",
       "      <th>13</th>\n",
       "      <td>Why does melting ice contribute to global warm...</td>\n",
       "      <td>[incredibly small quantities, explains Alexand...</td>\n",
       "      <td>[Melting ice contributes to global warming bec...</td>\n",
       "      <td>Melting ice contributes to global warming beca...</td>\n",
       "      <td>Melting ice contributes to global warming beca...</td>\n",
       "      <td>0.984442</td>\n",
       "      <td>0.0</td>\n",
       "      <td>1.000000</td>\n",
       "      <td>0.250000</td>\n",
       "      <td>0.906004</td>\n",
       "      <td>0.341886</td>\n",
       "    </tr>\n",
       "    <tr>\n",
       "      <th>14</th>\n",
       "      <td>Does the Swedish government plan bans on new p...</td>\n",
       "      <td>[this recent, more abrupt, change. , For their...</td>\n",
       "      <td>[yes]</td>\n",
       "      <td>Based on the context provided, there is no exp...</td>\n",
       "      <td>yes</td>\n",
       "      <td>0.000000</td>\n",
       "      <td>0.0</td>\n",
       "      <td>0.000000</td>\n",
       "      <td>0.000000</td>\n",
       "      <td>0.326011</td>\n",
       "      <td>0.081503</td>\n",
       "    </tr>\n",
       "    <tr>\n",
       "      <th>15</th>\n",
       "      <td>Where do the turbines used in Icelandic geothe...</td>\n",
       "      <td>[Iceland, where heat from the interior of the ...</td>\n",
       "      <td>[Japan]</td>\n",
       "      <td>I don't know where the turbines used in Icelan...</td>\n",
       "      <td>Japan</td>\n",
       "      <td>0.000000</td>\n",
       "      <td>0.0</td>\n",
       "      <td>0.000000</td>\n",
       "      <td>0.000000</td>\n",
       "      <td>0.307341</td>\n",
       "      <td>0.076835</td>\n",
       "    </tr>\n",
       "    <tr>\n",
       "      <th>16</th>\n",
       "      <td>Who is the target user for Leapfrog Energy?</td>\n",
       "      <td>[the company s offering to the energy industry...</td>\n",
       "      <td>[subsurface specialists]</td>\n",
       "      <td>The target user for Leapfrog Energy includes c...</td>\n",
       "      <td>subsurface specialists</td>\n",
       "      <td>0.990889</td>\n",
       "      <td>1.0</td>\n",
       "      <td>1.000000</td>\n",
       "      <td>0.000000</td>\n",
       "      <td>0.291694</td>\n",
       "      <td>0.072923</td>\n",
       "    </tr>\n",
       "    <tr>\n",
       "      <th>17</th>\n",
       "      <td>What is Agrivoltaics?</td>\n",
       "      <td>[An emerging strategy known as agrivoltaics co...</td>\n",
       "      <td>[the integration of food production and solar ...</td>\n",
       "      <td>Agrivoltaics is an approach that combines sola...</td>\n",
       "      <td>the integration of food production and solar e...</td>\n",
       "      <td>0.897734</td>\n",
       "      <td>1.0</td>\n",
       "      <td>1.000000</td>\n",
       "      <td>0.000000</td>\n",
       "      <td>0.678692</td>\n",
       "      <td>0.619673</td>\n",
       "    </tr>\n",
       "    <tr>\n",
       "      <th>18</th>\n",
       "      <td>What is Agrivoltaics?</td>\n",
       "      <td>[An emerging strategy known as agrivoltaics co...</td>\n",
       "      <td>[the integration of food production and solar ...</td>\n",
       "      <td>Agrivoltaics is an approach that combines sola...</td>\n",
       "      <td>the integration of food production and solar e...</td>\n",
       "      <td>0.948037</td>\n",
       "      <td>1.0</td>\n",
       "      <td>1.000000</td>\n",
       "      <td>0.000000</td>\n",
       "      <td>0.677842</td>\n",
       "      <td>0.619460</td>\n",
       "    </tr>\n",
       "    <tr>\n",
       "      <th>19</th>\n",
       "      <td>Why is cannabis cultivation moving indoors?</td>\n",
       "      <td>[he estimated indoor cultivation accounted for...</td>\n",
       "      <td>[to meet the demand for higher-quality product...</td>\n",
       "      <td>Cannabis cultivation is moving indoors due to ...</td>\n",
       "      <td>to meet the demand for higher-quality products...</td>\n",
       "      <td>1.000000</td>\n",
       "      <td>1.0</td>\n",
       "      <td>1.000000</td>\n",
       "      <td>0.000000</td>\n",
       "      <td>0.621514</td>\n",
       "      <td>0.655379</td>\n",
       "    </tr>\n",
       "    <tr>\n",
       "      <th>20</th>\n",
       "      <td>What are the obstacles for cannabis producers ...</td>\n",
       "      <td>[challenge the sector, SEIA noted. The US also...</td>\n",
       "      <td>[limited access to financial instruments, inab...</td>\n",
       "      <td>Cannabis producers face obstacles in using sol...</td>\n",
       "      <td>limited access to financial instruments, inabi...</td>\n",
       "      <td>0.992222</td>\n",
       "      <td>0.0</td>\n",
       "      <td>0.000000</td>\n",
       "      <td>0.000000</td>\n",
       "      <td>0.511118</td>\n",
       "      <td>0.252779</td>\n",
       "    </tr>\n",
       "    <tr>\n",
       "      <th>21</th>\n",
       "      <td>In 2021, what were the top 3 states in the US ...</td>\n",
       "      <td>[brought online, which is not a surprise consi...</td>\n",
       "      <td>[California, Texas, and Florida]</td>\n",
       "      <td>California took back the top spot, followed by...</td>\n",
       "      <td>California, Texas, and Florida</td>\n",
       "      <td>0.861538</td>\n",
       "      <td>1.0</td>\n",
       "      <td>0.833333</td>\n",
       "      <td>1.000000</td>\n",
       "      <td>0.596514</td>\n",
       "      <td>0.149128</td>\n",
       "    </tr>\n",
       "    <tr>\n",
       "      <th>22</th>\n",
       "      <td>Which has the higher absorption coefficient fo...</td>\n",
       "      <td>[be reduced to 5 10 nm while still achieving a...</td>\n",
       "      <td>[amorphous germanium]</td>\n",
       "      <td>Amorphous germanium has a higher absorption co...</td>\n",
       "      <td>amorphous germanium</td>\n",
       "      <td>0.934670</td>\n",
       "      <td>1.0</td>\n",
       "      <td>0.750000</td>\n",
       "      <td>1.000000</td>\n",
       "      <td>0.707109</td>\n",
       "      <td>0.176777</td>\n",
       "    </tr>\n",
       "  </tbody>\n",
       "</table>\n",
       "</div>"
      ]
     },
     "execution_count": 29,
     "metadata": {},
     "output_type": "execute_result"
    }
   ],
   "execution_count": 29
  },
  {
   "metadata": {
    "ExecuteTime": {
     "end_time": "2024-11-19T23:50:47.947589Z",
     "start_time": "2024-11-19T23:50:47.939327Z"
    }
   },
   "cell_type": "code",
   "source": "baseline_test_result.to_pandas().to_csv(\"data/basline_test_result.csv\")",
   "id": "d9a25bbbc603f48d",
   "outputs": [],
   "execution_count": 30
  },
  {
   "metadata": {
    "ExecuteTime": {
     "end_time": "2024-11-19T23:50:50.430826Z",
     "start_time": "2024-11-19T23:50:50.423445Z"
    }
   },
   "cell_type": "code",
   "source": [
    "import pandas as pd\n",
    "\n",
    "result = pd.read_csv(\"data/basline_test_result.csv\")\n",
    "\n",
    "result.columns"
   ],
   "id": "8b57e8733c9dbf8",
   "outputs": [
    {
     "data": {
      "text/plain": [
       "Index(['Unnamed: 0', 'user_input', 'retrieved_contexts', 'reference_contexts',\n",
       "       'response', 'reference', 'answer_relevancy', 'context_recall',\n",
       "       'context_precision', 'context_entity_recall', 'semantic_similarity',\n",
       "       'answer_correctness'],\n",
       "      dtype='object')"
      ]
     },
     "execution_count": 31,
     "metadata": {},
     "output_type": "execute_result"
    }
   ],
   "execution_count": 31
  },
  {
   "metadata": {
    "ExecuteTime": {
     "end_time": "2024-11-19T23:51:04.033641Z",
     "start_time": "2024-11-19T23:51:04.029740Z"
    }
   },
   "cell_type": "code",
   "source": [
    "import pandas as pd\n",
    "import matplotlib.pyplot as plt\n",
    "import seaborn as sns\n",
    "\n",
    "\n",
    "def plot_boxplot(csv_file):\n",
    "    # Read data from CSV file\n",
    "    df = pd.read_csv(csv_file)\n",
    "\n",
    "    # List of columns you want to plot\n",
    "    columns = [\n",
    "        \"answer_relevancy\",\n",
    "        \"context_precision\",\n",
    "        \"context_entity_recall\",\n",
    "        \"semantic_similarity\",\n",
    "        \"answer_correctness\",\n",
    "    ]\n",
    "\n",
    "    # Use a valid Matplotlib style\n",
    "    plt.style.use(\"seaborn-v0_8-darkgrid\")  # Updated to use a valid Matplotlib style\n",
    "\n",
    "    # Set up the figure size\n",
    "    plt.figure(figsize=(12, 6))\n",
    "\n",
    "    # Create a boxplot with swarmplot overlay for data points\n",
    "    sns.boxplot(data=df[columns], palette=\"Set2\", width=0.6, linewidth=1.5)\n",
    "    sns.stripplot(data=df[columns], color=\"black\", size=4, alpha=0.7, jitter=True)\n",
    "\n",
    "    # Add a title and labels\n",
    "    plt.title(\"Boxplot of Scores\", fontsize=16)\n",
    "    plt.ylabel(\"Score\", fontsize=14)\n",
    "    plt.xticks(fontsize=12, rotation=20)  # Rotate x-axis labels for better readability\n",
    "\n",
    "    # Tight layout for better spacing\n",
    "    plt.tight_layout()\n",
    "\n",
    "    # Show the plot\n",
    "    plt.show()"
   ],
   "id": "56c8116605f01c59",
   "outputs": [],
   "execution_count": 34
  },
  {
   "metadata": {
    "ExecuteTime": {
     "end_time": "2024-11-19T23:51:04.894977Z",
     "start_time": "2024-11-19T23:51:04.697465Z"
    }
   },
   "cell_type": "code",
   "source": [
    "plot_boxplot(\"data/basline_test_result.csv\")"
   ],
   "id": "85e247440048ab97",
   "outputs": [
    {
     "data": {
      "text/plain": [
       "<Figure size 1200x600 with 1 Axes>"
      ],
      "image/png": "[encoded data removed]"
     },
     "metadata": {},
     "output_type": "display_data"
    }
   ],
   "execution_count": 35
  },
  {
   "metadata": {},
   "cell_type": "code",
   "outputs": [],
   "execution_count": null,
   "source": [
    "from langchain_openai import ChatOpenAI\n",
    "from src.evaluation import Evaluation\n",
    "\n",
    "# Initialize the class\n",
    "rag_chain = ...  # Your RAG chain instance\n",
    "llm_model = ChatOpenAI(model=\"gpt-3.5-turbo\")\n",
    "embeddings = HuggingFaceEmbeddings(model_name=\"BAAI/bge-m3\")\n",
    "\n",
    "evaluator = Evaluation(\n",
    "    name=\"Cleantech Evaluation\",\n",
    "    rag_chain=rag_chain,\n",
    "    llm_model=llm_model,\n",
    "    embeddings=embeddings,\n",
    ")\n",
    "\n",
    "# Evaluate (preprocessing and dataset preparation happens automatically)\n",
    "results = evaluator.evaluate(\n",
    "    clean_file=\"data/preprocessed/clean_cleantech.parquet\",\n",
    "    eval_file=\"data/eval_dataset/cleantech_rag_evaluation_data_2024-09-20.csv\",\n",
    ")\n",
    "\n",
    "# Save results to CSV and plot\n",
    "results.to_csv(\"evaluation_results_old.csv\", index=False)\n",
    "evaluator.plot_result(\"evaluation_results_old.csv\")"
   ],
   "id": "12241720a73ec0cd"
  }
 ],
 "metadata": {
  "kernelspec": {
   "display_name": "Python 3",
   "language": "python",
   "name": "python3"
  },
  "language_info": {
   "codemirror_mode": {
    "name": "ipython",
    "version": 2
   },
   "file_extension": ".py",
   "mimetype": "text/x-python",
   "name": "python",
   "nbconvert_exporter": "python",
   "pygments_lexer": "ipython2",
   "version": "2.7.6"
  }
 },
 "nbformat": 4,
 "nbformat_minor": 5
}

