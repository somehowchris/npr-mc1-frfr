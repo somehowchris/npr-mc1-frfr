{
 "cells": [
  {
   "cell_type": "code",
   "id": "initial_id",
   "metadata": {
    "collapsed": true,
    "ExecuteTime": {
     "end_time": "2024-11-14T21:52:05.971395Z",
     "start_time": "2024-11-14T21:52:05.691580Z"
    }
   },
   "source": "import pandas as pd",
   "outputs": [],
   "execution_count": 1
  },
  {
   "metadata": {
    "ExecuteTime": {
     "end_time": "2024-11-14T21:52:06.367377Z",
     "start_time": "2024-11-14T21:52:05.972750Z"
    }
   },
   "cell_type": "code",
   "source": [
    "raw_data = pd.read_csv(\"data/cleantech_media_dataset_v2_2024-02-23.csv\")"
   ],
   "id": "d543d98256bffb8a",
   "outputs": [],
   "execution_count": 2
  },
  {
   "metadata": {
    "ExecuteTime": {
     "end_time": "2024-11-14T21:52:06.375260Z",
     "start_time": "2024-11-14T21:52:06.368422Z"
    }
   },
   "cell_type": "code",
   "source": "raw_data.head(5)",
   "id": "fd1d0f4dc31e2d59",
   "outputs": [
    {
     "data": {
      "text/plain": [
       "   Unnamed: 0                                              title        date  \\\n",
       "0        1280  Qatar to Slash Emissions as LNG Expansion Adva...  2021-01-13   \n",
       "1        1281               India Launches Its First 700 MW PHWR  2021-01-15   \n",
       "2        1283              New Chapter for US-China Energy Trade  2021-01-20   \n",
       "3        1284  Japan: Slow Restarts Cast Doubt on 2030 Energy...  2021-01-22   \n",
       "4        1285     NYC Pension Funds to Divest Fossil Fuel Shares  2021-01-25   \n",
       "\n",
       "  author                                            content       domain  \\\n",
       "0    NaN  [\"Qatar Petroleum ( QP) is targeting aggressiv...  energyintel   \n",
       "1    NaN  [\"• Nuclear Power Corp. of India Ltd. ( NPCIL)...  energyintel   \n",
       "2    NaN  [\"New US President Joe Biden took office this ...  energyintel   \n",
       "3    NaN  [\"The slow pace of Japanese reactor restarts c...  energyintel   \n",
       "4    NaN  [\"Two of New York City's largest pension funds...  energyintel   \n",
       "\n",
       "                                                 url  \n",
       "0  https://www.energyintel.com/0000017b-a7dc-de4c...  \n",
       "1  https://www.energyintel.com/0000017b-a7dc-de4c...  \n",
       "2  https://www.energyintel.com/0000017b-a7dc-de4c...  \n",
       "3  https://www.energyintel.com/0000017b-a7dc-de4c...  \n",
       "4  https://www.energyintel.com/0000017b-a7dc-de4c...  "
      ],
      "text/html": [
       "<div>\n",
       "<style scoped>\n",
       "    .dataframe tbody tr th:only-of-type {\n",
       "        vertical-align: middle;\n",
       "    }\n",
       "\n",
       "    .dataframe tbody tr th {\n",
       "        vertical-align: top;\n",
       "    }\n",
       "\n",
       "    .dataframe thead th {\n",
       "        text-align: right;\n",
       "    }\n",
       "</style>\n",
       "<table border=\"1\" class=\"dataframe\">\n",
       "  <thead>\n",
       "    <tr style=\"text-align: right;\">\n",
       "      <th></th>\n",
       "      <th>Unnamed: 0</th>\n",
       "      <th>title</th>\n",
       "      <th>date</th>\n",
       "      <th>author</th>\n",
       "      <th>content</th>\n",
       "      <th>domain</th>\n",
       "      <th>url</th>\n",
       "    </tr>\n",
       "  </thead>\n",
       "  <tbody>\n",
       "    <tr>\n",
       "      <th>0</th>\n",
       "      <td>1280</td>\n",
       "      <td>Qatar to Slash Emissions as LNG Expansion Adva...</td>\n",
       "      <td>2021-01-13</td>\n",
       "      <td>NaN</td>\n",
       "      <td>[\"Qatar Petroleum ( QP) is targeting aggressiv...</td>\n",
       "      <td>energyintel</td>\n",
       "      <td>https://www.energyintel.com/0000017b-a7dc-de4c...</td>\n",
       "    </tr>\n",
       "    <tr>\n",
       "      <th>1</th>\n",
       "      <td>1281</td>\n",
       "      <td>India Launches Its First 700 MW PHWR</td>\n",
       "      <td>2021-01-15</td>\n",
       "      <td>NaN</td>\n",
       "      <td>[\"• Nuclear Power Corp. of India Ltd. ( NPCIL)...</td>\n",
       "      <td>energyintel</td>\n",
       "      <td>https://www.energyintel.com/0000017b-a7dc-de4c...</td>\n",
       "    </tr>\n",
       "    <tr>\n",
       "      <th>2</th>\n",
       "      <td>1283</td>\n",
       "      <td>New Chapter for US-China Energy Trade</td>\n",
       "      <td>2021-01-20</td>\n",
       "      <td>NaN</td>\n",
       "      <td>[\"New US President Joe Biden took office this ...</td>\n",
       "      <td>energyintel</td>\n",
       "      <td>https://www.energyintel.com/0000017b-a7dc-de4c...</td>\n",
       "    </tr>\n",
       "    <tr>\n",
       "      <th>3</th>\n",
       "      <td>1284</td>\n",
       "      <td>Japan: Slow Restarts Cast Doubt on 2030 Energy...</td>\n",
       "      <td>2021-01-22</td>\n",
       "      <td>NaN</td>\n",
       "      <td>[\"The slow pace of Japanese reactor restarts c...</td>\n",
       "      <td>energyintel</td>\n",
       "      <td>https://www.energyintel.com/0000017b-a7dc-de4c...</td>\n",
       "    </tr>\n",
       "    <tr>\n",
       "      <th>4</th>\n",
       "      <td>1285</td>\n",
       "      <td>NYC Pension Funds to Divest Fossil Fuel Shares</td>\n",
       "      <td>2021-01-25</td>\n",
       "      <td>NaN</td>\n",
       "      <td>[\"Two of New York City's largest pension funds...</td>\n",
       "      <td>energyintel</td>\n",
       "      <td>https://www.energyintel.com/0000017b-a7dc-de4c...</td>\n",
       "    </tr>\n",
       "  </tbody>\n",
       "</table>\n",
       "</div>"
      ]
     },
     "execution_count": 3,
     "metadata": {},
     "output_type": "execute_result"
    }
   ],
   "execution_count": 3
  },
  {
   "metadata": {
    "ExecuteTime": {
     "end_time": "2024-11-14T21:52:06.378289Z",
     "start_time": "2024-11-14T21:52:06.376064Z"
    }
   },
   "cell_type": "code",
   "source": "raw_data.shape",
   "id": "549c6ff0153735fe",
   "outputs": [
    {
     "data": {
      "text/plain": [
       "(9593, 7)"
      ]
     },
     "execution_count": 4,
     "metadata": {},
     "output_type": "execute_result"
    }
   ],
   "execution_count": 4
  },
  {
   "metadata": {
    "ExecuteTime": {
     "end_time": "2024-11-14T21:52:06.382827Z",
     "start_time": "2024-11-14T21:52:06.379976Z"
    }
   },
   "cell_type": "code",
   "source": [
    "# delete author col\n",
    "raw_data = raw_data.drop(columns=[\"author\"])"
   ],
   "id": "fe41b9580ef5ac8a",
   "outputs": [],
   "execution_count": 5
  },
  {
   "metadata": {
    "ExecuteTime": {
     "end_time": "2024-11-14T21:52:06.386136Z",
     "start_time": "2024-11-14T21:52:06.383580Z"
    }
   },
   "cell_type": "code",
   "source": [
    "# rename Unnamed: 0 to 'id'\n",
    "raw_data = raw_data.rename(columns={\"Unnamed: 0\": \"id\"})"
   ],
   "id": "8f4f37faaa6b417a",
   "outputs": [],
   "execution_count": 6
  },
  {
   "metadata": {
    "ExecuteTime": {
     "end_time": "2024-11-14T21:52:06.390990Z",
     "start_time": "2024-11-14T21:52:06.386967Z"
    }
   },
   "cell_type": "code",
   "source": "raw_data.head(5)",
   "id": "9bb275c08668593b",
   "outputs": [
    {
     "data": {
      "text/plain": [
       "     id                                              title        date  \\\n",
       "0  1280  Qatar to Slash Emissions as LNG Expansion Adva...  2021-01-13   \n",
       "1  1281               India Launches Its First 700 MW PHWR  2021-01-15   \n",
       "2  1283              New Chapter for US-China Energy Trade  2021-01-20   \n",
       "3  1284  Japan: Slow Restarts Cast Doubt on 2030 Energy...  2021-01-22   \n",
       "4  1285     NYC Pension Funds to Divest Fossil Fuel Shares  2021-01-25   \n",
       "\n",
       "                                             content       domain  \\\n",
       "0  [\"Qatar Petroleum ( QP) is targeting aggressiv...  energyintel   \n",
       "1  [\"• Nuclear Power Corp. of India Ltd. ( NPCIL)...  energyintel   \n",
       "2  [\"New US President Joe Biden took office this ...  energyintel   \n",
       "3  [\"The slow pace of Japanese reactor restarts c...  energyintel   \n",
       "4  [\"Two of New York City's largest pension funds...  energyintel   \n",
       "\n",
       "                                                 url  \n",
       "0  https://www.energyintel.com/0000017b-a7dc-de4c...  \n",
       "1  https://www.energyintel.com/0000017b-a7dc-de4c...  \n",
       "2  https://www.energyintel.com/0000017b-a7dc-de4c...  \n",
       "3  https://www.energyintel.com/0000017b-a7dc-de4c...  \n",
       "4  https://www.energyintel.com/0000017b-a7dc-de4c...  "
      ],
      "text/html": [
       "<div>\n",
       "<style scoped>\n",
       "    .dataframe tbody tr th:only-of-type {\n",
       "        vertical-align: middle;\n",
       "    }\n",
       "\n",
       "    .dataframe tbody tr th {\n",
       "        vertical-align: top;\n",
       "    }\n",
       "\n",
       "    .dataframe thead th {\n",
       "        text-align: right;\n",
       "    }\n",
       "</style>\n",
       "<table border=\"1\" class=\"dataframe\">\n",
       "  <thead>\n",
       "    <tr style=\"text-align: right;\">\n",
       "      <th></th>\n",
       "      <th>id</th>\n",
       "      <th>title</th>\n",
       "      <th>date</th>\n",
       "      <th>content</th>\n",
       "      <th>domain</th>\n",
       "      <th>url</th>\n",
       "    </tr>\n",
       "  </thead>\n",
       "  <tbody>\n",
       "    <tr>\n",
       "      <th>0</th>\n",
       "      <td>1280</td>\n",
       "      <td>Qatar to Slash Emissions as LNG Expansion Adva...</td>\n",
       "      <td>2021-01-13</td>\n",
       "      <td>[\"Qatar Petroleum ( QP) is targeting aggressiv...</td>\n",
       "      <td>energyintel</td>\n",
       "      <td>https://www.energyintel.com/0000017b-a7dc-de4c...</td>\n",
       "    </tr>\n",
       "    <tr>\n",
       "      <th>1</th>\n",
       "      <td>1281</td>\n",
       "      <td>India Launches Its First 700 MW PHWR</td>\n",
       "      <td>2021-01-15</td>\n",
       "      <td>[\"• Nuclear Power Corp. of India Ltd. ( NPCIL)...</td>\n",
       "      <td>energyintel</td>\n",
       "      <td>https://www.energyintel.com/0000017b-a7dc-de4c...</td>\n",
       "    </tr>\n",
       "    <tr>\n",
       "      <th>2</th>\n",
       "      <td>1283</td>\n",
       "      <td>New Chapter for US-China Energy Trade</td>\n",
       "      <td>2021-01-20</td>\n",
       "      <td>[\"New US President Joe Biden took office this ...</td>\n",
       "      <td>energyintel</td>\n",
       "      <td>https://www.energyintel.com/0000017b-a7dc-de4c...</td>\n",
       "    </tr>\n",
       "    <tr>\n",
       "      <th>3</th>\n",
       "      <td>1284</td>\n",
       "      <td>Japan: Slow Restarts Cast Doubt on 2030 Energy...</td>\n",
       "      <td>2021-01-22</td>\n",
       "      <td>[\"The slow pace of Japanese reactor restarts c...</td>\n",
       "      <td>energyintel</td>\n",
       "      <td>https://www.energyintel.com/0000017b-a7dc-de4c...</td>\n",
       "    </tr>\n",
       "    <tr>\n",
       "      <th>4</th>\n",
       "      <td>1285</td>\n",
       "      <td>NYC Pension Funds to Divest Fossil Fuel Shares</td>\n",
       "      <td>2021-01-25</td>\n",
       "      <td>[\"Two of New York City's largest pension funds...</td>\n",
       "      <td>energyintel</td>\n",
       "      <td>https://www.energyintel.com/0000017b-a7dc-de4c...</td>\n",
       "    </tr>\n",
       "  </tbody>\n",
       "</table>\n",
       "</div>"
      ]
     },
     "execution_count": 7,
     "metadata": {},
     "output_type": "execute_result"
    }
   ],
   "execution_count": 7
  },
  {
   "metadata": {
    "ExecuteTime": {
     "end_time": "2024-11-14T21:53:21.531426Z",
     "start_time": "2024-11-14T21:52:08.215913Z"
    }
   },
   "cell_type": "code",
   "source": [
    "from src.preprocess import TextPreprocessor\n",
    "\n",
    "tp = TextPreprocessor(raw_data, \"content\")\n",
    "\n",
    "cleaned_data = tp.preprocess_data()\n",
    "\n",
    "tp.add_unique_id()"
   ],
   "id": "49055b5553f02d24",
   "outputs": [
    {
     "name": "stderr",
     "output_type": "stream",
     "text": [
      "100%|██████████| 9593/9593 [01:10<00:00, 135.85it/s]\n",
      "100%|██████████| 9589/9589 [00:02<00:00, 4265.96it/s]\n"
     ]
    },
    {
     "data": {
      "text/plain": [
       "                                    id  \\\n",
       "0     92151dc1d9bfd38bf55079fd769ba2bb   \n",
       "1     9f0a279c373edf56b634cf6dd1e38698   \n",
       "2     7c349533119a90fa56515421e69c0e45   \n",
       "3     5acd9a610210fdf0afd261c35b1fe287   \n",
       "4     2159fa0bb2c86e538844a6307bb9b677   \n",
       "...                                ...   \n",
       "9588  237dbe84d31e0913fa60adad838f6ed5   \n",
       "9589  dfbc6cbe8872d1655d0b28d671a94260   \n",
       "9590  36f89d36130ca74503d7e841a6a17d93   \n",
       "9591  54101834542d8b996a1c3533eed67176   \n",
       "9592  d777c2b12ef6d04dc996e8f0bf2b0d1c   \n",
       "\n",
       "                                                  title        date  \\\n",
       "0     Qatar to Slash Emissions as LNG Expansion Adva...  2021-01-13   \n",
       "1                  India Launches Its First 700 MW PHWR  2021-01-15   \n",
       "2                 New Chapter for US-China Energy Trade  2021-01-20   \n",
       "3     Japan: Slow Restarts Cast Doubt on 2030 Energy...  2021-01-22   \n",
       "4        NYC Pension Funds to Divest Fossil Fuel Shares  2021-01-25   \n",
       "...                                                 ...         ...   \n",
       "9588  Strata Clean Energy Nets $ 300 Million in Fund...  2023-11-06   \n",
       "9589  Orsted Deploying SparkCognition Renewable Suit...  2023-11-07   \n",
       "9590     Veolia Has Plans for 5 MW of Solar in Arkansas  2023-11-07   \n",
       "9591                      SunEdison: Too Big, Too Fast?  2023-11-08   \n",
       "9592  Vikings Solar-Plus-Storage Development Nets Fi...  2023-11-08   \n",
       "\n",
       "                                                content            domain  \\\n",
       "0     Qatar Petroleum QP is targeting aggressive cut...       energyintel   \n",
       "1     Nuclear Power Corp. of India Ltd. NPCIL synchr...       energyintel   \n",
       "2     New US President Joe Biden took office this we...       energyintel   \n",
       "3     The slow pace of Japanese reactor restarts con...       energyintel   \n",
       "4     Two of New York City s largest pension funds s...       energyintel   \n",
       "...                                                 ...               ...   \n",
       "9588  Strata Clean Energy has closed a 300 million r...  solarindustrymag   \n",
       "9589  Global renewable energy developer rsted is dep...  solarindustrymag   \n",
       "9590  Veolia North America, a provider of environmen...  solarindustrymag   \n",
       "9591  Once the self proclaimed leading renewable pow...  solarindustrymag   \n",
       "9592  Arevon Energy Inc. has closed financing on the...  solarindustrymag   \n",
       "\n",
       "                                                    url  \n",
       "0     https://www.energyintel.com/0000017b-a7dc-de4c...  \n",
       "1     https://www.energyintel.com/0000017b-a7dc-de4c...  \n",
       "2     https://www.energyintel.com/0000017b-a7dc-de4c...  \n",
       "3     https://www.energyintel.com/0000017b-a7dc-de4c...  \n",
       "4     https://www.energyintel.com/0000017b-a7dc-de4c...  \n",
       "...                                                 ...  \n",
       "9588  https://solarindustrymag.com/strata-clean-ener...  \n",
       "9589  https://solarindustrymag.com/orsted-deploying-...  \n",
       "9590  https://solarindustrymag.com/veolia-has-plans-...  \n",
       "9591  http://www.solarindustrymag.com/online/issues/...  \n",
       "9592  https://solarindustrymag.com/vikings-solar-plu...  \n",
       "\n",
       "[9584 rows x 6 columns]"
      ],
      "text/html": [
       "<div>\n",
       "<style scoped>\n",
       "    .dataframe tbody tr th:only-of-type {\n",
       "        vertical-align: middle;\n",
       "    }\n",
       "\n",
       "    .dataframe tbody tr th {\n",
       "        vertical-align: top;\n",
       "    }\n",
       "\n",
       "    .dataframe thead th {\n",
       "        text-align: right;\n",
       "    }\n",
       "</style>\n",
       "<table border=\"1\" class=\"dataframe\">\n",
       "  <thead>\n",
       "    <tr style=\"text-align: right;\">\n",
       "      <th></th>\n",
       "      <th>id</th>\n",
       "      <th>title</th>\n",
       "      <th>date</th>\n",
       "      <th>content</th>\n",
       "      <th>domain</th>\n",
       "      <th>url</th>\n",
       "    </tr>\n",
       "  </thead>\n",
       "  <tbody>\n",
       "    <tr>\n",
       "      <th>0</th>\n",
       "      <td>92151dc1d9bfd38bf55079fd769ba2bb</td>\n",
       "      <td>Qatar to Slash Emissions as LNG Expansion Adva...</td>\n",
       "      <td>2021-01-13</td>\n",
       "      <td>Qatar Petroleum QP is targeting aggressive cut...</td>\n",
       "      <td>energyintel</td>\n",
       "      <td>https://www.energyintel.com/0000017b-a7dc-de4c...</td>\n",
       "    </tr>\n",
       "    <tr>\n",
       "      <th>1</th>\n",
       "      <td>9f0a279c373edf56b634cf6dd1e38698</td>\n",
       "      <td>India Launches Its First 700 MW PHWR</td>\n",
       "      <td>2021-01-15</td>\n",
       "      <td>Nuclear Power Corp. of India Ltd. NPCIL synchr...</td>\n",
       "      <td>energyintel</td>\n",
       "      <td>https://www.energyintel.com/0000017b-a7dc-de4c...</td>\n",
       "    </tr>\n",
       "    <tr>\n",
       "      <th>2</th>\n",
       "      <td>7c349533119a90fa56515421e69c0e45</td>\n",
       "      <td>New Chapter for US-China Energy Trade</td>\n",
       "      <td>2021-01-20</td>\n",
       "      <td>New US President Joe Biden took office this we...</td>\n",
       "      <td>energyintel</td>\n",
       "      <td>https://www.energyintel.com/0000017b-a7dc-de4c...</td>\n",
       "    </tr>\n",
       "    <tr>\n",
       "      <th>3</th>\n",
       "      <td>5acd9a610210fdf0afd261c35b1fe287</td>\n",
       "      <td>Japan: Slow Restarts Cast Doubt on 2030 Energy...</td>\n",
       "      <td>2021-01-22</td>\n",
       "      <td>The slow pace of Japanese reactor restarts con...</td>\n",
       "      <td>energyintel</td>\n",
       "      <td>https://www.energyintel.com/0000017b-a7dc-de4c...</td>\n",
       "    </tr>\n",
       "    <tr>\n",
       "      <th>4</th>\n",
       "      <td>2159fa0bb2c86e538844a6307bb9b677</td>\n",
       "      <td>NYC Pension Funds to Divest Fossil Fuel Shares</td>\n",
       "      <td>2021-01-25</td>\n",
       "      <td>Two of New York City s largest pension funds s...</td>\n",
       "      <td>energyintel</td>\n",
       "      <td>https://www.energyintel.com/0000017b-a7dc-de4c...</td>\n",
       "    </tr>\n",
       "    <tr>\n",
       "      <th>...</th>\n",
       "      <td>...</td>\n",
       "      <td>...</td>\n",
       "      <td>...</td>\n",
       "      <td>...</td>\n",
       "      <td>...</td>\n",
       "      <td>...</td>\n",
       "    </tr>\n",
       "    <tr>\n",
       "      <th>9588</th>\n",
       "      <td>237dbe84d31e0913fa60adad838f6ed5</td>\n",
       "      <td>Strata Clean Energy Nets $ 300 Million in Fund...</td>\n",
       "      <td>2023-11-06</td>\n",
       "      <td>Strata Clean Energy has closed a 300 million r...</td>\n",
       "      <td>solarindustrymag</td>\n",
       "      <td>https://solarindustrymag.com/strata-clean-ener...</td>\n",
       "    </tr>\n",
       "    <tr>\n",
       "      <th>9589</th>\n",
       "      <td>dfbc6cbe8872d1655d0b28d671a94260</td>\n",
       "      <td>Orsted Deploying SparkCognition Renewable Suit...</td>\n",
       "      <td>2023-11-07</td>\n",
       "      <td>Global renewable energy developer rsted is dep...</td>\n",
       "      <td>solarindustrymag</td>\n",
       "      <td>https://solarindustrymag.com/orsted-deploying-...</td>\n",
       "    </tr>\n",
       "    <tr>\n",
       "      <th>9590</th>\n",
       "      <td>36f89d36130ca74503d7e841a6a17d93</td>\n",
       "      <td>Veolia Has Plans for 5 MW of Solar in Arkansas</td>\n",
       "      <td>2023-11-07</td>\n",
       "      <td>Veolia North America, a provider of environmen...</td>\n",
       "      <td>solarindustrymag</td>\n",
       "      <td>https://solarindustrymag.com/veolia-has-plans-...</td>\n",
       "    </tr>\n",
       "    <tr>\n",
       "      <th>9591</th>\n",
       "      <td>54101834542d8b996a1c3533eed67176</td>\n",
       "      <td>SunEdison: Too Big, Too Fast?</td>\n",
       "      <td>2023-11-08</td>\n",
       "      <td>Once the self proclaimed leading renewable pow...</td>\n",
       "      <td>solarindustrymag</td>\n",
       "      <td>http://www.solarindustrymag.com/online/issues/...</td>\n",
       "    </tr>\n",
       "    <tr>\n",
       "      <th>9592</th>\n",
       "      <td>d777c2b12ef6d04dc996e8f0bf2b0d1c</td>\n",
       "      <td>Vikings Solar-Plus-Storage Development Nets Fi...</td>\n",
       "      <td>2023-11-08</td>\n",
       "      <td>Arevon Energy Inc. has closed financing on the...</td>\n",
       "      <td>solarindustrymag</td>\n",
       "      <td>https://solarindustrymag.com/vikings-solar-plu...</td>\n",
       "    </tr>\n",
       "  </tbody>\n",
       "</table>\n",
       "<p>9584 rows × 6 columns</p>\n",
       "</div>"
      ]
     },
     "execution_count": 8,
     "metadata": {},
     "output_type": "execute_result"
    }
   ],
   "execution_count": 8
  },
  {
   "metadata": {
    "ExecuteTime": {
     "end_time": "2024-11-14T22:03:52.638459Z",
     "start_time": "2024-11-14T22:03:52.509155Z"
    }
   },
   "cell_type": "code",
   "source": [
    "import os\n",
    "\n",
    "if os.path.exists(\"../data/preprocessed\"):\n",
    "    cleaned_data.to_parquet(\"data/preprocessed/clean_cleantech.parquet\")\n",
    "else:\n",
    "    os.makedirs(\"../data/preprocessed\")\n",
    "    cleaned_data.to_parquet(\"data/preprocessed/clean_cleantech.parquet\")"
   ],
   "id": "7ac08527530d9d2b",
   "outputs": [],
   "execution_count": 13
  }
 ],
 "metadata": {
  "kernelspec": {
   "display_name": "Python 3",
   "language": "python",
   "name": "python3"
  },
  "language_info": {
   "codemirror_mode": {
    "name": "ipython",
    "version": 2
   },
   "file_extension": ".py",
   "mimetype": "text/x-python",
   "name": "python",
   "nbconvert_exporter": "python",
   "pygments_lexer": "ipython2",
   "version": "2.7.6"
  }
 },
 "nbformat": 4,
 "nbformat_minor": 5
}

