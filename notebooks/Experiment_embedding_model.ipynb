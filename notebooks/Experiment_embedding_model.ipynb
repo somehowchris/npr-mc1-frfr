{
 "cells": [
  {
   "metadata": {
    "ExecuteTime": {
     "end_time": "2024-11-20T14:01:02.840101Z",
     "start_time": "2024-11-20T14:01:02.102704Z"
    }
   },
   "cell_type": "code",
   "source": [
    "from src.config import CACHE_DIR\n",
    "from src.custom_embeddings import bge_m3_embed, qwen2_embed, nomic_embed\n",
    "from src.vectorstorage import EmbeddingVectorStorage\n",
    "\n",
    "print(f\"Cache directory: {CACHE_DIR}\")"
   ],
   "id": "f448fc9daf2c2e78",
   "outputs": [
    {
     "name": "stdout",
     "output_type": "stream",
     "text": [
      "Cache directory: /Users/arian/Documents/FHNW/npr/npr_hs_24/npr_mc1_new_hs24/npr-mc1-frfr/data/cache\n"
     ]
    }
   ],
   "execution_count": 1
  },
  {
   "metadata": {
    "ExecuteTime": {
     "end_time": "2024-11-20T14:01:03.571211Z",
     "start_time": "2024-11-20T14:01:03.479425Z"
    }
   },
   "cell_type": "code",
   "source": [
    "# BAAI_bge_m3_RecursiveCharacterTextSplitter\n",
    "# Alibaba-NLP_gte-Qwen2-7B_RecursiveCharacterTextSplitter\n",
    "# nomic-ai_nomic-embed-text-v1_5_RecursiveCharacterTextSplitter\n",
    "\n",
    "collection_name = \"BAAI_bge_m3_RecursiveCharacterTextSplitter\" \n",
    "path_persistent = \"../data/chroma\"\n",
    "\n",
    "# Reload the vector store\n",
    "bge_m3_vectordb = EmbeddingVectorStorage(\n",
    "    method_of_embedding=bge_m3_embed,\n",
    "    collection=collection_name,\n",
    "    path_persistent=path_persistent\n",
    ")\n",
    "\n",
    "print(bge_m3_vectordb.test_heartbeat())  # Check if the Chroma client is active\n",
    "print(bge_m3_vectordb.collection_is_empty())  # Check if the collection is empty"
   ],
   "id": "9812c01c15364c2f",
   "outputs": [
    {
     "name": "stdout",
     "output_type": "stream",
     "text": [
      "1732111263561074000\n",
      "False\n"
     ]
    }
   ],
   "execution_count": 2
  },
  {
   "metadata": {
    "ExecuteTime": {
     "end_time": "2024-11-20T14:01:10.251390Z",
     "start_time": "2024-11-20T14:01:10.088365Z"
    }
   },
   "cell_type": "code",
   "source": [
    "from langchain.chains import RetrievalQA\n",
    "from langchain_ollama import OllamaLLM\n",
    "\n",
    "qwen2_5_3B = 'qwen2.5:3b-instruct-q4_0'\n",
    "\n",
    "basic_retriever = bge_m3_vectordb.as_retriever()\n",
    "local_llm_model = OllamaLLM(model=qwen2_5_3B)"
   ],
   "id": "1ef291a758574f4b",
   "outputs": [],
   "execution_count": 3
  },
  {
   "metadata": {},
   "cell_type": "code",
   "source": [
    "from langchain import hub\n",
    "from langchain_core.output_parsers import StrOutputParser\n",
    "from langchain_core.runnables import RunnablePassthrough, RunnableParallel\n",
    "from dotenv import load_dotenv\n",
    "\n",
    "load_dotenv()\n",
    "\n",
    "# https://python.langchain.com/v0.1/docs/use_cases/question_answering/sources/\n",
    "# prompt: https://smith.langchain.com/hub/rlm/rag-prompt?organizationId=2d6cd9b7-5b49-44db-a523-a13c23f12f29\n",
    "basic_prompt = hub.pull(\"rlm/rag-prompt\")\n",
    "\n",
    "\n",
    "def format_docs(docs):\n",
    "    return \"\\n\\n\".join(doc.page_content for doc in docs)\n",
    "\n",
    "rag_chain_from_docs = (\n",
    "    RunnablePassthrough.assign(context=(lambda x: format_docs(x[\"context\"])))\n",
    "    | basic_prompt\n",
    "    | local_llm_model\n",
    "    | StrOutputParser()\n",
    ")\n",
    "\n",
    "basic_rag_chain = RunnableParallel(\n",
    "    {\"context\": basic_retriever, \"question\": RunnablePassthrough()}\n",
    ").assign(answer=rag_chain_from_docs)\n",
    "\n",
    "basic_rag_chain.invoke(\"The company is also aiming to reduce gas flaring?\")"
   ],
   "id": "a5ea247f06e06782",
   "outputs": [],
   "execution_count": null
  },
  {
   "metadata": {},
   "cell_type": "code",
   "source": [
    "from langchain_openai import ChatOpenAI\n",
    "from src.evaluation import RAGEvaluation\n",
    "\n",
    "# Initialize the class\n",
    "openai_llm_model = ChatOpenAI(model=\"gpt-4o-mini\")"
   ],
   "id": "fb715af18b489c30",
   "outputs": [],
   "execution_count": null
  },
  {
   "metadata": {},
   "cell_type": "code",
   "source": [
    "evaluator = RAGEvaluation(\n",
    "    name=\"Baseline\",\n",
    "    rag_chain=basic_rag_chain,\n",
    "    llm_model=openai_llm_model,\n",
    "    embeddings=bge_m3_embed\n",
    ")\n",
    "\n",
    "clean_file_path='../data/preprocessed/clean_cleantech.parquet'\n",
    "eval_file_path='../data/eval_dataset/cleantech_rag_evaluation_data_2024-09-20.csv'\n",
    "\n",
    "# Perform evaluation\n",
    "results = evaluator.evaluate(clean_file_path, eval_file_path, bge_m3_vectordb)"
   ],
   "id": "a7299fb20f31a3cd",
   "outputs": [],
   "execution_count": null
  },
  {
   "metadata": {},
   "cell_type": "code",
   "source": "evaluator.plot_results_all(results, results)",
   "id": "e8f017663eb91beb",
   "outputs": [],
   "execution_count": null
  },
  {
   "metadata": {},
   "cell_type": "code",
   "source": "evaluator.plot_eval_result(results)",
   "id": "10e18153576abd3",
   "outputs": [],
   "execution_count": null
  },
  {
   "metadata": {},
   "cell_type": "code",
   "source": "",
   "id": "cbab6ee222e58c2c",
   "outputs": [],
   "execution_count": null
  }
 ],
 "metadata": {
  "kernelspec": {
   "display_name": "Python 3",
   "language": "python",
   "name": "python3"
  },
  "language_info": {
   "codemirror_mode": {
    "name": "ipython",
    "version": 2
   },
   "file_extension": ".py",
   "mimetype": "text/x-python",
   "name": "python",
   "nbconvert_exporter": "python",
   "pygments_lexer": "ipython2",
   "version": "2.7.6"
  }
 },
 "nbformat": 4,
 "nbformat_minor": 5
}
