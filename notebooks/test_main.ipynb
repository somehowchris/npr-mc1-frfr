{
 "cells": [
  {
   "metadata": {
    "ExecuteTime": {
     "end_time": "2024-11-20T10:27:59.982405Z",
     "start_time": "2024-11-20T10:27:59.224719Z"
    }
   },
   "cell_type": "code",
   "source": [
    "from src.custom_embeddings import bge_m3_embed, qwen2_embed, nomic_embed\n",
    "from src.vectorstorage import EmbeddingVectorStorage"
   ],
   "id": "fce52395cf0ce649",
   "outputs": [],
   "execution_count": 1
  },
  {
   "metadata": {
    "ExecuteTime": {
     "end_time": "2024-11-20T10:28:00.601973Z",
     "start_time": "2024-11-20T10:28:00.533176Z"
    }
   },
   "cell_type": "code",
   "source": [
    "# BAAI_bge_m3_RecursiveCharacterTextSplitter\n",
    "# Alibaba-NLP_gte-Qwen2-7B_RecursiveCharacterTextSplitter\n",
    "# nomic-ai_nomic-embed-text-v1_5_RecursiveCharacterTextSplitter\n",
    "\n",
    "collection_name = \"BAAI_bge_m3_RecursiveCharacterTextSplitter\"\n",
    "path_persistent = \"./data/chroma\"\n",
    "\n",
    "# Reload the vector store\n",
    "bge_m3_vectordb = EmbeddingVectorStorage(\n",
    "    method_of_embedding=bge_m3_embed,\n",
    "    collection=collection_name,\n",
    "    path_persistent=path_persistent,\n",
    ")\n",
    "\n",
    "print(bge_m3_vectordb.test_heartbeat())  # Check if the Chroma client is active\n",
    "print(bge_m3_vectordb.collection_is_empty())  # Check if the collection is empty"
   ],
   "id": "b7280dc8bb9d071b",
   "outputs": [
    {
     "name": "stdout",
     "output_type": "stream",
     "text": [
      "1732098480595127000\n",
      "True\n"
     ]
    }
   ],
   "execution_count": 2
  },
  {
   "metadata": {},
   "cell_type": "code",
   "source": [
    "from langchain.chains import RetrievalQA\n",
    "from langchain_ollama import OllamaLLM\n",
    "\n",
    "qwen2_5_7B = \"qwen2.5:7b-instruct-q4_0\"\n",
    "qwen2_5_0_5B = \"qwen2.5:0.5b-instruct-q4_0\"\n",
    "qwen2_5_14B = \"qwen2.5:14b-instruct-q4_0\"\n",
    "qwen2_5_3B = \"qwen2.5:3b-instruct-q4_0\"\n",
    "\n",
    "basic_retriever = bge_m3_vectordb.as_retriever()\n",
    "local_llm_model = OllamaLLM(model=qwen2_5_3B)"
   ],
   "id": "c99ee5acd9827e79",
   "outputs": [],
   "execution_count": null
  },
  {
   "metadata": {},
   "cell_type": "code",
   "source": [
    "from langchain import hub\n",
    "from langchain_core.output_parsers import StrOutputParser\n",
    "from langchain_core.runnables import RunnablePassthrough, RunnableParallel\n",
    "from dotenv import load_dotenv\n",
    "\n",
    "load_dotenv()\n",
    "\n",
    "# https://python.langchain.com/v0.1/docs/use_cases/question_answering/sources/\n",
    "# prompt: https://smith.langchain.com/hub/rlm/rag-prompt?organizationId=2d6cd9b7-5b49-44db-a523-a13c23f12f29\n",
    "basic_prompt = hub.pull(\"rlm/rag-prompt\")\n",
    "\n",
    "\n",
    "def format_docs(docs):\n",
    "    return \"\\n\\n\".join(doc.page_content for doc in docs)\n",
    "\n",
    "\n",
    "rag_chain_from_docs = (\n",
    "    RunnablePassthrough.assign(context=(lambda x: format_docs(x[\"context\"])))\n",
    "    | basic_prompt\n",
    "    | local_llm_model\n",
    "    | StrOutputParser()\n",
    ")\n",
    "\n",
    "basic_rag_chain = RunnableParallel(\n",
    "    {\"context\": basic_retriever, \"question\": RunnablePassthrough()}\n",
    ").assign(answer=rag_chain_from_docs)\n",
    "\n",
    "basic_rag_chain.invoke(\"The company is also aiming to reduce gas flaring?\")"
   ],
   "id": "c6607e0d7bdf7348",
   "outputs": [],
   "execution_count": null
  },
  {
   "metadata": {},
   "cell_type": "code",
   "source": [
    "from langchain_openai import ChatOpenAI\n",
    "from src.evaluation import RAGEvaluation\n",
    "\n",
    "# Initialize the class\n",
    "openai_llm_model = ChatOpenAI(model=\"gpt-4o-mini\")"
   ],
   "id": "921576b5775e8b08",
   "outputs": [],
   "execution_count": null
  },
  {
   "metadata": {},
   "cell_type": "code",
   "source": [
    "evaluator = RAGEvaluation(\n",
    "    name=\"Baseline\",\n",
    "    rag_chain=basic_rag_chain,\n",
    "    llm_model=openai_llm_model,\n",
    "    embeddings=bge_m3_embed,\n",
    ")\n",
    "\n",
    "clean_file_path = \"data/preprocessed/clean_cleantech.parquet\"\n",
    "eval_file_path = \"data/eval_dataset/cleantech_rag_evaluation_data_2024-09-20.csv\"\n",
    "\n",
    "# Perform evaluation\n",
    "results = evaluator.evaluate(clean_file_path, eval_file_path)"
   ],
   "id": "59a3f0e0e6ff887e",
   "outputs": [],
   "execution_count": null
  },
  {
   "metadata": {},
   "cell_type": "code",
   "source": [
    "# Plot results directly from the DataFrame\n",
    "evaluator.plot_eval_result(results)"
   ],
   "id": "ed2215fb3311b2a9",
   "outputs": [],
   "execution_count": null
  },
  {
   "metadata": {},
   "cell_type": "code",
   "source": "",
   "id": "530047006f6bbfac",
   "outputs": [],
   "execution_count": null
  }
 ],
 "metadata": {
  "kernelspec": {
   "display_name": "Python 3",
   "language": "python",
   "name": "python3"
  },
  "language_info": {
   "codemirror_mode": {
    "name": "ipython",
    "version": 2
   },
   "file_extension": ".py",
   "mimetype": "text/x-python",
   "name": "python",
   "nbconvert_exporter": "python",
   "pygments_lexer": "ipython2",
   "version": "2.7.6"
  }
 },
 "nbformat": 4,
 "nbformat_minor": 5
}
